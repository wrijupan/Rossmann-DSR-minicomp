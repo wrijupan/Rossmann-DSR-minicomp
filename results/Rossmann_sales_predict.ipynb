{
 "cells": [
  {
   "cell_type": "markdown",
   "metadata": {},
   "source": [
    "# Rossmann Store Sales Prediction\n",
    "### Contributors : \n",
    "Niklas Hübel, Wrijupan Bhattacharyya, Magdalena Blum-Oeste\n",
    "\n",
    "### Task\n",
    "\n",
    "The task of this notebook is to predict the Store sales of Rossmann. It was developed for a mini-competition for the Data Science Retreat bootcamp.\n",
    "\n",
    "The Sales are effected by various factors including whether a Promo is currently ongoing, number of Customers, competitors nearby, holidays etc.\n",
    "\n",
    "### Table of contents\n",
    "\n",
    "The following topics will be covered in this project:\n",
    "#### 1. Data importing\n",
    "#### 2. Exploratory data analysis (put notebook link>)\n",
    "#### 3. Dealing with missing values\n",
    "#### 4. Removal of outliers\n",
    "#### 5. Feature engineering\n",
    "#### 6. Feature selection and scaling\n",
    "#### 7. Model building\n",
    "    A. Lasso Regression\n",
    "    B. Random Forest\n",
    "    C. XGBoost\n",
    "#### 8. Model evaluation"
   ]
  },
  {
   "cell_type": "markdown",
   "metadata": {},
   "source": [
    "# Import libraries"
   ]
  },
  {
   "cell_type": "code",
   "execution_count": 1,
   "metadata": {},
   "outputs": [],
   "source": [
    "import pandas as pd\n",
    "import numpy as np\n",
    "\n",
    "from collections import Counter\n",
    "import holidays\n",
    "import sys\n",
    "\n",
    "\n",
    "from sklearn.preprocessing import StandardScaler, MinMaxScaler, RobustScaler\n",
    "from sklearn.decomposition import PCA\n",
    "from sklearn.compose import ColumnTransformer\n",
    "from sklearn.model_selection import train_test_split, cross_val_score, RandomizedSearchCV\n",
    "from sklearn.ensemble import RandomForestRegressor, VotingRegressor\n",
    "from sklearn.linear_model import Lasso\n",
    "from sklearn.svm import SVR\n",
    "import xgboost as xgb\n",
    "from sklearn.pipeline import Pipeline\n",
    "\n",
    "import matplotlib.pyplot as plt\n",
    "import seaborn as sns\n",
    "%matplotlib inline"
   ]
  },
  {
   "cell_type": "code",
   "execution_count": 2,
   "metadata": {},
   "outputs": [],
   "source": [
    "# Append path for importing the helper function\n",
    "# from inside the 'src' directory\n",
    "#sys.path += ['./feature_extraction', './utils', '../src']\n",
    "sys.path += ['../src']\n",
    "from feature_engineering import *\n",
    "from feature_scaling import *\n",
    "from outliers import *\n",
    "from utils import *\n",
    "from helperFunctions import *"
   ]
  },
  {
   "cell_type": "markdown",
   "metadata": {},
   "source": [
    "# 1. Load input data\n",
    "## 1.1 Load and merge data"
   ]
  },
  {
   "cell_type": "code",
   "execution_count": 3,
   "metadata": {},
   "outputs": [
    {
     "name": "stderr",
     "output_type": "stream",
     "text": [
      "/Users/apple/miniconda3/envs/cta-dev/lib/python3.8/site-packages/IPython/core/interactiveshell.py:3062: DtypeWarning: Columns (7) have mixed types.Specify dtype option on import or set low_memory=False.\n",
      "  has_raised = await self.run_ast_nodes(code_ast.body, cell_name,\n"
     ]
    }
   ],
   "source": [
    "train = pd.read_csv(\"../data/train.csv\")\n",
    "test = pd.read_csv(\"../data/holdout.csv\")\n",
    "\n",
    "store = pd.read_csv(\"../data/store.csv\")\n",
    "data_train = pd.merge(store, train, on='Store', how='left')\n",
    "data_test = pd.merge(store, train, on='Store', how='left')"
   ]
  },
  {
   "cell_type": "markdown",
   "metadata": {},
   "source": [
    "## 1.2 Convert 'Date' column and generate generic date features\n"
   ]
  },
  {
   "cell_type": "code",
   "execution_count": 4,
   "metadata": {},
   "outputs": [],
   "source": [
    "data_train.loc[:, 'Date'] = pd.to_datetime(data_train.loc[:, 'Date'])\n",
    "data_train.loc[:, 'Month'] = data_train['Date'].dt.month\n",
    "data_train.loc[:, 'DayOfMonth'] = data_train['Date'].dt.day\n",
    "data_train.loc[:, 'Year'] = data_train['Date'].dt.year\n",
    "data_train.loc[:, 'DayOfWeek'] = data_train['Date'].dt.dayofweek\n",
    "data_train.loc[:, 'WeekOfYear'] = data_train['Date'].dt.weekofyear\n",
    "\n",
    "data_test.loc[:, 'Date'] = pd.to_datetime(data_test.loc[:, 'Date'])\n",
    "data_test.loc[:, 'Month'] = data_test['Date'].dt.month\n",
    "data_test.loc[:,'DayOfMonth'] = data_test['Date'].dt.day\n",
    "data_test.loc[:,'Year'] = data_test['Date'].dt.year\n",
    "data_test.loc[:,'DayOfWeek'] = data_test['Date'].dt.dayofweek\n",
    "data_test.loc[:,'WeekOfYear'] = data_test['Date'].dt.weekofyear"
   ]
  },
  {
   "cell_type": "markdown",
   "metadata": {},
   "source": [
    "## 1.3 Drop rows based on 'Sales' column \n",
    "#### Drop rows with value zero"
   ]
  },
  {
   "cell_type": "code",
   "execution_count": 5,
   "metadata": {},
   "outputs": [
    {
     "name": "stdout",
     "output_type": "stream",
     "text": [
      "Drop 102652 rows, keep 515821\n",
      "Drop 121097 rows, keep 497376\n"
     ]
    }
   ],
   "source": [
    "zero_sales = data_train.Sales == 0\n",
    "data_train = data_train.loc[~zero_sales]\n",
    "print(f'Drop {sum(zero_sales)} rows, keep {data_train.shape[0]}')\n",
    "\n",
    "zero_sales = data_test.Sales == 0\n",
    "missing_sales = data_test.Sales.isnull()\n",
    "data_test = data_test.loc[~(zero_sales|missing_sales)]\n",
    "print(f'Drop {sum(zero_sales|missing_sales)} rows, keep {data_test.shape[0]}')"
   ]
  },
  {
   "cell_type": "markdown",
   "metadata": {},
   "source": [
    "## 1.4 Remove erroneous data\n",
    "#### Drop row with nonzero sales despite being closed"
   ]
  },
  {
   "cell_type": "code",
   "execution_count": 6,
   "metadata": {},
   "outputs": [],
   "source": [
    "data_train = closed_sales(data_train)\n",
    "data_test = closed_sales(data_train)"
   ]
  },
  {
   "cell_type": "markdown",
   "metadata": {},
   "source": [
    "## 1.5 Compute 'Sales_per_customer' column\n",
    "#### Compute sales per customer for each store from training set data"
   ]
  },
  {
   "cell_type": "code",
   "execution_count": 7,
   "metadata": {},
   "outputs": [],
   "source": [
    "group = data_train.groupby(by='Store').agg({'Sales': 'mean', 'Customers': 'mean'})\n",
    "group['Sales_per_customer'] = group['Sales'] / group['Customers']"
   ]
  },
  {
   "cell_type": "markdown",
   "metadata": {},
   "source": [
    "#### Map sales per customer to training and test set"
   ]
  },
  {
   "cell_type": "code",
   "execution_count": 8,
   "metadata": {},
   "outputs": [],
   "source": [
    "data_train['Sales_per_customer'] = data_train['Store'].map(group['Sales_per_customer'])\n",
    "data_test['Sales_per_customer'] = data_test['Store'].map(group['Sales_per_customer'])"
   ]
  },
  {
   "cell_type": "markdown",
   "metadata": {},
   "source": [
    "## 1.6 Compute 'Customers_per_store' column\n",
    "#### Compute customers per store for each store from training set data"
   ]
  },
  {
   "cell_type": "code",
   "execution_count": 9,
   "metadata": {},
   "outputs": [],
   "source": [
    "group = data_train.groupby('Store').agg({'Customers': 'mean'})"
   ]
  },
  {
   "cell_type": "markdown",
   "metadata": {},
   "source": [
    "#### Map customers per store to training and test set"
   ]
  },
  {
   "cell_type": "code",
   "execution_count": 10,
   "metadata": {},
   "outputs": [],
   "source": [
    "data_train['Customer_per_store'] = data_train['Store'].map(group['Customers'])\n",
    "data_test['Customer_per_store'] = data_test['Store'].map(group['Customers'])"
   ]
  },
  {
   "cell_type": "markdown",
   "metadata": {},
   "source": [
    "# 2. Missing value imputation\n",
    "#### Overview before imputing missing values"
   ]
  },
  {
   "cell_type": "code",
   "execution_count": 11,
   "metadata": {},
   "outputs": [
    {
     "data": {
      "text/html": [
       "<div>\n",
       "<style scoped>\n",
       "    .dataframe tbody tr th:only-of-type {\n",
       "        vertical-align: middle;\n",
       "    }\n",
       "\n",
       "    .dataframe tbody tr th {\n",
       "        vertical-align: top;\n",
       "    }\n",
       "\n",
       "    .dataframe thead th {\n",
       "        text-align: right;\n",
       "    }\n",
       "</style>\n",
       "<table border=\"1\" class=\"dataframe\">\n",
       "  <thead>\n",
       "    <tr style=\"text-align: right;\">\n",
       "      <th></th>\n",
       "      <th>Null (total)</th>\n",
       "      <th>Null (percent)</th>\n",
       "      <th>Type</th>\n",
       "    </tr>\n",
       "  </thead>\n",
       "  <tbody>\n",
       "    <tr>\n",
       "      <th>Store</th>\n",
       "      <td>0</td>\n",
       "      <td>0.00</td>\n",
       "      <td>int64</td>\n",
       "    </tr>\n",
       "    <tr>\n",
       "      <th>StoreType</th>\n",
       "      <td>0</td>\n",
       "      <td>0.00</td>\n",
       "      <td>object</td>\n",
       "    </tr>\n",
       "    <tr>\n",
       "      <th>Assortment</th>\n",
       "      <td>0</td>\n",
       "      <td>0.00</td>\n",
       "      <td>object</td>\n",
       "    </tr>\n",
       "    <tr>\n",
       "      <th>CompetitionDistance</th>\n",
       "      <td>1351</td>\n",
       "      <td>0.26</td>\n",
       "      <td>float64</td>\n",
       "    </tr>\n",
       "    <tr>\n",
       "      <th>CompetitionOpenSinceMonth</th>\n",
       "      <td>162948</td>\n",
       "      <td>31.77</td>\n",
       "      <td>float64</td>\n",
       "    </tr>\n",
       "    <tr>\n",
       "      <th>CompetitionOpenSinceYear</th>\n",
       "      <td>162948</td>\n",
       "      <td>31.77</td>\n",
       "      <td>float64</td>\n",
       "    </tr>\n",
       "    <tr>\n",
       "      <th>Promo2</th>\n",
       "      <td>0</td>\n",
       "      <td>0.00</td>\n",
       "      <td>int64</td>\n",
       "    </tr>\n",
       "    <tr>\n",
       "      <th>Promo2SinceWeek</th>\n",
       "      <td>252634</td>\n",
       "      <td>49.26</td>\n",
       "      <td>float64</td>\n",
       "    </tr>\n",
       "    <tr>\n",
       "      <th>Promo2SinceYear</th>\n",
       "      <td>252634</td>\n",
       "      <td>49.26</td>\n",
       "      <td>float64</td>\n",
       "    </tr>\n",
       "    <tr>\n",
       "      <th>PromoInterval</th>\n",
       "      <td>252634</td>\n",
       "      <td>49.26</td>\n",
       "      <td>object</td>\n",
       "    </tr>\n",
       "    <tr>\n",
       "      <th>Date</th>\n",
       "      <td>0</td>\n",
       "      <td>0.00</td>\n",
       "      <td>datetime64[ns]</td>\n",
       "    </tr>\n",
       "    <tr>\n",
       "      <th>DayOfWeek</th>\n",
       "      <td>0</td>\n",
       "      <td>0.00</td>\n",
       "      <td>int64</td>\n",
       "    </tr>\n",
       "    <tr>\n",
       "      <th>Sales</th>\n",
       "      <td>15452</td>\n",
       "      <td>3.01</td>\n",
       "      <td>float64</td>\n",
       "    </tr>\n",
       "    <tr>\n",
       "      <th>Customers</th>\n",
       "      <td>15450</td>\n",
       "      <td>3.01</td>\n",
       "      <td>float64</td>\n",
       "    </tr>\n",
       "    <tr>\n",
       "      <th>Open</th>\n",
       "      <td>15564</td>\n",
       "      <td>3.03</td>\n",
       "      <td>float64</td>\n",
       "    </tr>\n",
       "    <tr>\n",
       "      <th>Promo</th>\n",
       "      <td>15432</td>\n",
       "      <td>3.01</td>\n",
       "      <td>float64</td>\n",
       "    </tr>\n",
       "    <tr>\n",
       "      <th>StateHoliday</th>\n",
       "      <td>15494</td>\n",
       "      <td>3.02</td>\n",
       "      <td>object</td>\n",
       "    </tr>\n",
       "    <tr>\n",
       "      <th>SchoolHoliday</th>\n",
       "      <td>15566</td>\n",
       "      <td>3.04</td>\n",
       "      <td>float64</td>\n",
       "    </tr>\n",
       "    <tr>\n",
       "      <th>Month</th>\n",
       "      <td>0</td>\n",
       "      <td>0.00</td>\n",
       "      <td>int64</td>\n",
       "    </tr>\n",
       "    <tr>\n",
       "      <th>DayOfMonth</th>\n",
       "      <td>0</td>\n",
       "      <td>0.00</td>\n",
       "      <td>int64</td>\n",
       "    </tr>\n",
       "    <tr>\n",
       "      <th>Year</th>\n",
       "      <td>0</td>\n",
       "      <td>0.00</td>\n",
       "      <td>int64</td>\n",
       "    </tr>\n",
       "    <tr>\n",
       "      <th>WeekOfYear</th>\n",
       "      <td>0</td>\n",
       "      <td>0.00</td>\n",
       "      <td>int64</td>\n",
       "    </tr>\n",
       "    <tr>\n",
       "      <th>Sales_per_customer</th>\n",
       "      <td>0</td>\n",
       "      <td>0.00</td>\n",
       "      <td>float64</td>\n",
       "    </tr>\n",
       "    <tr>\n",
       "      <th>Customer_per_store</th>\n",
       "      <td>0</td>\n",
       "      <td>0.00</td>\n",
       "      <td>float64</td>\n",
       "    </tr>\n",
       "  </tbody>\n",
       "</table>\n",
       "</div>"
      ],
      "text/plain": [
       "                           Null (total)  Null (percent)            Type\n",
       "Store                                 0            0.00           int64\n",
       "StoreType                             0            0.00          object\n",
       "Assortment                            0            0.00          object\n",
       "CompetitionDistance                1351            0.26         float64\n",
       "CompetitionOpenSinceMonth        162948           31.77         float64\n",
       "CompetitionOpenSinceYear         162948           31.77         float64\n",
       "Promo2                                0            0.00           int64\n",
       "Promo2SinceWeek                  252634           49.26         float64\n",
       "Promo2SinceYear                  252634           49.26         float64\n",
       "PromoInterval                    252634           49.26          object\n",
       "Date                                  0            0.00  datetime64[ns]\n",
       "DayOfWeek                             0            0.00           int64\n",
       "Sales                             15452            3.01         float64\n",
       "Customers                         15450            3.01         float64\n",
       "Open                              15564            3.03         float64\n",
       "Promo                             15432            3.01         float64\n",
       "StateHoliday                      15494            3.02          object\n",
       "SchoolHoliday                     15566            3.04         float64\n",
       "Month                                 0            0.00           int64\n",
       "DayOfMonth                            0            0.00           int64\n",
       "Year                                  0            0.00           int64\n",
       "WeekOfYear                            0            0.00           int64\n",
       "Sales_per_customer                    0            0.00         float64\n",
       "Customer_per_store                    0            0.00         float64"
      ]
     },
     "execution_count": 11,
     "metadata": {},
     "output_type": "execute_result"
    }
   ],
   "source": [
    "missing_report(data_train, pd)"
   ]
  },
  {
   "cell_type": "markdown",
   "metadata": {},
   "source": [
    "## 2.1 'Promo', 'Promo2'\n",
    "#### Drop all null values"
   ]
  },
  {
   "cell_type": "code",
   "execution_count": 12,
   "metadata": {},
   "outputs": [
    {
     "name": "stdout",
     "output_type": "stream",
     "text": [
      "Drop 15432 rows, keep 497396\n",
      "Drop 15432 rows, keep 497396\n"
     ]
    }
   ],
   "source": [
    "missing_promo = data_train.Promo.isnull() | data_train.Promo2.isnull()\n",
    "data_train = data_train.loc[~missing_promo, :]\n",
    "print(f'Drop {sum(missing_promo)} rows, keep {data_train.shape[0]}')\n",
    "\n",
    "missing_promo = data_test.Promo.isnull() | data_test.Promo2.isnull()\n",
    "data_test = data_test.loc[~missing_promo, :]\n",
    "print(f'Drop {sum(missing_promo)} rows, keep {data_test.shape[0]}')"
   ]
  },
  {
   "cell_type": "markdown",
   "metadata": {},
   "source": [
    "## 2.2 'CompetitionOpenSinceMonth', 'CompetitionOpenSinceYear'\n",
    "#### Apply mean imputation for missing values"
   ]
  },
  {
   "cell_type": "code",
   "execution_count": 13,
   "metadata": {},
   "outputs": [],
   "source": [
    "data_train = mean_imputation(data_train,['CompetitionOpenSinceMonth', 'CompetitionOpenSinceYear'])\n",
    "data_test = mean_imputation(data_test,['CompetitionOpenSinceMonth', 'CompetitionOpenSinceYear'])"
   ]
  },
  {
   "cell_type": "markdown",
   "metadata": {},
   "source": [
    "## 2.3 'Promo2SinceWeek', 'Promo2SinceYear',  'PromoInterval'\n",
    "#### Apply mean imputation for stores participating and constant imputation with zero for stores not participating"
   ]
  },
  {
   "cell_type": "code",
   "execution_count": 14,
   "metadata": {},
   "outputs": [],
   "source": [
    "data_train = mean_imputation(data_train, ['Promo2SinceWeek', 'Promo2SinceYear'], enforce_int=True)\n",
    "Promo2 = data_train.Promo2 == 1\n",
    "data_train.loc[~Promo2, ['Promo2SinceWeek', 'Promo2SinceYear']] = 0\n",
    "data_train = const_imputation(data_train,['PromoInterval'],values='unavailable')\n",
    "\n",
    "data_test = mean_imputation(data_test, ['Promo2SinceWeek', 'Promo2SinceYear'], enforce_int=True)\n",
    "Promo2 = data_test.Promo2 == 1\n",
    "data_test.loc[~Promo2, ['Promo2SinceWeek', 'Promo2SinceYear']] = 0\n",
    "data_test = const_imputation(data_test,['PromoInterval'],values='unavailable')"
   ]
  },
  {
   "cell_type": "markdown",
   "metadata": {},
   "source": [
    "## 2.4 'Sales', 'Customers', 'Open'\n",
    "#### Drop rows with missing 'Sales' in case 'Open' or 'Customers' is zero (training set only)"
   ]
  },
  {
   "cell_type": "code",
   "execution_count": 15,
   "metadata": {},
   "outputs": [
    {
     "name": "stdout",
     "output_type": "stream",
     "text": [
      "Drop 85 rows, keep 497311\n"
     ]
    }
   ],
   "source": [
    "not_open = data_train.Open==0\n",
    "no_customer = data_train.Customers==0\n",
    "missing_sales = data_train.Sales.isnull()\n",
    "data_train = data_train.loc[~((not_open | no_customer) & missing_sales), :]\n",
    "\n",
    "print(f'Drop {sum(((not_open | no_customer) & missing_sales))} rows, keep {data_train.shape[0]}')"
   ]
  },
  {
   "cell_type": "markdown",
   "metadata": {},
   "source": [
    "#### Impute 'Sales' from 'Customers' and 'Sales_per_customer' (training set only)"
   ]
  },
  {
   "cell_type": "code",
   "execution_count": 16,
   "metadata": {},
   "outputs": [
    {
     "name": "stdout",
     "output_type": "stream",
     "text": [
      "Drop 451 rows, keep 496860\n"
     ]
    }
   ],
   "source": [
    "missing_sales = data_train.Sales.isnull()\n",
    "data_train.loc[missing_sales, 'Sales'] = data_train.loc[missing_sales, 'Customers'] * data_train.loc[missing_sales, 'Sales_per_customer']\n",
    "missing_sales = data_train.Sales.isnull()\n",
    "data_train = data_train.loc[~missing_sales, :]\n",
    "\n",
    "print(f'Drop {sum(missing_sales)} rows, keep {data_train.shape[0]}')\n",
    "data_train = const_imputation(data_train,['Open'],values=1)"
   ]
  },
  {
   "cell_type": "markdown",
   "metadata": {},
   "source": [
    "#### Drop rows with missing or zero 'Open' (test set only)"
   ]
  },
  {
   "cell_type": "code",
   "execution_count": 17,
   "metadata": {},
   "outputs": [
    {
     "name": "stdout",
     "output_type": "stream",
     "text": [
      "Drop 15070 rows, keep 482326\n"
     ]
    }
   ],
   "source": [
    "not_open = data_test.Open==0\n",
    "missing_open = data_test.Open.isna()\n",
    "\n",
    "data_test = data_test.loc[~(not_open | missing_open), :]\n",
    "\n",
    "print(f'Drop {sum(not_open | missing_open)} rows, keep {data_test.shape[0]}')"
   ]
  },
  {
   "cell_type": "markdown",
   "metadata": {},
   "source": [
    "## 2.5 'StateHoliday'\n",
    "#### Look up if 'Date' is a national holiday and impute missing values with 'a' and '0' accordingly"
   ]
  },
  {
   "cell_type": "code",
   "execution_count": 18,
   "metadata": {},
   "outputs": [],
   "source": [
    "data_train = holiday_imputation(data_train, holidays)\n",
    "data_test = holiday_imputation(data_test, holidays)"
   ]
  },
  {
   "cell_type": "markdown",
   "metadata": {},
   "source": [
    "## 2.6 'CompetitionDistance'\n",
    "#### Drop rows with missing values"
   ]
  },
  {
   "cell_type": "code",
   "execution_count": 19,
   "metadata": {},
   "outputs": [
    {
     "name": "stdout",
     "output_type": "stream",
     "text": [
      "Drop 1299 rows, keep 495561\n",
      "Drop 1246 rows, keep 481080\n"
     ]
    }
   ],
   "source": [
    "missing_distance = data_train.CompetitionDistance.isnull()\n",
    "data_train = data_train.loc[~missing_distance, :]\n",
    "print(f'Drop {sum(missing_distance)} rows, keep {data_train.shape[0]}')\n",
    "\n",
    "missing_distance = data_test.CompetitionDistance.isnull()\n",
    "data_test = data_test.loc[~missing_distance, :]\n",
    "print(f'Drop {sum(missing_distance)} rows, keep {data_test.shape[0]}')"
   ]
  },
  {
   "cell_type": "markdown",
   "metadata": {},
   "source": [
    "## 2.7 Drop columns 'Customers', 'Open' and 'SchoolHoliday'"
   ]
  },
  {
   "cell_type": "code",
   "execution_count": 20,
   "metadata": {},
   "outputs": [],
   "source": [
    "data_train = data_train.drop(columns = ['Customers','Open', 'SchoolHoliday'])\n",
    "data_test = data_test.drop(columns = ['Customers','Open', 'SchoolHoliday'])"
   ]
  },
  {
   "cell_type": "code",
   "execution_count": 21,
   "metadata": {},
   "outputs": [
    {
     "data": {
      "text/html": [
       "<div>\n",
       "<style scoped>\n",
       "    .dataframe tbody tr th:only-of-type {\n",
       "        vertical-align: middle;\n",
       "    }\n",
       "\n",
       "    .dataframe tbody tr th {\n",
       "        vertical-align: top;\n",
       "    }\n",
       "\n",
       "    .dataframe thead th {\n",
       "        text-align: right;\n",
       "    }\n",
       "</style>\n",
       "<table border=\"1\" class=\"dataframe\">\n",
       "  <thead>\n",
       "    <tr style=\"text-align: right;\">\n",
       "      <th></th>\n",
       "      <th>Null (total)</th>\n",
       "      <th>Null (percent)</th>\n",
       "      <th>Type</th>\n",
       "    </tr>\n",
       "  </thead>\n",
       "  <tbody>\n",
       "    <tr>\n",
       "      <th>Store</th>\n",
       "      <td>0</td>\n",
       "      <td>0.0</td>\n",
       "      <td>int64</td>\n",
       "    </tr>\n",
       "    <tr>\n",
       "      <th>StoreType</th>\n",
       "      <td>0</td>\n",
       "      <td>0.0</td>\n",
       "      <td>object</td>\n",
       "    </tr>\n",
       "    <tr>\n",
       "      <th>Assortment</th>\n",
       "      <td>0</td>\n",
       "      <td>0.0</td>\n",
       "      <td>object</td>\n",
       "    </tr>\n",
       "    <tr>\n",
       "      <th>CompetitionDistance</th>\n",
       "      <td>0</td>\n",
       "      <td>0.0</td>\n",
       "      <td>float64</td>\n",
       "    </tr>\n",
       "    <tr>\n",
       "      <th>CompetitionOpenSinceMonth</th>\n",
       "      <td>0</td>\n",
       "      <td>0.0</td>\n",
       "      <td>float64</td>\n",
       "    </tr>\n",
       "    <tr>\n",
       "      <th>CompetitionOpenSinceYear</th>\n",
       "      <td>0</td>\n",
       "      <td>0.0</td>\n",
       "      <td>float64</td>\n",
       "    </tr>\n",
       "    <tr>\n",
       "      <th>Promo2</th>\n",
       "      <td>0</td>\n",
       "      <td>0.0</td>\n",
       "      <td>int64</td>\n",
       "    </tr>\n",
       "    <tr>\n",
       "      <th>Promo2SinceWeek</th>\n",
       "      <td>0</td>\n",
       "      <td>0.0</td>\n",
       "      <td>float64</td>\n",
       "    </tr>\n",
       "    <tr>\n",
       "      <th>Promo2SinceYear</th>\n",
       "      <td>0</td>\n",
       "      <td>0.0</td>\n",
       "      <td>float64</td>\n",
       "    </tr>\n",
       "    <tr>\n",
       "      <th>PromoInterval</th>\n",
       "      <td>0</td>\n",
       "      <td>0.0</td>\n",
       "      <td>object</td>\n",
       "    </tr>\n",
       "    <tr>\n",
       "      <th>Date</th>\n",
       "      <td>0</td>\n",
       "      <td>0.0</td>\n",
       "      <td>datetime64[ns]</td>\n",
       "    </tr>\n",
       "    <tr>\n",
       "      <th>DayOfWeek</th>\n",
       "      <td>0</td>\n",
       "      <td>0.0</td>\n",
       "      <td>int64</td>\n",
       "    </tr>\n",
       "    <tr>\n",
       "      <th>Sales</th>\n",
       "      <td>0</td>\n",
       "      <td>0.0</td>\n",
       "      <td>float64</td>\n",
       "    </tr>\n",
       "    <tr>\n",
       "      <th>Promo</th>\n",
       "      <td>0</td>\n",
       "      <td>0.0</td>\n",
       "      <td>float64</td>\n",
       "    </tr>\n",
       "    <tr>\n",
       "      <th>StateHoliday</th>\n",
       "      <td>0</td>\n",
       "      <td>0.0</td>\n",
       "      <td>object</td>\n",
       "    </tr>\n",
       "    <tr>\n",
       "      <th>Month</th>\n",
       "      <td>0</td>\n",
       "      <td>0.0</td>\n",
       "      <td>int64</td>\n",
       "    </tr>\n",
       "    <tr>\n",
       "      <th>DayOfMonth</th>\n",
       "      <td>0</td>\n",
       "      <td>0.0</td>\n",
       "      <td>int64</td>\n",
       "    </tr>\n",
       "    <tr>\n",
       "      <th>Year</th>\n",
       "      <td>0</td>\n",
       "      <td>0.0</td>\n",
       "      <td>int64</td>\n",
       "    </tr>\n",
       "    <tr>\n",
       "      <th>WeekOfYear</th>\n",
       "      <td>0</td>\n",
       "      <td>0.0</td>\n",
       "      <td>int64</td>\n",
       "    </tr>\n",
       "    <tr>\n",
       "      <th>Sales_per_customer</th>\n",
       "      <td>0</td>\n",
       "      <td>0.0</td>\n",
       "      <td>float64</td>\n",
       "    </tr>\n",
       "    <tr>\n",
       "      <th>Customer_per_store</th>\n",
       "      <td>0</td>\n",
       "      <td>0.0</td>\n",
       "      <td>float64</td>\n",
       "    </tr>\n",
       "  </tbody>\n",
       "</table>\n",
       "</div>"
      ],
      "text/plain": [
       "                           Null (total)  Null (percent)            Type\n",
       "Store                                 0             0.0           int64\n",
       "StoreType                             0             0.0          object\n",
       "Assortment                            0             0.0          object\n",
       "CompetitionDistance                   0             0.0         float64\n",
       "CompetitionOpenSinceMonth             0             0.0         float64\n",
       "CompetitionOpenSinceYear              0             0.0         float64\n",
       "Promo2                                0             0.0           int64\n",
       "Promo2SinceWeek                       0             0.0         float64\n",
       "Promo2SinceYear                       0             0.0         float64\n",
       "PromoInterval                         0             0.0          object\n",
       "Date                                  0             0.0  datetime64[ns]\n",
       "DayOfWeek                             0             0.0           int64\n",
       "Sales                                 0             0.0         float64\n",
       "Promo                                 0             0.0         float64\n",
       "StateHoliday                          0             0.0          object\n",
       "Month                                 0             0.0           int64\n",
       "DayOfMonth                            0             0.0           int64\n",
       "Year                                  0             0.0           int64\n",
       "WeekOfYear                            0             0.0           int64\n",
       "Sales_per_customer                    0             0.0         float64\n",
       "Customer_per_store                    0             0.0         float64"
      ]
     },
     "execution_count": 21,
     "metadata": {},
     "output_type": "execute_result"
    }
   ],
   "source": [
    "missing_report(data_train, pd)"
   ]
  },
  {
   "cell_type": "code",
   "execution_count": 22,
   "metadata": {},
   "outputs": [
    {
     "data": {
      "text/html": [
       "<div>\n",
       "<style scoped>\n",
       "    .dataframe tbody tr th:only-of-type {\n",
       "        vertical-align: middle;\n",
       "    }\n",
       "\n",
       "    .dataframe tbody tr th {\n",
       "        vertical-align: top;\n",
       "    }\n",
       "\n",
       "    .dataframe thead th {\n",
       "        text-align: right;\n",
       "    }\n",
       "</style>\n",
       "<table border=\"1\" class=\"dataframe\">\n",
       "  <thead>\n",
       "    <tr style=\"text-align: right;\">\n",
       "      <th></th>\n",
       "      <th>Null (total)</th>\n",
       "      <th>Null (percent)</th>\n",
       "      <th>Type</th>\n",
       "    </tr>\n",
       "  </thead>\n",
       "  <tbody>\n",
       "    <tr>\n",
       "      <th>Store</th>\n",
       "      <td>0</td>\n",
       "      <td>0.0</td>\n",
       "      <td>int64</td>\n",
       "    </tr>\n",
       "    <tr>\n",
       "      <th>StoreType</th>\n",
       "      <td>0</td>\n",
       "      <td>0.0</td>\n",
       "      <td>object</td>\n",
       "    </tr>\n",
       "    <tr>\n",
       "      <th>Assortment</th>\n",
       "      <td>0</td>\n",
       "      <td>0.0</td>\n",
       "      <td>object</td>\n",
       "    </tr>\n",
       "    <tr>\n",
       "      <th>CompetitionDistance</th>\n",
       "      <td>0</td>\n",
       "      <td>0.0</td>\n",
       "      <td>float64</td>\n",
       "    </tr>\n",
       "    <tr>\n",
       "      <th>CompetitionOpenSinceMonth</th>\n",
       "      <td>0</td>\n",
       "      <td>0.0</td>\n",
       "      <td>float64</td>\n",
       "    </tr>\n",
       "    <tr>\n",
       "      <th>CompetitionOpenSinceYear</th>\n",
       "      <td>0</td>\n",
       "      <td>0.0</td>\n",
       "      <td>float64</td>\n",
       "    </tr>\n",
       "    <tr>\n",
       "      <th>Promo2</th>\n",
       "      <td>0</td>\n",
       "      <td>0.0</td>\n",
       "      <td>int64</td>\n",
       "    </tr>\n",
       "    <tr>\n",
       "      <th>Promo2SinceWeek</th>\n",
       "      <td>0</td>\n",
       "      <td>0.0</td>\n",
       "      <td>float64</td>\n",
       "    </tr>\n",
       "    <tr>\n",
       "      <th>Promo2SinceYear</th>\n",
       "      <td>0</td>\n",
       "      <td>0.0</td>\n",
       "      <td>float64</td>\n",
       "    </tr>\n",
       "    <tr>\n",
       "      <th>PromoInterval</th>\n",
       "      <td>0</td>\n",
       "      <td>0.0</td>\n",
       "      <td>object</td>\n",
       "    </tr>\n",
       "    <tr>\n",
       "      <th>Date</th>\n",
       "      <td>0</td>\n",
       "      <td>0.0</td>\n",
       "      <td>datetime64[ns]</td>\n",
       "    </tr>\n",
       "    <tr>\n",
       "      <th>DayOfWeek</th>\n",
       "      <td>0</td>\n",
       "      <td>0.0</td>\n",
       "      <td>int64</td>\n",
       "    </tr>\n",
       "    <tr>\n",
       "      <th>Sales</th>\n",
       "      <td>14447</td>\n",
       "      <td>3.0</td>\n",
       "      <td>float64</td>\n",
       "    </tr>\n",
       "    <tr>\n",
       "      <th>Promo</th>\n",
       "      <td>0</td>\n",
       "      <td>0.0</td>\n",
       "      <td>float64</td>\n",
       "    </tr>\n",
       "    <tr>\n",
       "      <th>StateHoliday</th>\n",
       "      <td>0</td>\n",
       "      <td>0.0</td>\n",
       "      <td>object</td>\n",
       "    </tr>\n",
       "    <tr>\n",
       "      <th>Month</th>\n",
       "      <td>0</td>\n",
       "      <td>0.0</td>\n",
       "      <td>int64</td>\n",
       "    </tr>\n",
       "    <tr>\n",
       "      <th>DayOfMonth</th>\n",
       "      <td>0</td>\n",
       "      <td>0.0</td>\n",
       "      <td>int64</td>\n",
       "    </tr>\n",
       "    <tr>\n",
       "      <th>Year</th>\n",
       "      <td>0</td>\n",
       "      <td>0.0</td>\n",
       "      <td>int64</td>\n",
       "    </tr>\n",
       "    <tr>\n",
       "      <th>WeekOfYear</th>\n",
       "      <td>0</td>\n",
       "      <td>0.0</td>\n",
       "      <td>int64</td>\n",
       "    </tr>\n",
       "    <tr>\n",
       "      <th>Sales_per_customer</th>\n",
       "      <td>0</td>\n",
       "      <td>0.0</td>\n",
       "      <td>float64</td>\n",
       "    </tr>\n",
       "    <tr>\n",
       "      <th>Customer_per_store</th>\n",
       "      <td>0</td>\n",
       "      <td>0.0</td>\n",
       "      <td>float64</td>\n",
       "    </tr>\n",
       "  </tbody>\n",
       "</table>\n",
       "</div>"
      ],
      "text/plain": [
       "                           Null (total)  Null (percent)            Type\n",
       "Store                                 0             0.0           int64\n",
       "StoreType                             0             0.0          object\n",
       "Assortment                            0             0.0          object\n",
       "CompetitionDistance                   0             0.0         float64\n",
       "CompetitionOpenSinceMonth             0             0.0         float64\n",
       "CompetitionOpenSinceYear              0             0.0         float64\n",
       "Promo2                                0             0.0           int64\n",
       "Promo2SinceWeek                       0             0.0         float64\n",
       "Promo2SinceYear                       0             0.0         float64\n",
       "PromoInterval                         0             0.0          object\n",
       "Date                                  0             0.0  datetime64[ns]\n",
       "DayOfWeek                             0             0.0           int64\n",
       "Sales                             14447             3.0         float64\n",
       "Promo                                 0             0.0         float64\n",
       "StateHoliday                          0             0.0          object\n",
       "Month                                 0             0.0           int64\n",
       "DayOfMonth                            0             0.0           int64\n",
       "Year                                  0             0.0           int64\n",
       "WeekOfYear                            0             0.0           int64\n",
       "Sales_per_customer                    0             0.0         float64\n",
       "Customer_per_store                    0             0.0         float64"
      ]
     },
     "execution_count": 22,
     "metadata": {},
     "output_type": "execute_result"
    }
   ],
   "source": [
    "missing_report(data_test, pd)"
   ]
  },
  {
   "cell_type": "markdown",
   "metadata": {},
   "source": [
    "# 3. Encoding of categorical variables\n",
    "## 3.1 'Store'\n",
    "#### Mean and frequency encoding"
   ]
  },
  {
   "cell_type": "code",
   "execution_count": 23,
   "metadata": {},
   "outputs": [],
   "source": [
    "data_train, mean_values = mean_encoding(data_train, 'Store')\n",
    "data_train, fenc_values = freq_encoding(data_train, 'Store')\n",
    "\n",
    "data_test.loc[:, 'Store_menc'] = data_test['Store'].map(mean_values)\n",
    "data_test.loc[:, 'Store_fenc'] = data_test['Store'].map(fenc_values)"
   ]
  },
  {
   "cell_type": "markdown",
   "metadata": {},
   "source": [
    "## 3.2 'StoreType'\n",
    "#### One hot encoding"
   ]
  },
  {
   "cell_type": "code",
   "execution_count": 24,
   "metadata": {},
   "outputs": [],
   "source": [
    "data_train = pd.get_dummies(data_train, columns=['StoreType'], drop_first=True)\n",
    "data_test = pd.get_dummies(data_test, columns=['StoreType'], drop_first=True)"
   ]
  },
  {
   "cell_type": "markdown",
   "metadata": {},
   "source": [
    "## 3.3 'Assortment'\n",
    "#### Ordinal encoding according to assortment levels: a = basic, b = extra, c = extended"
   ]
  },
  {
   "cell_type": "code",
   "execution_count": 25,
   "metadata": {},
   "outputs": [],
   "source": [
    "data_train = ordinal_encoding(data_train, 'Assortment', {'a':1, 'b':2, 'c':3})\n",
    "data_test = ordinal_encoding(data_test, 'Assortment', {'a':1, 'b':2, 'c':3})"
   ]
  },
  {
   "cell_type": "markdown",
   "metadata": {},
   "source": [
    "## 3.4 'StateHoliday'\n",
    "#### Binary encoding"
   ]
  },
  {
   "cell_type": "code",
   "execution_count": 26,
   "metadata": {},
   "outputs": [],
   "source": [
    "data_train = binary_encoding(data_train, 'StateHoliday', positive_list=['a', 'b', 'c'])\n",
    "data_test = binary_encoding(data_test, 'StateHoliday', positive_list=['a', 'b', 'c'])"
   ]
  },
  {
   "cell_type": "markdown",
   "metadata": {},
   "source": [
    "## 3.5 Drop encoded columns and null values from test set"
   ]
  },
  {
   "cell_type": "code",
   "execution_count": 27,
   "metadata": {},
   "outputs": [],
   "source": [
    "data_train = data_train.drop(columns=['Store', 'Assortment', 'StateHoliday'])\n",
    "data_test = data_test.drop(columns=['Store', 'Assortment', 'StateHoliday'])\n",
    "data_train = data_train.rename(columns={'Assortment_orenc': 'Assortment'})\n",
    "data_test = data_test.rename(columns={'Assortment_orenc': 'Assortment'})\n",
    "data_test = data_test.dropna()"
   ]
  },
  {
   "cell_type": "markdown",
   "metadata": {},
   "source": [
    "# 4. Feature engineering\n",
    "## 4.1 'CompetionOpenSincePeriod'"
   ]
  },
  {
   "cell_type": "code",
   "execution_count": 28,
   "metadata": {},
   "outputs": [],
   "source": [
    "data_train = compet_openmonths(data_train, yr='CompetitionOpenSinceYear', mth='CompetitionOpenSinceMonth')\n",
    "data_test = compet_openmonths(data_test, yr='CompetitionOpenSinceYear', mth='CompetitionOpenSinceMonth')"
   ]
  },
  {
   "cell_type": "markdown",
   "metadata": {},
   "source": [
    "## 4.2 'Promo2Since'"
   ]
  },
  {
   "cell_type": "code",
   "execution_count": 29,
   "metadata": {},
   "outputs": [],
   "source": [
    "data_train = promo_openweeks(data_train, yr='Promo2SinceYear', week='Promo2SinceWeek')\n",
    "data_test = promo_openweeks(data_test, yr='Promo2SinceYear', week='Promo2SinceWeek')"
   ]
  },
  {
   "cell_type": "markdown",
   "metadata": {},
   "source": [
    "# 5. Dealing with outliers\n",
    "\n",
    "## 5.1 Removing outliers of the Sales \n",
    "Remove based on the 99 percentile of the Sales"
   ]
  },
  {
   "cell_type": "code",
   "execution_count": 30,
   "metadata": {},
   "outputs": [],
   "source": [
    "# Drop only in the training set\n",
    "data_train = drop_outlier(data_train, col='Sales', per=99)"
   ]
  },
  {
   "cell_type": "markdown",
   "metadata": {},
   "source": [
    "## 5.2 Filter CompetitionOpenSinceYear \n",
    "There are some entries with competitors open since a long time back, for e.g. 1900. We hypothesize such a distant opening will not affect the Sales. Hence we drop those extreme values."
   ]
  },
  {
   "cell_type": "code",
   "execution_count": 31,
   "metadata": {},
   "outputs": [],
   "source": [
    "data_train = comp_outliers(data_train, yr='CompetitionOpenSinceYear')\n",
    "data_test = comp_outliers(data_test, yr='CompetitionOpenSinceYear')"
   ]
  },
  {
   "cell_type": "markdown",
   "metadata": {},
   "source": [
    "# 6. Split features and target\n",
    "Train the model on the features and target of the data_train.\n",
    "\n",
    "Use the trained model later to predict the target for the data_test and evaluate the metric."
   ]
  },
  {
   "cell_type": "code",
   "execution_count": 32,
   "metadata": {},
   "outputs": [],
   "source": [
    "# Training set\n",
    "X_train = data_train.drop(columns='Sales')\n",
    "y_train = data_train['Sales']"
   ]
  },
  {
   "cell_type": "code",
   "execution_count": 33,
   "metadata": {},
   "outputs": [],
   "source": [
    "# Holdout set\n",
    "X_test = data_test.drop(columns='Sales')\n",
    "y_test = data_test['Sales']"
   ]
  },
  {
   "cell_type": "markdown",
   "metadata": {},
   "source": [
    "# 7. Feature scaling"
   ]
  },
  {
   "cell_type": "code",
   "execution_count": 34,
   "metadata": {},
   "outputs": [
    {
     "data": {
      "text/plain": [
       "array([[<matplotlib.axes._subplots.AxesSubplot object at 0x1133ee6d0>,\n",
       "        <matplotlib.axes._subplots.AxesSubplot object at 0x112fcab80>,\n",
       "        <matplotlib.axes._subplots.AxesSubplot object at 0x112ff40d0>,\n",
       "        <matplotlib.axes._subplots.AxesSubplot object at 0x1170c74c0>,\n",
       "        <matplotlib.axes._subplots.AxesSubplot object at 0x115143910>],\n",
       "       [<matplotlib.axes._subplots.AxesSubplot object at 0x115171ca0>,\n",
       "        <matplotlib.axes._subplots.AxesSubplot object at 0x115171d90>,\n",
       "        <matplotlib.axes._subplots.AxesSubplot object at 0x11336a280>,\n",
       "        <matplotlib.axes._subplots.AxesSubplot object at 0x113690a90>,\n",
       "        <matplotlib.axes._subplots.AxesSubplot object at 0x1136bfee0>],\n",
       "       [<matplotlib.axes._subplots.AxesSubplot object at 0x1139043a0>,\n",
       "        <matplotlib.axes._subplots.AxesSubplot object at 0x1151cc7f0>,\n",
       "        <matplotlib.axes._subplots.AxesSubplot object at 0x117124c40>,\n",
       "        <matplotlib.axes._subplots.AxesSubplot object at 0x117152130>,\n",
       "        <matplotlib.axes._subplots.AxesSubplot object at 0x117189520>],\n",
       "       [<matplotlib.axes._subplots.AxesSubplot object at 0x1171b59a0>,\n",
       "        <matplotlib.axes._subplots.AxesSubplot object at 0x1171e3e20>,\n",
       "        <matplotlib.axes._subplots.AxesSubplot object at 0x1172192b0>,\n",
       "        <matplotlib.axes._subplots.AxesSubplot object at 0x117246700>,\n",
       "        <matplotlib.axes._subplots.AxesSubplot object at 0x117271b50>],\n",
       "       [<matplotlib.axes._subplots.AxesSubplot object at 0x11729efa0>,\n",
       "        <matplotlib.axes._subplots.AxesSubplot object at 0x1172d9490>,\n",
       "        <matplotlib.axes._subplots.AxesSubplot object at 0x113997b80>,\n",
       "        <matplotlib.axes._subplots.AxesSubplot object at 0x1133730a0>,\n",
       "        <matplotlib.axes._subplots.AxesSubplot object at 0x117146be0>]],\n",
       "      dtype=object)"
      ]
     },
     "execution_count": 34,
     "metadata": {},
     "output_type": "execute_result"
    },
    {
     "data": {
      "image/png": "[encoded data removed]",
      "text/plain": [
       "<Figure size 1440x1440 with 25 Axes>"
      ]
     },
     "metadata": {
      "needs_background": "light"
     },
     "output_type": "display_data"
    }
   ],
   "source": [
    "X_train.hist(figsize=[20,20], bins=40)"
   ]
  },
  {
   "cell_type": "markdown",
   "metadata": {},
   "source": [
    "##### Feature selection\n",
    "\n",
    "The following features will be used in building the model"
   ]
  },
  {
   "cell_type": "code",
   "execution_count": 35,
   "metadata": {},
   "outputs": [],
   "source": [
    "my_features = ['Sales_per_customer', 'CompetitionDistance', 'Customer_per_store', \n",
    "               'Store_menc', 'CompetitionOpenSincePeriod', \n",
    "               'Month', 'Year', 'DayOfWeek', 'WeekOfYear', 'DayOfMonth', \n",
    "               'StoreType_b', 'StoreType_c', 'StoreType_d', \n",
    "               'Promo2SincePeriod', 'Promo2', 'Promo', \n",
    "               'HasCompetitor', \n",
    "               'Assortment',]"
   ]
  },
  {
   "cell_type": "markdown",
   "metadata": {},
   "source": [
    "From the feature distribution we can tell that most of the features do not have a Gaussian distribution. We use three methods of scaling:\n",
    "1. StandardScaler() : When the feature is Gaussian-like\n",
    "2. MinMaxScaler() : If the feature distribution is unknown or feature is non-Gaussian\n",
    "3. RobustScaler() : We use this to scale features which might have some outliers\n",
    "\n",
    "To achieve the feature selection and scaling we now make use of two helper functions (under 'src'):\n",
    "1. feature_selector: this function selects the features for Standard scaling, Minmax scaling or Robust scaling\n",
    "2. feature_transformer: This function returns a ColumnTransformer object from scikit-learn. The transformer applies the appropriate scaling methods to the different subsets of columns"
   ]
  },
  {
   "cell_type": "code",
   "execution_count": 36,
   "metadata": {},
   "outputs": [],
   "source": [
    "# This just returns list of column names for different scaling methods\n",
    "# for e.g. minmax_cols: columns to apply minmax scaling, and so on for the others\n",
    "minmax_cols, rob_cols, std_cols = feature_selector(my_features)"
   ]
  },
  {
   "cell_type": "code",
   "execution_count": 37,
   "metadata": {},
   "outputs": [],
   "source": [
    "# This is the Column transformer object 'ct' that takes as input the \n",
    "# list of columns from the step before\n",
    "ct = feature_transformer(minmax_cols, rob_cols, std_cols)"
   ]
  },
  {
   "cell_type": "markdown",
   "metadata": {},
   "source": [
    "# 8. Model building\n",
    "The models are:\n",
    "1. Random Forest\n",
    "2. Lasso Regression\n",
    "3. XGBoost\n",
    "\n",
    "The parameters used in the final model is a best result of GridSearch over a wider parameter space"
   ]
  },
  {
   "cell_type": "markdown",
   "metadata": {},
   "source": [
    "### Random Forest"
   ]
  },
  {
   "cell_type": "code",
   "execution_count": null,
   "metadata": {},
   "outputs": [],
   "source": [
    "# Define the model parameters\n",
    "rf = RandomForestRegressor(n_estimators=150, \n",
    "                           criterion='mse', \n",
    "                           max_depth=4,\n",
    "                           min_samples_leaf=2,\n",
    "                           random_state=42)\n",
    "\n",
    "#pca = PCA(n_components=2)\n",
    "\n",
    "# Implement the steps for the sklearn's Pipeline object\n",
    "# Steps: Scaling and model fitting\n",
    "steps_rf = [('scaler', ct), ('rf', rf)]\n",
    "\n",
    "# Define the Pipeline object\n",
    "pipe_rf = Pipeline(steps_rf)\n",
    "\n",
    "# Fit the model\n",
    "pipe_rf.fit(X_train.loc[:, my_features], y_train)"
   ]
  },
  {
   "cell_type": "markdown",
   "metadata": {},
   "source": [
    "### Lasso"
   ]
  },
  {
   "cell_type": "code",
   "execution_count": null,
   "metadata": {},
   "outputs": [],
   "source": [
    "# Define the model parameters\n",
    "lasso = Lasso(alpha=0.1)\n",
    "\n",
    "# Implement the steps for the sklearn's Pipeline object\n",
    "# Steps: Scaling and model fitting\n",
    "steps_las = [('scaler', ct), ('lasso', lasso)]\n",
    "\n",
    "# Define the Pipeline object\n",
    "pipe_las = Pipeline(steps_las)\n",
    "\n",
    "# Fit the model\n",
    "pipe_las.fit(X_train.loc[:, my_features], y_train)"
   ]
  },
  {
   "cell_type": "markdown",
   "metadata": {},
   "source": [
    "### XGBoost"
   ]
  },
  {
   "cell_type": "code",
   "execution_count": null,
   "metadata": {},
   "outputs": [],
   "source": [
    "# Define the model parameters\n",
    "xgbreg = xgb.XGBRegressor(random_state=42, \n",
    "                          objective='reg:squarederror', \n",
    "                          booster='gbtree', \n",
    "                          gamma=0.01, \n",
    "                          learning_rate=0.1, \n",
    "                          max_depth=5, \n",
    "                          n_estimators=150, \n",
    "                          reg_alpha=63.09, \n",
    "                          reg_lambda=0.25)\n",
    "\n",
    "\n",
    "# Implement the steps for the sklearn's Pipeline object\n",
    "# Steps: Scaling and model fitting\n",
    "steps_xgb = [('scaler', ct), ('xgb', xgbreg)]\n",
    "\n",
    "# Define the Pipeline object\n",
    "pipe_xgb = Pipeline(steps_xgb)\n",
    "\n",
    "# Fit the model\n",
    "pipe_xgb.fit(X_train.loc[:, my_features], y_train)"
   ]
  },
  {
   "cell_type": "markdown",
   "metadata": {},
   "source": [
    "### Voting regressor\n",
    "We ensemble our model under one model using sklearn's VotingRegressor.\n",
    "\n",
    "It averages the prediction from the individual base estimators."
   ]
  },
  {
   "cell_type": "code",
   "execution_count": null,
   "metadata": {},
   "outputs": [],
   "source": [
    "# Define the models\n",
    "lin_model = lasso\n",
    "tree_model = rf\n",
    "boost_model = xgbreg\n",
    "\n",
    "regressors = [('linear', lin_model), \n",
    "              ('rf', tree_model), \n",
    "              ('xgb', boost_model)]\n",
    "\n",
    "vr = VotingRegressor(estimators = regressors)\n",
    "\n",
    "# # Implement the steps for the sklearn's Pipeline object\n",
    "# Steps: Scaling and model fitting\n",
    "steps_vr = [('scaler', ct), ('vote', vr)]\n",
    "\n",
    "\n",
    "# Define the Pipeline object\n",
    "pipe_vr = Pipeline(steps_vr)\n",
    "\n",
    "# Fit the model\n",
    "pipe_vr.fit(X_train.loc[:, my_features], y_train)"
   ]
  },
  {
   "cell_type": "markdown",
   "metadata": {},
   "source": [
    "# 9. Model evaluation\n",
    "\n",
    "For the model evaluation we used a separate holdout dataset.\n",
    "\n",
    "The metric used for evaluation is root mean square percentage error (RMSPE)"
   ]
  },
  {
   "cell_type": "code",
   "execution_count": null,
   "metadata": {},
   "outputs": [],
   "source": [
    "# Evaluation metric\n",
    "def metric(preds, actuals):\n",
    "    preds = preds.reshape(-1)\n",
    "    actuals = actuals.reshape(-1)\n",
    "    assert preds.shape == actuals.shape\n",
    "    return 100 * np.linalg.norm((actuals - preds) / actuals) / np.sqrt(preds.shape[0])"
   ]
  },
  {
   "cell_type": "markdown",
   "metadata": {},
   "source": [
    "#### Evaluate the Random Forest model"
   ]
  },
  {
   "cell_type": "code",
   "execution_count": null,
   "metadata": {},
   "outputs": [],
   "source": [
    "y_pred_rf = pipe_rf.predict(X_test.loc[:, my_features])\n",
    "\n",
    "rf_base_metric = metric(y_pred_rf, y_test.values)\n",
    "\n",
    "print(\"Metric for RandomForest prediction = {}\".format(rf_base_metric))"
   ]
  },
  {
   "cell_type": "markdown",
   "metadata": {},
   "source": [
    "#### Evaluate the Lasso model"
   ]
  },
  {
   "cell_type": "code",
   "execution_count": null,
   "metadata": {},
   "outputs": [],
   "source": [
    "y_pred_las = pipe_las.predict(X_test.loc[:, my_features])\n",
    "\n",
    "las_base_metric = metric(y_pred_las, y_test.values)\n",
    "\n",
    "print(\"Metric for Lasso prediction = {}\".format(las_base_metric))"
   ]
  },
  {
   "cell_type": "markdown",
   "metadata": {},
   "source": [
    "#### Evaluate the XGBoost model"
   ]
  },
  {
   "cell_type": "code",
   "execution_count": null,
   "metadata": {},
   "outputs": [],
   "source": [
    "y_pred_xgb = pipe_xgb.predict(X_test.loc[:, my_features])\n",
    "\n",
    "xgb_base_metric = metric(y_pred_xgb, y_test.values)\n",
    "\n",
    "print(\"Metric for XGBoost prediction = {}\".format(xgb_base_metric))"
   ]
  },
  {
   "cell_type": "markdown",
   "metadata": {},
   "source": [
    "#### Evaluate the VotinRegressor"
   ]
  },
  {
   "cell_type": "code",
   "execution_count": null,
   "metadata": {},
   "outputs": [],
   "source": [
    "y_pred_vr = pipe_vr.predict(X_test.loc[:, my_features])\n",
    "\n",
    "vr_base_metric = metric(y_pred_vr, y_test.values)\n",
    "\n",
    "print(\"Metric for RandomForest prediction = {}\".format(vr_base_metric))"
   ]
  },
  {
   "cell_type": "markdown",
   "metadata": {},
   "source": [
    "# 10. Conclusions\n",
    "\n",
    "1. After trying out different staretgies for data preprocessing and model building, we evaluate our predictions for Rossmann stores sales on a separate holdout data set. The model which provides the best root means square percentage error is XGBoost. The values of the metric are compared in the table below-\n",
    "\n",
    "|Model     |   RMSPE   | \n",
    "|---------|-----------------|\n",
    "| XGBoost Regressor | 21.85 |\n",
    "| Voting Regressor | 25.59 |\n",
    "| Lasso Regressor | 27.79 |\n",
    "| Random Forest Regressor| 30.45 |\n",
    "\n",
    "2. Of course there is room for further improvement by trying other data cleaning, feature engineering methods as well as other Machine learning models"
   ]
  },
  {
   "cell_type": "code",
   "execution_count": null,
   "metadata": {},
   "outputs": [],
   "source": []
  }
 ],
 "metadata": {
  "kernelspec": {
   "display_name": "Python 3",
   "language": "python",
   "name": "python3"
  },
  "language_info": {
   "codemirror_mode": {
    "name": "ipython",
    "version": 3
   },
   "file_extension": ".py",
   "mimetype": "text/x-python",
   "name": "python",
   "nbconvert_exporter": "python",
   "pygments_lexer": "ipython3",
   "version": "3.8.2"
  }
 },
 "nbformat": 4,
 "nbformat_minor": 4
}
