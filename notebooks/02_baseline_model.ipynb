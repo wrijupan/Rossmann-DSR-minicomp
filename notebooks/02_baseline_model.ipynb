{
 "cells": [
  {
   "cell_type": "code",
   "execution_count": 36,
   "metadata": {},
   "outputs": [],
   "source": [
    "import pandas as pd\n",
    "import numpy as np\n",
    "from sklearn.preprocessing import StandardScaler\n",
    "from sklearn.model_selection import train_test_split, cross_val_score\n",
    "from sklearn.ensemble import RandomForestRegressor\n",
    "\n",
    "import matplotlib.pyplot as plt\n",
    "import seaborn as sns\n",
    "%matplotlib inline"
   ]
  },
  {
   "cell_type": "markdown",
   "metadata": {},
   "source": [
    "# Load input data"
   ]
  },
  {
   "cell_type": "code",
   "execution_count": 37,
   "metadata": {},
   "outputs": [
    {
     "name": "stderr",
     "output_type": "stream",
     "text": [
      "/Users/apple/miniconda3/envs/cta-dev/lib/python3.8/site-packages/IPython/core/interactiveshell.py:3062: DtypeWarning: Columns (7) have mixed types.Specify dtype option on import or set low_memory=False.\n",
      "  has_raised = await self.run_ast_nodes(code_ast.body, cell_name,\n"
     ]
    }
   ],
   "source": [
    "train = pd.read_csv(\"../data/train.csv\")\n",
    "store = pd.read_csv(\"../data/store.csv\")"
   ]
  },
  {
   "cell_type": "markdown",
   "metadata": {},
   "source": [
    "### Merge train and store"
   ]
  },
  {
   "cell_type": "code",
   "execution_count": 38,
   "metadata": {},
   "outputs": [],
   "source": [
    "merged_train_store = pd.merge(store, train, on='Store', how='left')"
   ]
  },
  {
   "cell_type": "code",
   "execution_count": 39,
   "metadata": {},
   "outputs": [
    {
     "data": {
      "text/plain": [
       "Store                         0.000000\n",
       "StoreType                     0.000000\n",
       "Assortment                    0.000000\n",
       "CompetitionDistance           0.264361\n",
       "CompetitionOpenSinceMonth    31.760481\n",
       "CompetitionOpenSinceYear     31.760481\n",
       "Promo2                        0.000000\n",
       "Promo2SinceWeek              49.095918\n",
       "Promo2SinceYear              49.095918\n",
       "PromoInterval                49.095918\n",
       "Date                          0.000000\n",
       "DayOfWeek                     2.981052\n",
       "Sales                         2.982345\n",
       "Customers                     2.993825\n",
       "Open                          3.014036\n",
       "Promo                         3.020665\n",
       "StateHoliday                  3.007407\n",
       "SchoolHoliday                 3.037643\n",
       "dtype: float64"
      ]
     },
     "execution_count": 39,
     "metadata": {},
     "output_type": "execute_result"
    }
   ],
   "source": [
    "100 * merged_train_store.isnull().sum() / len(merged_train_store)"
   ]
  },
  {
   "cell_type": "markdown",
   "metadata": {},
   "source": [
    "# Drop missing values"
   ]
  },
  {
   "cell_type": "code",
   "execution_count": 40,
   "metadata": {},
   "outputs": [
    {
     "data": {
      "text/plain": [
       "Index(['Store', 'StoreType', 'Assortment', 'CompetitionDistance', 'Promo2',\n",
       "       'Date', 'DayOfWeek', 'Sales', 'Customers', 'Open', 'Promo',\n",
       "       'StateHoliday', 'SchoolHoliday'],\n",
       "      dtype='object')"
      ]
     },
     "execution_count": 40,
     "metadata": {},
     "output_type": "execute_result"
    }
   ],
   "source": [
    "missing_col_5per = (100 * merged_train_store.isnull().sum() / len(merged_train_store)) < 5\n",
    "cols_to_drop = merged_train_store.columns[missing_col_5per]\n",
    "cols_to_drop"
   ]
  },
  {
   "cell_type": "code",
   "execution_count": 41,
   "metadata": {},
   "outputs": [
    {
     "data": {
      "text/plain": [
       "Store                         0.000000\n",
       "StoreType                     0.000000\n",
       "Assortment                    0.000000\n",
       "CompetitionDistance           0.000000\n",
       "CompetitionOpenSinceMonth    31.571129\n",
       "CompetitionOpenSinceYear     31.571129\n",
       "Promo2                        0.000000\n",
       "Promo2SinceWeek              49.080353\n",
       "Promo2SinceYear              49.080353\n",
       "PromoInterval                49.080353\n",
       "Date                          0.000000\n",
       "DayOfWeek                     0.000000\n",
       "Sales                         0.000000\n",
       "Customers                     0.000000\n",
       "Open                          0.000000\n",
       "Promo                         0.000000\n",
       "StateHoliday                  0.000000\n",
       "SchoolHoliday                 0.000000\n",
       "dtype: float64"
      ]
     },
     "execution_count": 41,
     "metadata": {},
     "output_type": "execute_result"
    }
   ],
   "source": [
    "cleaned_df = merged_train_store.dropna(axis=0, subset=cols_to_drop)\n",
    "100 * cleaned_df.isnull().sum() / len(cleaned_df)"
   ]
  },
  {
   "cell_type": "code",
   "execution_count": 42,
   "metadata": {},
   "outputs": [
    {
     "name": "stdout",
     "output_type": "stream",
     "text": [
      "<class 'pandas.core.frame.DataFrame'>\n",
      "Int64Index: 498126 entries, 0 to 618471\n",
      "Data columns (total 18 columns):\n",
      " #   Column                     Non-Null Count   Dtype  \n",
      "---  ------                     --------------   -----  \n",
      " 0   Store                      498126 non-null  int64  \n",
      " 1   StoreType                  498126 non-null  object \n",
      " 2   Assortment                 498126 non-null  object \n",
      " 3   CompetitionDistance        498126 non-null  float64\n",
      " 4   CompetitionOpenSinceMonth  340862 non-null  float64\n",
      " 5   CompetitionOpenSinceYear   340862 non-null  float64\n",
      " 6   Promo2                     498126 non-null  int64  \n",
      " 7   Promo2SinceWeek            253644 non-null  float64\n",
      " 8   Promo2SinceYear            253644 non-null  float64\n",
      " 9   PromoInterval              253644 non-null  object \n",
      " 10  Date                       498126 non-null  object \n",
      " 11  DayOfWeek                  498126 non-null  float64\n",
      " 12  Sales                      498126 non-null  float64\n",
      " 13  Customers                  498126 non-null  float64\n",
      " 14  Open                       498126 non-null  float64\n",
      " 15  Promo                      498126 non-null  float64\n",
      " 16  StateHoliday               498126 non-null  object \n",
      " 17  SchoolHoliday              498126 non-null  float64\n",
      "dtypes: float64(11), int64(2), object(5)\n",
      "memory usage: 72.2+ MB\n"
     ]
    }
   ],
   "source": [
    "cleaned_df.info()"
   ]
  },
  {
   "cell_type": "code",
   "execution_count": 43,
   "metadata": {},
   "outputs": [
    {
     "data": {
      "text/plain": [
       "Jan,Apr,Jul,Oct     148339\n",
       "Feb,May,Aug,Nov      57724\n",
       "Mar,Jun,Sept,Dec     47581\n",
       "Name: PromoInterval, dtype: int64"
      ]
     },
     "execution_count": 43,
     "metadata": {},
     "output_type": "execute_result"
    }
   ],
   "source": [
    "cleaned_df.PromoInterval.value_counts()"
   ]
  },
  {
   "cell_type": "code",
   "execution_count": 44,
   "metadata": {},
   "outputs": [
    {
     "data": {
      "text/plain": [
       "0         2008.0\n",
       "2         2008.0\n",
       "3         2008.0\n",
       "5         2008.0\n",
       "6         2008.0\n",
       "           ...  \n",
       "618463       NaN\n",
       "618464       NaN\n",
       "618465       NaN\n",
       "618470       NaN\n",
       "618471       NaN\n",
       "Name: CompetitionOpenSinceYear, Length: 498126, dtype: float64"
      ]
     },
     "execution_count": 44,
     "metadata": {},
     "output_type": "execute_result"
    }
   ],
   "source": [
    "cleaned_df.CompetitionOpenSinceYear"
   ]
  },
  {
   "cell_type": "code",
   "execution_count": 45,
   "metadata": {},
   "outputs": [
    {
     "data": {
      "text/plain": [
       "array([0])"
      ]
     },
     "execution_count": 45,
     "metadata": {},
     "output_type": "execute_result"
    }
   ],
   "source": [
    "missing_promo = cleaned_df.Promo2SinceWeek.isnull()\n",
    "cleaned_df[['Promo', 'Promo2', 'Promo2SinceWeek', 'Promo2SinceYear', 'PromoInterval']][missing_promo]['Promo2'].unique()"
   ]
  },
  {
   "cell_type": "markdown",
   "metadata": {},
   "source": [
    "# Encode the missing columns"
   ]
  },
  {
   "cell_type": "code",
   "execution_count": 46,
   "metadata": {},
   "outputs": [],
   "source": [
    "mean_encode_cols = ['CompetitionOpenSinceMonth', 'CompetitionOpenSinceYear']\n",
    "zero_encode_cols = ['Promo2SinceWeek', 'Promo2SinceYear']\n",
    "string_encode_cols = ['PromoInterval']"
   ]
  },
  {
   "cell_type": "code",
   "execution_count": 47,
   "metadata": {},
   "outputs": [],
   "source": [
    "mean_encode = np.floor(cleaned_df[mean_encode_cols].mean())\n",
    "string_encode = 'unavailable'"
   ]
  },
  {
   "cell_type": "code",
   "execution_count": 48,
   "metadata": {},
   "outputs": [
    {
     "name": "stderr",
     "output_type": "stream",
     "text": [
      "/Users/apple/miniconda3/envs/cta-dev/lib/python3.8/site-packages/pandas/core/frame.py:2963: SettingWithCopyWarning: \n",
      "A value is trying to be set on a copy of a slice from a DataFrame.\n",
      "Try using .loc[row_indexer,col_indexer] = value instead\n",
      "\n",
      "See the caveats in the documentation: https://pandas.pydata.org/pandas-docs/stable/user_guide/indexing.html#returning-a-view-versus-a-copy\n",
      "  self[k1] = value[k2]\n"
     ]
    }
   ],
   "source": [
    "cleaned_df[mean_encode_cols] = cleaned_df[mean_encode_cols].fillna(mean_encode, axis=0)\n",
    "cleaned_df[zero_encode_cols] = cleaned_df[zero_encode_cols].fillna(0, axis=0)\n",
    "cleaned_df[string_encode_cols] = cleaned_df[string_encode_cols].fillna(string_encode, axis=0)"
   ]
  },
  {
   "cell_type": "code",
   "execution_count": 49,
   "metadata": {},
   "outputs": [
    {
     "data": {
      "text/plain": [
       "7.0     187026\n",
       "9.0      56099\n",
       "4.0      42211\n",
       "11.0     41140\n",
       "3.0      31410\n",
       "12.0     28712\n",
       "10.0     27326\n",
       "6.0      22454\n",
       "5.0      19564\n",
       "2.0      18463\n",
       "8.0      17523\n",
       "1.0       6198\n",
       "Name: CompetitionOpenSinceMonth, dtype: int64"
      ]
     },
     "execution_count": 49,
     "metadata": {},
     "output_type": "execute_result"
    }
   ],
   "source": [
    "cleaned_df.CompetitionOpenSinceMonth.value_counts()"
   ]
  },
  {
   "cell_type": "code",
   "execution_count": 50,
   "metadata": {},
   "outputs": [
    {
     "data": {
      "text/plain": [
       "2008.0    181388\n",
       "2013.0     37143\n",
       "2012.0     36662\n",
       "2014.0     31348\n",
       "2005.0     27748\n",
       "2010.0     24827\n",
       "2009.0     24286\n",
       "2011.0     24233\n",
       "2007.0     21536\n",
       "2006.0     21050\n",
       "2015.0     16985\n",
       "2002.0     12108\n",
       "2004.0      9749\n",
       "2003.0      8458\n",
       "2001.0      7190\n",
       "2000.0      4478\n",
       "1999.0      3567\n",
       "1990.0      2235\n",
       "1994.0       908\n",
       "1995.0       893\n",
       "1998.0       457\n",
       "1961.0       447\n",
       "1900.0       430\n",
       "Name: CompetitionOpenSinceYear, dtype: int64"
      ]
     },
     "execution_count": 50,
     "metadata": {},
     "output_type": "execute_result"
    }
   ],
   "source": [
    "cleaned_df.CompetitionOpenSinceYear.value_counts()"
   ]
  },
  {
   "cell_type": "code",
   "execution_count": 51,
   "metadata": {},
   "outputs": [
    {
     "data": {
      "text/plain": [
       "Store                        0\n",
       "StoreType                    0\n",
       "Assortment                   0\n",
       "CompetitionDistance          0\n",
       "CompetitionOpenSinceMonth    0\n",
       "CompetitionOpenSinceYear     0\n",
       "Promo2                       0\n",
       "Promo2SinceWeek              0\n",
       "Promo2SinceYear              0\n",
       "PromoInterval                0\n",
       "Date                         0\n",
       "DayOfWeek                    0\n",
       "Sales                        0\n",
       "Customers                    0\n",
       "Open                         0\n",
       "Promo                        0\n",
       "StateHoliday                 0\n",
       "SchoolHoliday                0\n",
       "dtype: int64"
      ]
     },
     "execution_count": 51,
     "metadata": {},
     "output_type": "execute_result"
    }
   ],
   "source": [
    "cleaned_df.isnull().sum()"
   ]
  },
  {
   "cell_type": "markdown",
   "metadata": {},
   "source": [
    "# Drop rows with no sales"
   ]
  },
  {
   "cell_type": "code",
   "execution_count": 52,
   "metadata": {},
   "outputs": [
    {
     "data": {
      "text/plain": [
       "85227"
      ]
     },
     "execution_count": 52,
     "metadata": {},
     "output_type": "execute_result"
    }
   ],
   "source": [
    "zero_sales_mask = cleaned_df.Sales == 0\n",
    "np.sum(zero_sales_mask)"
   ]
  },
  {
   "cell_type": "code",
   "execution_count": 53,
   "metadata": {},
   "outputs": [
    {
     "data": {
      "text/plain": [
       "412899"
      ]
     },
     "execution_count": 53,
     "metadata": {},
     "output_type": "execute_result"
    }
   ],
   "source": [
    "len(cleaned_df) - np.sum(zero_sales_mask)"
   ]
  },
  {
   "cell_type": "code",
   "execution_count": 54,
   "metadata": {},
   "outputs": [
    {
     "data": {
      "text/plain": [
       "(412899, 18)"
      ]
     },
     "execution_count": 54,
     "metadata": {},
     "output_type": "execute_result"
    }
   ],
   "source": [
    "zero_sales_mask = cleaned_df.Sales == 0\n",
    "nonzero_sales = cleaned_df.loc[~zero_sales_mask]\n",
    "nonzero_sales.shape"
   ]
  },
  {
   "cell_type": "markdown",
   "metadata": {},
   "source": [
    "### Convert categorical to float"
   ]
  },
  {
   "cell_type": "code",
   "execution_count": 55,
   "metadata": {},
   "outputs": [
    {
     "name": "stdout",
     "output_type": "stream",
     "text": [
      "<class 'pandas.core.frame.DataFrame'>\n",
      "Int64Index: 412899 entries, 2 to 618471\n",
      "Data columns (total 18 columns):\n",
      " #   Column                     Non-Null Count   Dtype  \n",
      "---  ------                     --------------   -----  \n",
      " 0   Store                      412899 non-null  int64  \n",
      " 1   StoreType                  412899 non-null  object \n",
      " 2   Assortment                 412899 non-null  object \n",
      " 3   CompetitionDistance        412899 non-null  float64\n",
      " 4   CompetitionOpenSinceMonth  412899 non-null  float64\n",
      " 5   CompetitionOpenSinceYear   412899 non-null  float64\n",
      " 6   Promo2                     412899 non-null  int64  \n",
      " 7   Promo2SinceWeek            412899 non-null  float64\n",
      " 8   Promo2SinceYear            412899 non-null  float64\n",
      " 9   PromoInterval              412899 non-null  object \n",
      " 10  Date                       412899 non-null  object \n",
      " 11  DayOfWeek                  412899 non-null  float64\n",
      " 12  Sales                      412899 non-null  float64\n",
      " 13  Customers                  412899 non-null  float64\n",
      " 14  Open                       412899 non-null  float64\n",
      " 15  Promo                      412899 non-null  float64\n",
      " 16  StateHoliday               412899 non-null  object \n",
      " 17  SchoolHoliday              412899 non-null  float64\n",
      "dtypes: float64(11), int64(2), object(5)\n",
      "memory usage: 59.9+ MB\n"
     ]
    }
   ],
   "source": [
    "nonzero_sales.info()"
   ]
  },
  {
   "cell_type": "code",
   "execution_count": 56,
   "metadata": {},
   "outputs": [
    {
     "data": {
      "text/plain": [
       "0      368641\n",
       "0.0     43804\n",
       "a         347\n",
       "b          75\n",
       "c          32\n",
       "Name: StateHoliday, dtype: int64"
      ]
     },
     "execution_count": 56,
     "metadata": {},
     "output_type": "execute_result"
    }
   ],
   "source": [
    "nonzero_sales.StateHoliday.value_counts()"
   ]
  },
  {
   "cell_type": "code",
   "execution_count": 57,
   "metadata": {},
   "outputs": [
    {
     "name": "stderr",
     "output_type": "stream",
     "text": [
      "/Users/apple/miniconda3/envs/cta-dev/lib/python3.8/site-packages/pandas/core/generic.py:5303: SettingWithCopyWarning: \n",
      "A value is trying to be set on a copy of a slice from a DataFrame.\n",
      "Try using .loc[row_indexer,col_indexer] = value instead\n",
      "\n",
      "See the caveats in the documentation: https://pandas.pydata.org/pandas-docs/stable/user_guide/indexing.html#returning-a-view-versus-a-copy\n",
      "  self[name] = value\n"
     ]
    }
   ],
   "source": [
    "nonzero_sales.Date = pd.to_datetime(nonzero_sales.Date)"
   ]
  },
  {
   "cell_type": "code",
   "execution_count": 58,
   "metadata": {},
   "outputs": [],
   "source": [
    "categorical_col_mask = nonzero_sales.dtypes == 'object'\n",
    "categorical_cols = nonzero_sales.columns[categorical_col_mask]\n",
    "nonzero_sales = pd.get_dummies(nonzero_sales, columns=categorical_cols, drop_first=True)"
   ]
  },
  {
   "cell_type": "code",
   "execution_count": 59,
   "metadata": {},
   "outputs": [
    {
     "data": {
      "text/plain": [
       "Store                                      int64\n",
       "CompetitionDistance                      float64\n",
       "CompetitionOpenSinceMonth                float64\n",
       "CompetitionOpenSinceYear                 float64\n",
       "Promo2                                     int64\n",
       "Promo2SinceWeek                          float64\n",
       "Promo2SinceYear                          float64\n",
       "Date                              datetime64[ns]\n",
       "DayOfWeek                                float64\n",
       "Sales                                    float64\n",
       "Customers                                float64\n",
       "Open                                     float64\n",
       "Promo                                    float64\n",
       "SchoolHoliday                            float64\n",
       "StoreType_b                                uint8\n",
       "StoreType_c                                uint8\n",
       "StoreType_d                                uint8\n",
       "Assortment_b                               uint8\n",
       "Assortment_c                               uint8\n",
       "PromoInterval_Jan,Apr,Jul,Oct              uint8\n",
       "PromoInterval_Mar,Jun,Sept,Dec             uint8\n",
       "PromoInterval_unavailable                  uint8\n",
       "StateHoliday_0                             uint8\n",
       "StateHoliday_a                             uint8\n",
       "StateHoliday_b                             uint8\n",
       "StateHoliday_c                             uint8\n",
       "dtype: object"
      ]
     },
     "execution_count": 59,
     "metadata": {},
     "output_type": "execute_result"
    }
   ],
   "source": [
    "nonzero_sales.dtypes"
   ]
  },
  {
   "cell_type": "code",
   "execution_count": 60,
   "metadata": {},
   "outputs": [],
   "source": [
    "#nonzero_sales = nonzero_sales.drop('Date', axis=1)"
   ]
  },
  {
   "cell_type": "markdown",
   "metadata": {},
   "source": [
    "### Encode the Date column"
   ]
  },
  {
   "cell_type": "code",
   "execution_count": 61,
   "metadata": {},
   "outputs": [],
   "source": [
    "nonzero_sales['Year'] = nonzero_sales['Date'].dt.year\n",
    "nonzero_sales['Month'] = nonzero_sales['Date'].dt.month\n",
    "nonzero_sales['DayOfMonth'] = nonzero_sales['Date'].dt.day"
   ]
  },
  {
   "cell_type": "code",
   "execution_count": 62,
   "metadata": {},
   "outputs": [],
   "source": [
    "nonzero_sales = nonzero_sales.drop('Date', axis=1)"
   ]
  },
  {
   "cell_type": "code",
   "execution_count": null,
   "metadata": {},
   "outputs": [],
   "source": []
  },
  {
   "cell_type": "code",
   "execution_count": null,
   "metadata": {},
   "outputs": [],
   "source": []
  },
  {
   "cell_type": "markdown",
   "metadata": {},
   "source": [
    "# Train and test data preparation"
   ]
  },
  {
   "cell_type": "code",
   "execution_count": 63,
   "metadata": {},
   "outputs": [],
   "source": [
    "X = nonzero_sales.drop('Sales', axis=1)\n",
    "y = nonzero_sales[['Sales']]"
   ]
  },
  {
   "cell_type": "code",
   "execution_count": 64,
   "metadata": {},
   "outputs": [
    {
     "data": {
      "text/html": [
       "<div>\n",
       "<style scoped>\n",
       "    .dataframe tbody tr th:only-of-type {\n",
       "        vertical-align: middle;\n",
       "    }\n",
       "\n",
       "    .dataframe tbody tr th {\n",
       "        vertical-align: top;\n",
       "    }\n",
       "\n",
       "    .dataframe thead th {\n",
       "        text-align: right;\n",
       "    }\n",
       "</style>\n",
       "<table border=\"1\" class=\"dataframe\">\n",
       "  <thead>\n",
       "    <tr style=\"text-align: right;\">\n",
       "      <th></th>\n",
       "      <th>Store</th>\n",
       "      <th>CompetitionDistance</th>\n",
       "      <th>CompetitionOpenSinceMonth</th>\n",
       "      <th>CompetitionOpenSinceYear</th>\n",
       "      <th>Promo2</th>\n",
       "      <th>Promo2SinceWeek</th>\n",
       "      <th>Promo2SinceYear</th>\n",
       "      <th>DayOfWeek</th>\n",
       "      <th>Customers</th>\n",
       "      <th>Open</th>\n",
       "      <th>...</th>\n",
       "      <th>PromoInterval_Jan,Apr,Jul,Oct</th>\n",
       "      <th>PromoInterval_Mar,Jun,Sept,Dec</th>\n",
       "      <th>PromoInterval_unavailable</th>\n",
       "      <th>StateHoliday_0</th>\n",
       "      <th>StateHoliday_a</th>\n",
       "      <th>StateHoliday_b</th>\n",
       "      <th>StateHoliday_c</th>\n",
       "      <th>Year</th>\n",
       "      <th>Month</th>\n",
       "      <th>DayOfMonth</th>\n",
       "    </tr>\n",
       "  </thead>\n",
       "  <tbody>\n",
       "    <tr>\n",
       "      <th>2</th>\n",
       "      <td>1</td>\n",
       "      <td>1270.0</td>\n",
       "      <td>9.0</td>\n",
       "      <td>2008.0</td>\n",
       "      <td>0</td>\n",
       "      <td>0.0</td>\n",
       "      <td>0.0</td>\n",
       "      <td>4.0</td>\n",
       "      <td>578.0</td>\n",
       "      <td>1.0</td>\n",
       "      <td>...</td>\n",
       "      <td>0</td>\n",
       "      <td>0</td>\n",
       "      <td>1</td>\n",
       "      <td>1</td>\n",
       "      <td>0</td>\n",
       "      <td>0</td>\n",
       "      <td>0</td>\n",
       "      <td>2013</td>\n",
       "      <td>1</td>\n",
       "      <td>3</td>\n",
       "    </tr>\n",
       "    <tr>\n",
       "      <th>3</th>\n",
       "      <td>1</td>\n",
       "      <td>1270.0</td>\n",
       "      <td>9.0</td>\n",
       "      <td>2008.0</td>\n",
       "      <td>0</td>\n",
       "      <td>0.0</td>\n",
       "      <td>0.0</td>\n",
       "      <td>5.0</td>\n",
       "      <td>619.0</td>\n",
       "      <td>1.0</td>\n",
       "      <td>...</td>\n",
       "      <td>0</td>\n",
       "      <td>0</td>\n",
       "      <td>1</td>\n",
       "      <td>1</td>\n",
       "      <td>0</td>\n",
       "      <td>0</td>\n",
       "      <td>0</td>\n",
       "      <td>2013</td>\n",
       "      <td>1</td>\n",
       "      <td>4</td>\n",
       "    </tr>\n",
       "    <tr>\n",
       "      <th>6</th>\n",
       "      <td>1</td>\n",
       "      <td>1270.0</td>\n",
       "      <td>9.0</td>\n",
       "      <td>2008.0</td>\n",
       "      <td>0</td>\n",
       "      <td>0.0</td>\n",
       "      <td>0.0</td>\n",
       "      <td>1.0</td>\n",
       "      <td>785.0</td>\n",
       "      <td>1.0</td>\n",
       "      <td>...</td>\n",
       "      <td>0</td>\n",
       "      <td>0</td>\n",
       "      <td>1</td>\n",
       "      <td>1</td>\n",
       "      <td>0</td>\n",
       "      <td>0</td>\n",
       "      <td>0</td>\n",
       "      <td>2013</td>\n",
       "      <td>1</td>\n",
       "      <td>7</td>\n",
       "    </tr>\n",
       "    <tr>\n",
       "      <th>7</th>\n",
       "      <td>1</td>\n",
       "      <td>1270.0</td>\n",
       "      <td>9.0</td>\n",
       "      <td>2008.0</td>\n",
       "      <td>0</td>\n",
       "      <td>0.0</td>\n",
       "      <td>0.0</td>\n",
       "      <td>2.0</td>\n",
       "      <td>654.0</td>\n",
       "      <td>1.0</td>\n",
       "      <td>...</td>\n",
       "      <td>0</td>\n",
       "      <td>0</td>\n",
       "      <td>1</td>\n",
       "      <td>1</td>\n",
       "      <td>0</td>\n",
       "      <td>0</td>\n",
       "      <td>0</td>\n",
       "      <td>2013</td>\n",
       "      <td>1</td>\n",
       "      <td>8</td>\n",
       "    </tr>\n",
       "    <tr>\n",
       "      <th>8</th>\n",
       "      <td>1</td>\n",
       "      <td>1270.0</td>\n",
       "      <td>9.0</td>\n",
       "      <td>2008.0</td>\n",
       "      <td>0</td>\n",
       "      <td>0.0</td>\n",
       "      <td>0.0</td>\n",
       "      <td>3.0</td>\n",
       "      <td>626.0</td>\n",
       "      <td>1.0</td>\n",
       "      <td>...</td>\n",
       "      <td>0</td>\n",
       "      <td>0</td>\n",
       "      <td>1</td>\n",
       "      <td>1</td>\n",
       "      <td>0</td>\n",
       "      <td>0</td>\n",
       "      <td>0</td>\n",
       "      <td>2013</td>\n",
       "      <td>1</td>\n",
       "      <td>9</td>\n",
       "    </tr>\n",
       "  </tbody>\n",
       "</table>\n",
       "<p>5 rows × 27 columns</p>\n",
       "</div>"
      ],
      "text/plain": [
       "   Store  CompetitionDistance  CompetitionOpenSinceMonth  \\\n",
       "2      1               1270.0                        9.0   \n",
       "3      1               1270.0                        9.0   \n",
       "6      1               1270.0                        9.0   \n",
       "7      1               1270.0                        9.0   \n",
       "8      1               1270.0                        9.0   \n",
       "\n",
       "   CompetitionOpenSinceYear  Promo2  Promo2SinceWeek  Promo2SinceYear  \\\n",
       "2                    2008.0       0              0.0              0.0   \n",
       "3                    2008.0       0              0.0              0.0   \n",
       "6                    2008.0       0              0.0              0.0   \n",
       "7                    2008.0       0              0.0              0.0   \n",
       "8                    2008.0       0              0.0              0.0   \n",
       "\n",
       "   DayOfWeek  Customers  Open  ...  PromoInterval_Jan,Apr,Jul,Oct  \\\n",
       "2        4.0      578.0   1.0  ...                              0   \n",
       "3        5.0      619.0   1.0  ...                              0   \n",
       "6        1.0      785.0   1.0  ...                              0   \n",
       "7        2.0      654.0   1.0  ...                              0   \n",
       "8        3.0      626.0   1.0  ...                              0   \n",
       "\n",
       "   PromoInterval_Mar,Jun,Sept,Dec  PromoInterval_unavailable  StateHoliday_0  \\\n",
       "2                               0                          1               1   \n",
       "3                               0                          1               1   \n",
       "6                               0                          1               1   \n",
       "7                               0                          1               1   \n",
       "8                               0                          1               1   \n",
       "\n",
       "   StateHoliday_a  StateHoliday_b  StateHoliday_c  Year  Month  DayOfMonth  \n",
       "2               0               0               0  2013      1           3  \n",
       "3               0               0               0  2013      1           4  \n",
       "6               0               0               0  2013      1           7  \n",
       "7               0               0               0  2013      1           8  \n",
       "8               0               0               0  2013      1           9  \n",
       "\n",
       "[5 rows x 27 columns]"
      ]
     },
     "execution_count": 64,
     "metadata": {},
     "output_type": "execute_result"
    }
   ],
   "source": [
    "X.head()"
   ]
  },
  {
   "cell_type": "code",
   "execution_count": 65,
   "metadata": {},
   "outputs": [],
   "source": [
    "assert len(X) == len(y)"
   ]
  },
  {
   "cell_type": "code",
   "execution_count": 66,
   "metadata": {},
   "outputs": [
    {
     "data": {
      "text/plain": [
       "<matplotlib.axes._subplots.AxesSubplot at 0x120d9dc70>"
      ]
     },
     "execution_count": 66,
     "metadata": {},
     "output_type": "execute_result"
    },
    {
     "data": {
      "image/png": "[encoded data removed]",
      "text/plain": [
       "<Figure size 432x288 with 1 Axes>"
      ]
     },
     "metadata": {
      "needs_background": "light"
     },
     "output_type": "display_data"
    }
   ],
   "source": [
    "sns.distplot(y)"
   ]
  },
  {
   "cell_type": "markdown",
   "metadata": {},
   "source": [
    "### train test split"
   ]
  },
  {
   "cell_type": "code",
   "execution_count": 67,
   "metadata": {},
   "outputs": [],
   "source": [
    "X_train, X_test, y_train, y_test = train_test_split(X, \n",
    "                                                    y, \n",
    "                                                    test_size=0.2, \n",
    "                                                    random_state=42)"
   ]
  },
  {
   "cell_type": "code",
   "execution_count": 68,
   "metadata": {},
   "outputs": [],
   "source": [
    "assert len(X_train) + len(X_test) == len(X)"
   ]
  },
  {
   "cell_type": "code",
   "execution_count": 69,
   "metadata": {},
   "outputs": [],
   "source": [
    "assert len(X_train) == len(y_train)"
   ]
  },
  {
   "cell_type": "code",
   "execution_count": 70,
   "metadata": {},
   "outputs": [
    {
     "data": {
      "text/plain": [
       "(330319, 27)"
      ]
     },
     "execution_count": 70,
     "metadata": {},
     "output_type": "execute_result"
    }
   ],
   "source": [
    "X_train.shape"
   ]
  },
  {
   "cell_type": "markdown",
   "metadata": {},
   "source": [
    "### Baseline Random Forest"
   ]
  },
  {
   "cell_type": "code",
   "execution_count": 71,
   "metadata": {},
   "outputs": [],
   "source": [
    "rf = RandomForestRegressor(n_estimators=100, \n",
    "                           min_samples_leaf=3, \n",
    "                           max_depth=5, \n",
    "                           random_state=42)"
   ]
  },
  {
   "cell_type": "code",
   "execution_count": 72,
   "metadata": {},
   "outputs": [
    {
     "name": "stderr",
     "output_type": "stream",
     "text": [
      "<ipython-input-72-168a6fc83696>:1: DataConversionWarning: A column-vector y was passed when a 1d array was expected. Please change the shape of y to (n_samples,), for example using ravel().\n",
      "  rf.fit(X_train, y_train)\n"
     ]
    },
    {
     "data": {
      "text/plain": [
       "RandomForestRegressor(bootstrap=True, ccp_alpha=0.0, criterion='mse',\n",
       "                      max_depth=5, max_features='auto', max_leaf_nodes=None,\n",
       "                      max_samples=None, min_impurity_decrease=0.0,\n",
       "                      min_impurity_split=None, min_samples_leaf=3,\n",
       "                      min_samples_split=2, min_weight_fraction_leaf=0.0,\n",
       "                      n_estimators=100, n_jobs=None, oob_score=False,\n",
       "                      random_state=42, verbose=0, warm_start=False)"
      ]
     },
     "execution_count": 72,
     "metadata": {},
     "output_type": "execute_result"
    }
   ],
   "source": [
    "rf.fit(X_train, y_train)"
   ]
  },
  {
   "cell_type": "code",
   "execution_count": 73,
   "metadata": {},
   "outputs": [],
   "source": [
    "def metric(preds, actuals):\n",
    "    preds = preds.reshape(-1)\n",
    "    actuals = actuals.reshape(-1)\n",
    "    assert preds.shape == actuals.shape\n",
    "    return 100 * np.linalg.norm((actuals - preds) / actuals) / np.sqrt(preds.shape[0])"
   ]
  },
  {
   "cell_type": "code",
   "execution_count": 74,
   "metadata": {},
   "outputs": [],
   "source": [
    "y_pred = rf.predict(X_test)"
   ]
  },
  {
   "cell_type": "code",
   "execution_count": 77,
   "metadata": {},
   "outputs": [
    {
     "name": "stdout",
     "output_type": "stream",
     "text": [
      "Metric for baseline prediction = 19.78726279017417\n"
     ]
    }
   ],
   "source": [
    "rf_base_metric = metric(y_pred, y_test.values)\n",
    "\n",
    "print(\"Metric for baseline prediction = {}\".format(rf_base_metric))"
   ]
  },
  {
   "cell_type": "code",
   "execution_count": null,
   "metadata": {},
   "outputs": [],
   "source": []
  }
 ],
 "metadata": {
  "kernelspec": {
   "display_name": "Python 3",
   "language": "python",
   "name": "python3"
  },
  "language_info": {
   "codemirror_mode": {
    "name": "ipython",
    "version": 3
   },
   "file_extension": ".py",
   "mimetype": "text/x-python",
   "name": "python",
   "nbconvert_exporter": "python",
   "pygments_lexer": "ipython3",
   "version": "3.8.2"
  }
 },
 "nbformat": 4,
 "nbformat_minor": 4
}
