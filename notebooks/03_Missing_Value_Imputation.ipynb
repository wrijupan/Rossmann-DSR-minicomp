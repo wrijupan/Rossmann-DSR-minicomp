{
 "cells": [
  {
   "cell_type": "code",
   "execution_count": 20,
   "id": "smooth-tuition",
   "metadata": {},
   "outputs": [],
   "source": [
    "import pandas as pd\n",
    "import numpy as np\n",
    "from sklearn.preprocessing import StandardScaler\n",
    "from sklearn.model_selection import train_test_split, cross_val_score\n",
    "from sklearn.ensemble import RandomForestRegressor\n",
    "\n",
    "import matplotlib.pyplot as plt\n",
    "import seaborn as sns\n",
    "%matplotlib inline"
   ]
  },
  {
   "cell_type": "code",
   "execution_count": 21,
   "id": "second-administrator",
   "metadata": {},
   "outputs": [
    {
     "name": "stderr",
     "output_type": "stream",
     "text": [
      "/Applications/anaconda3/envs/mini-comp/lib/python3.7/site-packages/IPython/core/interactiveshell.py:3156: DtypeWarning: Columns (7) have mixed types.Specify dtype option on import or set low_memory=False.\n",
      "  interactivity=interactivity, compiler=compiler, result=result)\n"
     ]
    }
   ],
   "source": [
    "train = pd.read_csv(\"../data/train.csv\")\n",
    "store = pd.read_csv(\"../data/store.csv\")"
   ]
  },
  {
   "cell_type": "code",
   "execution_count": 22,
   "id": "detected-diary",
   "metadata": {},
   "outputs": [],
   "source": [
    "merged_train_store = pd.merge(store, train, on='Store', how='left')"
   ]
  },
  {
   "cell_type": "code",
   "execution_count": 23,
   "id": "common-exclusive",
   "metadata": {},
   "outputs": [],
   "source": [
    "merged_train_store = merged_train_store.drop(['Customers', 'Open'], axis=1)"
   ]
  },
  {
   "cell_type": "code",
   "execution_count": 24,
   "id": "expired-front",
   "metadata": {},
   "outputs": [],
   "source": [
    "zero_sales_mask = (merged_train_store.Sales == 0) | merged_train_store.Sales.isnull()\n",
    "nonzero_sales = merged_train_store.loc[~zero_sales_mask]"
   ]
  },
  {
   "cell_type": "code",
   "execution_count": 25,
   "id": "blond-india",
   "metadata": {},
   "outputs": [],
   "source": [
    "nonzero_sales = nonzero_sales.dropna(axis=0, subset=['CompetitionDistance','StateHoliday','SchoolHoliday','Promo'])"
   ]
  },
  {
   "cell_type": "code",
   "execution_count": 26,
   "id": "faced-holly",
   "metadata": {
    "scrolled": false
   },
   "outputs": [],
   "source": [
    "nonzero_sales.Date = pd.to_datetime(nonzero_sales.Date)\n",
    "nonzero_sales['Month'] = nonzero_sales['Date'].dt.month\n",
    "nonzero_sales['DayOfMonth'] = nonzero_sales['Date'].dt.day\n",
    "nonzero_sales['Year'] = nonzero_sales['Date'].dt.isocalendar()['year']\n",
    "nonzero_sales['DayOfWeek'] = nonzero_sales['Date'].dt.isocalendar()['day']\n",
    "nonzero_sales['WeekOfYear'] = nonzero_sales['Date'].dt.isocalendar()['week']\n",
    "#nonzero_sales = nonzero_sales.drop('Date', axis=1)"
   ]
  },
  {
   "cell_type": "code",
   "execution_count": 27,
   "id": "behavioral-video",
   "metadata": {},
   "outputs": [],
   "source": [
    "zero_impute_cols = ['Promo2SinceWeek', 'Promo2SinceYear']\n",
    "string_impute_cols = ['PromoInterval']"
   ]
  },
  {
   "cell_type": "code",
   "execution_count": 28,
   "id": "following-paint",
   "metadata": {},
   "outputs": [],
   "source": [
    "zero_impute = 0\n",
    "string_impute = 'unavailable'"
   ]
  },
  {
   "cell_type": "code",
   "execution_count": 29,
   "id": "sonic-hollywood",
   "metadata": {},
   "outputs": [],
   "source": [
    "nonzero_sales[zero_impute_cols] = nonzero_sales[zero_impute_cols].fillna(zero_impute, axis=0)\n",
    "nonzero_sales[string_impute_cols] = nonzero_sales[string_impute_cols].fillna(string_impute, axis=0)"
   ]
  },
  {
   "cell_type": "code",
   "execution_count": 30,
   "id": "unlike-shanghai",
   "metadata": {},
   "outputs": [
    {
     "data": {
      "text/plain": [
       "Store                         0.000000\n",
       "StoreType                     0.000000\n",
       "Assortment                    0.000000\n",
       "CompetitionDistance           0.000000\n",
       "CompetitionOpenSinceMonth    31.614279\n",
       "CompetitionOpenSinceYear     31.614279\n",
       "Promo2                        0.000000\n",
       "Promo2SinceWeek               0.000000\n",
       "Promo2SinceYear               0.000000\n",
       "PromoInterval                 0.000000\n",
       "Date                          0.000000\n",
       "DayOfWeek                     0.000000\n",
       "Sales                         0.000000\n",
       "Promo                         0.000000\n",
       "StateHoliday                  0.000000\n",
       "SchoolHoliday                 0.000000\n",
       "Month                         0.000000\n",
       "DayOfMonth                    0.000000\n",
       "Year                          0.000000\n",
       "WeekOfYear                    0.000000\n",
       "dtype: float64"
      ]
     },
     "execution_count": 30,
     "metadata": {},
     "output_type": "execute_result"
    }
   ],
   "source": [
    "100 * nonzero_sales.isnull().sum() / len(nonzero_sales)"
   ]
  },
  {
   "cell_type": "code",
   "execution_count": 12,
   "id": "identical-metallic",
   "metadata": {},
   "outputs": [
    {
     "data": {
      "text/plain": [
       "count    452400.000000\n",
       "mean       5437.409505\n",
       "std        7762.579772\n",
       "min          20.000000\n",
       "25%         710.000000\n",
       "50%        2320.000000\n",
       "75%        6890.000000\n",
       "max       75860.000000\n",
       "Name: CompetitionDistance, dtype: float64"
      ]
     },
     "execution_count": 12,
     "metadata": {},
     "output_type": "execute_result"
    }
   ],
   "source": [
    "nonzero_sales.CompetitionDistance.describe()"
   ]
  },
  {
   "cell_type": "code",
   "execution_count": 13,
   "id": "collectible-intersection",
   "metadata": {},
   "outputs": [
    {
     "data": {
      "text/plain": [
       "count    143023.000000\n",
       "mean       5459.808632\n",
       "std        7539.149415\n",
       "min          20.000000\n",
       "25%         620.000000\n",
       "50%        2460.000000\n",
       "75%        7910.000000\n",
       "max       75860.000000\n",
       "Name: CompetitionDistance, dtype: float64"
      ]
     },
     "execution_count": 13,
     "metadata": {},
     "output_type": "execute_result"
    }
   ],
   "source": [
    "nonzero_sales[nonzero_sales.CompetitionOpenSinceMonth.isnull()].CompetitionDistance.describe()"
   ]
  },
  {
   "cell_type": "code",
   "execution_count": 14,
   "id": "authentic-watson",
   "metadata": {},
   "outputs": [
    {
     "data": {
      "text/plain": [
       "count    309377.000000\n",
       "mean       5427.054532\n",
       "std        7863.715177\n",
       "min          30.000000\n",
       "25%         730.000000\n",
       "50%        2230.000000\n",
       "75%        6540.000000\n",
       "max       58260.000000\n",
       "Name: CompetitionDistance, dtype: float64"
      ]
     },
     "execution_count": 14,
     "metadata": {},
     "output_type": "execute_result"
    }
   ],
   "source": [
    "nonzero_sales[~nonzero_sales.CompetitionOpenSinceMonth.isnull()].CompetitionDistance.describe()"
   ]
  },
  {
   "cell_type": "code",
   "execution_count": 15,
   "id": "orange-motel",
   "metadata": {},
   "outputs": [],
   "source": [
    "mean_impute_cols = ['CompetitionOpenSinceMonth', 'CompetitionOpenSinceYear']"
   ]
  },
  {
   "cell_type": "code",
   "execution_count": 16,
   "id": "temporal-charm",
   "metadata": {},
   "outputs": [],
   "source": [
    "mean_impute = np.floor(nonzero_sales[mean_impute_cols].mean())"
   ]
  },
  {
   "cell_type": "code",
   "execution_count": 17,
   "id": "wired-compact",
   "metadata": {},
   "outputs": [],
   "source": [
    "nonzero_sales[mean_impute_cols] = nonzero_sales[mean_impute_cols].fillna(mean_impute, axis=0)"
   ]
  },
  {
   "cell_type": "code",
   "execution_count": 18,
   "id": "under-terry",
   "metadata": {},
   "outputs": [
    {
     "data": {
      "text/plain": [
       "Store                        0.0\n",
       "StoreType                    0.0\n",
       "Assortment                   0.0\n",
       "CompetitionDistance          0.0\n",
       "CompetitionOpenSinceMonth    0.0\n",
       "CompetitionOpenSinceYear     0.0\n",
       "Promo2                       0.0\n",
       "Promo2SinceWeek              0.0\n",
       "Promo2SinceYear              0.0\n",
       "PromoInterval                0.0\n",
       "Date                         0.0\n",
       "DayOfWeek                    0.0\n",
       "Sales                        0.0\n",
       "Promo                        0.0\n",
       "StateHoliday                 0.0\n",
       "SchoolHoliday                0.0\n",
       "Month                        0.0\n",
       "DayOfMonth                   0.0\n",
       "Year                         0.0\n",
       "WeekOfYear                   0.0\n",
       "dtype: float64"
      ]
     },
     "execution_count": 18,
     "metadata": {},
     "output_type": "execute_result"
    }
   ],
   "source": [
    "100 * nonzero_sales.isnull().sum() / len(nonzero_sales)"
   ]
  },
  {
   "cell_type": "code",
   "execution_count": 19,
   "id": "worldwide-sport",
   "metadata": {},
   "outputs": [
    {
     "data": {
      "text/plain": [
       "array(['unavailable', 'Jan,Apr,Jul,Oct', 'Feb,May,Aug,Nov',\n",
       "       'Mar,Jun,Sept,Dec'], dtype=object)"
      ]
     },
     "execution_count": 19,
     "metadata": {},
     "output_type": "execute_result"
    }
   ],
   "source": [
    "nonzero_sales.PromoInterval.unique()"
   ]
  },
  {
   "cell_type": "code",
   "execution_count": null,
   "id": "european-shower",
   "metadata": {},
   "outputs": [],
   "source": []
  }
 ],
 "metadata": {
  "kernelspec": {
   "display_name": "mini-comp",
   "language": "python",
   "name": "mini-comp"
  },
  "language_info": {
   "codemirror_mode": {
    "name": "ipython",
    "version": 3
   },
   "file_extension": ".py",
   "mimetype": "text/x-python",
   "name": "python",
   "nbconvert_exporter": "python",
   "pygments_lexer": "ipython3",
   "version": "3.7.9"
  },
  "varInspector": {
   "cols": {
    "lenName": 16,
    "lenType": 16,
    "lenVar": 40
   },
   "kernels_config": {
    "python": {
     "delete_cmd_postfix": "",
     "delete_cmd_prefix": "del ",
     "library": "var_list.py",
     "varRefreshCmd": "print(var_dic_list())"
    },
    "r": {
     "delete_cmd_postfix": ") ",
     "delete_cmd_prefix": "rm(",
     "library": "var_list.r",
     "varRefreshCmd": "cat(var_dic_list()) "
    }
   },
   "types_to_exclude": [
    "module",
    "function",
    "builtin_function_or_method",
    "instance",
    "_Feature"
   ],
   "window_display": false
  }
 },
 "nbformat": 4,
 "nbformat_minor": 5
}
