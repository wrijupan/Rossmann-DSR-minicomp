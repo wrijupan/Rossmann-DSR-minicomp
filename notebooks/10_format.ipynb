{
 "cells": [
  {
   "cell_type": "markdown",
   "metadata": {},
   "source": [
    "# Import packages and own modules"
   ]
  },
  {
   "cell_type": "code",
   "execution_count": 2,
   "metadata": {},
   "outputs": [],
   "source": [
    "import pandas as pd\n",
    "import numpy as np\n",
    "\n",
    "from sklearn.preprocessing import StandardScaler\n",
    "from sklearn.model_selection import train_test_split, cross_val_score\n",
    "from sklearn.ensemble import RandomForestRegressor\n",
    "\n",
    "import matplotlib.pyplot as plt\n",
    "import seaborn as sns\n",
    "\n",
    "import holidays\n",
    "\n",
    "import sys\n",
    "sys.path += ['../src']\n",
    "from feature_engineering import *\n",
    "from feature_scaling import *\n",
    "from outliers import *\n",
    "from utils import *\n",
    "from helperFunctions import *\n",
    "\n",
    "%matplotlib inline"
   ]
  },
  {
   "cell_type": "markdown",
   "metadata": {},
   "source": [
    "# 1. Load input data\n",
    "## 1.1 Load and merge data"
   ]
  },
  {
   "cell_type": "code",
   "execution_count": 3,
   "metadata": {
    "scrolled": false
   },
   "outputs": [
    {
     "name": "stderr",
     "output_type": "stream",
     "text": [
      "/Applications/anaconda3/lib/python3.7/site-packages/IPython/core/interactiveshell.py:3058: DtypeWarning: Columns (7) have mixed types.Specify dtype option on import or set low_memory=False.\n",
      "  interactivity=interactivity, compiler=compiler, result=result)\n"
     ]
    }
   ],
   "source": [
    "train = pd.read_csv(\"../data/train.csv\")\n",
    "test = pd.read_csv(\"../data/holdout.csv\")\n",
    "\n",
    "store = pd.read_csv(\"../data/store.csv\")\n",
    "data_train = pd.merge(store, train, on='Store', how='left')\n",
    "data_test = pd.merge(store, train, on='Store', how='left')"
   ]
  },
  {
   "cell_type": "markdown",
   "metadata": {},
   "source": [
    "## 1.2 Convert 'Date' column and generate generic date features"
   ]
  },
  {
   "cell_type": "code",
   "execution_count": 4,
   "metadata": {},
   "outputs": [
    {
     "name": "stderr",
     "output_type": "stream",
     "text": [
      "/Applications/anaconda3/lib/python3.7/site-packages/ipykernel_launcher.py:6: FutureWarning: Series.dt.weekofyear and Series.dt.week have been deprecated.  Please use Series.dt.isocalendar().week instead.\n",
      "  \n",
      "/Applications/anaconda3/lib/python3.7/site-packages/ipykernel_launcher.py:13: FutureWarning: Series.dt.weekofyear and Series.dt.week have been deprecated.  Please use Series.dt.isocalendar().week instead.\n",
      "  del sys.path[0]\n"
     ]
    }
   ],
   "source": [
    "data_train.loc[:, 'Date'] = pd.to_datetime(data_train.loc[:, 'Date'])\n",
    "data_train.loc[:, 'Month'] = data_train['Date'].dt.month\n",
    "data_train.loc[:, 'DayOfMonth'] = data_train['Date'].dt.day\n",
    "data_train.loc[:, 'Year'] = data_train['Date'].dt.year\n",
    "data_train.loc[:, 'DayOfWeek'] = data_train['Date'].dt.dayofweek\n",
    "data_train.loc[:, 'WeekOfYear'] = data_train['Date'].dt.weekofyear\n",
    "\n",
    "data_test.loc[:, 'Date'] = pd.to_datetime(data_test.loc[:, 'Date'])\n",
    "data_test.loc[:, 'Month'] = data_test['Date'].dt.month\n",
    "data_test.loc[:,'DayOfMonth'] = data_test['Date'].dt.day\n",
    "data_test.loc[:,'Year'] = data_test['Date'].dt.year\n",
    "data_test.loc[:,'DayOfWeek'] = data_test['Date'].dt.dayofweek\n",
    "data_test.loc[:,'WeekOfYear'] = data_test['Date'].dt.weekofyear"
   ]
  },
  {
   "cell_type": "markdown",
   "metadata": {},
   "source": [
    "## 1.3 Drop rows based on 'Sales' column \n",
    "#### Drop rows with value zero"
   ]
  },
  {
   "cell_type": "code",
   "execution_count": 5,
   "metadata": {},
   "outputs": [
    {
     "name": "stdout",
     "output_type": "stream",
     "text": [
      "Drop 102652 rows, keep 515821\n",
      "Drop 121097 rows, keep 497376\n"
     ]
    }
   ],
   "source": [
    "zero_sales = data_train.Sales == 0\n",
    "data_train = data_train.loc[~zero_sales]\n",
    "print(f'Drop {sum(zero_sales)} rows, keep {data_train.shape[0]}')\n",
    "\n",
    "zero_sales = data_test.Sales == 0\n",
    "missing_sales = data_test.Sales.isnull()\n",
    "data_test = data_test.loc[~(zero_sales|missing_sales)]\n",
    "print(f'Drop {sum(zero_sales|missing_sales)} rows, keep {data_test.shape[0]}')"
   ]
  },
  {
   "cell_type": "markdown",
   "metadata": {},
   "source": [
    "## 1.4 Remove erroneous data\n",
    "#### Drop row with nonzero sales despite being closed"
   ]
  },
  {
   "cell_type": "code",
   "execution_count": 6,
   "metadata": {},
   "outputs": [],
   "source": [
    "data_train = closed_sales(data_train)\n",
    "data_test = closed_sales(data_train)"
   ]
  },
  {
   "cell_type": "markdown",
   "metadata": {},
   "source": [
    "## 1.5 Compute 'Sales_per_customer' column\n",
    "#### Compute sales per customer for each store from training set data"
   ]
  },
  {
   "cell_type": "code",
   "execution_count": 7,
   "metadata": {},
   "outputs": [],
   "source": [
    "group = data_train.groupby(by='Store').agg({'Sales': 'mean', 'Customers': 'mean'})\n",
    "group['Sales_per_customer'] = group['Sales'] / group['Customers']"
   ]
  },
  {
   "cell_type": "markdown",
   "metadata": {},
   "source": [
    "#### Map sales per customer to training and test set"
   ]
  },
  {
   "cell_type": "code",
   "execution_count": 8,
   "metadata": {},
   "outputs": [],
   "source": [
    "data_train['Sales_per_customer'] = data_train['Store'].map(group['Sales_per_customer'])\n",
    "data_test['Sales_per_customer'] = data_test['Store'].map(group['Sales_per_customer'])"
   ]
  },
  {
   "cell_type": "markdown",
   "metadata": {},
   "source": [
    "## 1.6 Compute 'Customers_per_store' column\n",
    "#### Compute customers per store for each store from training set data"
   ]
  },
  {
   "cell_type": "code",
   "execution_count": 9,
   "metadata": {},
   "outputs": [],
   "source": [
    "group = data_train.groupby('Store').agg({'Customers': 'mean'})"
   ]
  },
  {
   "cell_type": "markdown",
   "metadata": {},
   "source": [
    "#### Map customers per store to training and test set"
   ]
  },
  {
   "cell_type": "code",
   "execution_count": 10,
   "metadata": {},
   "outputs": [],
   "source": [
    "data_train['Customer_per_store'] = data_train['Store'].map(group['Customers'])\n",
    "data_test['Customer_per_store'] = data_test['Store'].map(group['Customers'])"
   ]
  },
  {
   "cell_type": "markdown",
   "metadata": {},
   "source": [
    "# 2. Missing value imputation\n",
    "#### Overview before imputing missing values"
   ]
  },
  {
   "cell_type": "code",
   "execution_count": 11,
   "metadata": {},
   "outputs": [
    {
     "data": {
      "text/html": [
       "<div>\n",
       "<style scoped>\n",
       "    .dataframe tbody tr th:only-of-type {\n",
       "        vertical-align: middle;\n",
       "    }\n",
       "\n",
       "    .dataframe tbody tr th {\n",
       "        vertical-align: top;\n",
       "    }\n",
       "\n",
       "    .dataframe thead th {\n",
       "        text-align: right;\n",
       "    }\n",
       "</style>\n",
       "<table border=\"1\" class=\"dataframe\">\n",
       "  <thead>\n",
       "    <tr style=\"text-align: right;\">\n",
       "      <th></th>\n",
       "      <th>Null (total)</th>\n",
       "      <th>Null (percent)</th>\n",
       "      <th>Type</th>\n",
       "    </tr>\n",
       "  </thead>\n",
       "  <tbody>\n",
       "    <tr>\n",
       "      <th>Store</th>\n",
       "      <td>0</td>\n",
       "      <td>0.00</td>\n",
       "      <td>int64</td>\n",
       "    </tr>\n",
       "    <tr>\n",
       "      <th>StoreType</th>\n",
       "      <td>0</td>\n",
       "      <td>0.00</td>\n",
       "      <td>object</td>\n",
       "    </tr>\n",
       "    <tr>\n",
       "      <th>Assortment</th>\n",
       "      <td>0</td>\n",
       "      <td>0.00</td>\n",
       "      <td>object</td>\n",
       "    </tr>\n",
       "    <tr>\n",
       "      <th>CompetitionDistance</th>\n",
       "      <td>1351</td>\n",
       "      <td>0.26</td>\n",
       "      <td>float64</td>\n",
       "    </tr>\n",
       "    <tr>\n",
       "      <th>CompetitionOpenSinceMonth</th>\n",
       "      <td>162948</td>\n",
       "      <td>31.77</td>\n",
       "      <td>float64</td>\n",
       "    </tr>\n",
       "    <tr>\n",
       "      <th>CompetitionOpenSinceYear</th>\n",
       "      <td>162948</td>\n",
       "      <td>31.77</td>\n",
       "      <td>float64</td>\n",
       "    </tr>\n",
       "    <tr>\n",
       "      <th>Promo2</th>\n",
       "      <td>0</td>\n",
       "      <td>0.00</td>\n",
       "      <td>int64</td>\n",
       "    </tr>\n",
       "    <tr>\n",
       "      <th>Promo2SinceWeek</th>\n",
       "      <td>252634</td>\n",
       "      <td>49.26</td>\n",
       "      <td>float64</td>\n",
       "    </tr>\n",
       "    <tr>\n",
       "      <th>Promo2SinceYear</th>\n",
       "      <td>252634</td>\n",
       "      <td>49.26</td>\n",
       "      <td>float64</td>\n",
       "    </tr>\n",
       "    <tr>\n",
       "      <th>PromoInterval</th>\n",
       "      <td>252634</td>\n",
       "      <td>49.26</td>\n",
       "      <td>object</td>\n",
       "    </tr>\n",
       "    <tr>\n",
       "      <th>Date</th>\n",
       "      <td>0</td>\n",
       "      <td>0.00</td>\n",
       "      <td>datetime64[ns]</td>\n",
       "    </tr>\n",
       "    <tr>\n",
       "      <th>DayOfWeek</th>\n",
       "      <td>0</td>\n",
       "      <td>0.00</td>\n",
       "      <td>int64</td>\n",
       "    </tr>\n",
       "    <tr>\n",
       "      <th>Sales</th>\n",
       "      <td>15452</td>\n",
       "      <td>3.01</td>\n",
       "      <td>float64</td>\n",
       "    </tr>\n",
       "    <tr>\n",
       "      <th>Customers</th>\n",
       "      <td>15450</td>\n",
       "      <td>3.01</td>\n",
       "      <td>float64</td>\n",
       "    </tr>\n",
       "    <tr>\n",
       "      <th>Open</th>\n",
       "      <td>15564</td>\n",
       "      <td>3.03</td>\n",
       "      <td>float64</td>\n",
       "    </tr>\n",
       "    <tr>\n",
       "      <th>Promo</th>\n",
       "      <td>15432</td>\n",
       "      <td>3.01</td>\n",
       "      <td>float64</td>\n",
       "    </tr>\n",
       "    <tr>\n",
       "      <th>StateHoliday</th>\n",
       "      <td>15494</td>\n",
       "      <td>3.02</td>\n",
       "      <td>object</td>\n",
       "    </tr>\n",
       "    <tr>\n",
       "      <th>SchoolHoliday</th>\n",
       "      <td>15566</td>\n",
       "      <td>3.04</td>\n",
       "      <td>float64</td>\n",
       "    </tr>\n",
       "    <tr>\n",
       "      <th>Month</th>\n",
       "      <td>0</td>\n",
       "      <td>0.00</td>\n",
       "      <td>int64</td>\n",
       "    </tr>\n",
       "    <tr>\n",
       "      <th>DayOfMonth</th>\n",
       "      <td>0</td>\n",
       "      <td>0.00</td>\n",
       "      <td>int64</td>\n",
       "    </tr>\n",
       "    <tr>\n",
       "      <th>Year</th>\n",
       "      <td>0</td>\n",
       "      <td>0.00</td>\n",
       "      <td>int64</td>\n",
       "    </tr>\n",
       "    <tr>\n",
       "      <th>WeekOfYear</th>\n",
       "      <td>0</td>\n",
       "      <td>0.00</td>\n",
       "      <td>int64</td>\n",
       "    </tr>\n",
       "    <tr>\n",
       "      <th>Sales_per_customer</th>\n",
       "      <td>0</td>\n",
       "      <td>0.00</td>\n",
       "      <td>float64</td>\n",
       "    </tr>\n",
       "    <tr>\n",
       "      <th>Customer_per_store</th>\n",
       "      <td>0</td>\n",
       "      <td>0.00</td>\n",
       "      <td>float64</td>\n",
       "    </tr>\n",
       "  </tbody>\n",
       "</table>\n",
       "</div>"
      ],
      "text/plain": [
       "                           Null (total)  Null (percent)            Type\n",
       "Store                                 0            0.00           int64\n",
       "StoreType                             0            0.00          object\n",
       "Assortment                            0            0.00          object\n",
       "CompetitionDistance                1351            0.26         float64\n",
       "CompetitionOpenSinceMonth        162948           31.77         float64\n",
       "CompetitionOpenSinceYear         162948           31.77         float64\n",
       "Promo2                                0            0.00           int64\n",
       "Promo2SinceWeek                  252634           49.26         float64\n",
       "Promo2SinceYear                  252634           49.26         float64\n",
       "PromoInterval                    252634           49.26          object\n",
       "Date                                  0            0.00  datetime64[ns]\n",
       "DayOfWeek                             0            0.00           int64\n",
       "Sales                             15452            3.01         float64\n",
       "Customers                         15450            3.01         float64\n",
       "Open                              15564            3.03         float64\n",
       "Promo                             15432            3.01         float64\n",
       "StateHoliday                      15494            3.02          object\n",
       "SchoolHoliday                     15566            3.04         float64\n",
       "Month                                 0            0.00           int64\n",
       "DayOfMonth                            0            0.00           int64\n",
       "Year                                  0            0.00           int64\n",
       "WeekOfYear                            0            0.00           int64\n",
       "Sales_per_customer                    0            0.00         float64\n",
       "Customer_per_store                    0            0.00         float64"
      ]
     },
     "execution_count": 11,
     "metadata": {},
     "output_type": "execute_result"
    }
   ],
   "source": [
    "missing_report(data_train, pd)"
   ]
  },
  {
   "cell_type": "markdown",
   "metadata": {},
   "source": [
    "## 2.1 'Promo', 'Promo2'\n",
    "#### Drop all null values"
   ]
  },
  {
   "cell_type": "code",
   "execution_count": 12,
   "metadata": {},
   "outputs": [
    {
     "name": "stdout",
     "output_type": "stream",
     "text": [
      "Drop 15432 rows, keep 497396\n",
      "Drop 15432 rows, keep 497396\n"
     ]
    }
   ],
   "source": [
    "missing_promo = data_train.Promo.isnull() | data_train.Promo2.isnull()\n",
    "data_train = data_train.loc[~missing_promo, :]\n",
    "print(f'Drop {sum(missing_promo)} rows, keep {data_train.shape[0]}')\n",
    "\n",
    "missing_promo = data_test.Promo.isnull() | data_test.Promo2.isnull()\n",
    "data_test = data_test.loc[~missing_promo, :]\n",
    "print(f'Drop {sum(missing_promo)} rows, keep {data_test.shape[0]}')"
   ]
  },
  {
   "cell_type": "markdown",
   "metadata": {},
   "source": [
    "## 2.2 'CompetitionOpenSinceMonth', 'CompetitionOpenSinceYear'\n",
    "#### Apply mean imputation for missing values"
   ]
  },
  {
   "cell_type": "code",
   "execution_count": 13,
   "metadata": {},
   "outputs": [],
   "source": [
    "data_train = mean_imputation(data_train,['CompetitionOpenSinceMonth', 'CompetitionOpenSinceYear'])\n",
    "data_test = mean_imputation(data_test,['CompetitionOpenSinceMonth', 'CompetitionOpenSinceYear'])"
   ]
  },
  {
   "cell_type": "markdown",
   "metadata": {},
   "source": [
    "## 2.3 'Promo2SinceWeek', 'Promo2SinceYear',  'PromoInterval'\n",
    "#### Apply mean imputation for stores participating and constant imputation with zero for stores not participating"
   ]
  },
  {
   "cell_type": "code",
   "execution_count": 14,
   "metadata": {},
   "outputs": [],
   "source": [
    "data_train = mean_imputation(data_train, ['Promo2SinceWeek', 'Promo2SinceYear'], enforce_int=True)\n",
    "Promo2 = data_train.Promo2 == 1\n",
    "data_train.loc[~Promo2, ['Promo2SinceWeek', 'Promo2SinceYear']] = 0\n",
    "data_train = const_imputation(data_train,['PromoInterval'],values='unavailable')\n",
    "\n",
    "data_test = mean_imputation(data_test, ['Promo2SinceWeek', 'Promo2SinceYear'], enforce_int=True)\n",
    "Promo2 = data_test.Promo2 == 1\n",
    "data_test.loc[~Promo2, ['Promo2SinceWeek', 'Promo2SinceYear']] = 0\n",
    "data_test = const_imputation(data_test,['PromoInterval'],values='unavailable')"
   ]
  },
  {
   "cell_type": "markdown",
   "metadata": {},
   "source": [
    "## 2.4 'Sales', 'Customers', 'Open'\n",
    "#### Drop rows with missing 'Sales' in case 'Open' or 'Customers' is zero (training set only)"
   ]
  },
  {
   "cell_type": "code",
   "execution_count": 15,
   "metadata": {},
   "outputs": [
    {
     "name": "stdout",
     "output_type": "stream",
     "text": [
      "Drop 85 rows, keep 497311\n"
     ]
    }
   ],
   "source": [
    "not_open = data_train.Open==0\n",
    "no_customer = data_train.Customers==0\n",
    "missing_sales = data_train.Sales.isnull()\n",
    "data_train = data_train.loc[~((not_open | no_customer) & missing_sales), :]\n",
    "\n",
    "print(f'Drop {sum(((not_open | no_customer) & missing_sales))} rows, keep {data_train.shape[0]}')"
   ]
  },
  {
   "cell_type": "markdown",
   "metadata": {},
   "source": [
    "#### Impute 'Sales' from 'Customers' and 'Sales_per_customer' (training set only)"
   ]
  },
  {
   "cell_type": "code",
   "execution_count": 16,
   "metadata": {},
   "outputs": [
    {
     "name": "stdout",
     "output_type": "stream",
     "text": [
      "Drop 451 rows, keep 496860\n"
     ]
    }
   ],
   "source": [
    "missing_sales = data_train.Sales.isnull()\n",
    "data_train.loc[missing_sales, 'Sales'] = data_train.loc[missing_sales, 'Customers'] * data_train.loc[missing_sales, 'Sales_per_customer']\n",
    "missing_sales = data_train.Sales.isnull()\n",
    "data_train = data_train.loc[~missing_sales, :]\n",
    "\n",
    "print(f'Drop {sum(missing_sales)} rows, keep {data_train.shape[0]}')\n",
    "data_train = const_imputation(data_train,['Open'],values=1)"
   ]
  },
  {
   "cell_type": "markdown",
   "metadata": {},
   "source": [
    "#### Drop rows with missing or zero 'Open' (test set only)"
   ]
  },
  {
   "cell_type": "code",
   "execution_count": 17,
   "metadata": {},
   "outputs": [
    {
     "name": "stdout",
     "output_type": "stream",
     "text": [
      "Drop 15070 rows, keep 482326\n"
     ]
    }
   ],
   "source": [
    "not_open = data_test.Open==0\n",
    "missing_open = data_test.Open.isna()\n",
    "\n",
    "data_test = data_test.loc[~(not_open | missing_open), :]\n",
    "\n",
    "print(f'Drop {sum(not_open | missing_open)} rows, keep {data_test.shape[0]}')"
   ]
  },
  {
   "cell_type": "markdown",
   "metadata": {},
   "source": [
    "## 2.5 'StateHoliday'\n",
    "#### Look up if 'Date' is a national holiday and impute missing values with 'a' and '0' accordingly"
   ]
  },
  {
   "cell_type": "code",
   "execution_count": 18,
   "metadata": {},
   "outputs": [],
   "source": [
    "data_train = holiday_imputation(data_train, holidays)\n",
    "data_test = holiday_imputation(data_test, holidays)"
   ]
  },
  {
   "cell_type": "markdown",
   "metadata": {},
   "source": [
    "## 2.6 'CompetitionDistance'\n",
    "#### Drop rows with missing values"
   ]
  },
  {
   "cell_type": "code",
   "execution_count": 19,
   "metadata": {},
   "outputs": [
    {
     "name": "stdout",
     "output_type": "stream",
     "text": [
      "Drop 1299 rows, keep 495561\n",
      "Drop 1246 rows, keep 481080\n"
     ]
    }
   ],
   "source": [
    "missing_distance = data_train.CompetitionDistance.isnull()\n",
    "data_train = data_train.loc[~missing_distance, :]\n",
    "print(f'Drop {sum(missing_distance)} rows, keep {data_train.shape[0]}')\n",
    "\n",
    "missing_distance = data_test.CompetitionDistance.isnull()\n",
    "data_test = data_test.loc[~missing_distance, :]\n",
    "print(f'Drop {sum(missing_distance)} rows, keep {data_test.shape[0]}')"
   ]
  },
  {
   "cell_type": "markdown",
   "metadata": {},
   "source": [
    "## 2.7 Drop columns 'Customers', 'Open' and 'SchoolHoliday'"
   ]
  },
  {
   "cell_type": "code",
   "execution_count": 20,
   "metadata": {},
   "outputs": [],
   "source": [
    "data_train = data_train.drop(columns = ['Customers','Open', 'SchoolHoliday'])\n",
    "data_test = data_test.drop(columns = ['Customers','Open', 'SchoolHoliday'])"
   ]
  },
  {
   "cell_type": "code",
   "execution_count": 21,
   "metadata": {},
   "outputs": [
    {
     "data": {
      "text/html": [
       "<div>\n",
       "<style scoped>\n",
       "    .dataframe tbody tr th:only-of-type {\n",
       "        vertical-align: middle;\n",
       "    }\n",
       "\n",
       "    .dataframe tbody tr th {\n",
       "        vertical-align: top;\n",
       "    }\n",
       "\n",
       "    .dataframe thead th {\n",
       "        text-align: right;\n",
       "    }\n",
       "</style>\n",
       "<table border=\"1\" class=\"dataframe\">\n",
       "  <thead>\n",
       "    <tr style=\"text-align: right;\">\n",
       "      <th></th>\n",
       "      <th>Null (total)</th>\n",
       "      <th>Null (percent)</th>\n",
       "      <th>Type</th>\n",
       "    </tr>\n",
       "  </thead>\n",
       "  <tbody>\n",
       "    <tr>\n",
       "      <th>Store</th>\n",
       "      <td>0</td>\n",
       "      <td>0.0</td>\n",
       "      <td>int64</td>\n",
       "    </tr>\n",
       "    <tr>\n",
       "      <th>StoreType</th>\n",
       "      <td>0</td>\n",
       "      <td>0.0</td>\n",
       "      <td>object</td>\n",
       "    </tr>\n",
       "    <tr>\n",
       "      <th>Assortment</th>\n",
       "      <td>0</td>\n",
       "      <td>0.0</td>\n",
       "      <td>object</td>\n",
       "    </tr>\n",
       "    <tr>\n",
       "      <th>CompetitionDistance</th>\n",
       "      <td>0</td>\n",
       "      <td>0.0</td>\n",
       "      <td>float64</td>\n",
       "    </tr>\n",
       "    <tr>\n",
       "      <th>CompetitionOpenSinceMonth</th>\n",
       "      <td>0</td>\n",
       "      <td>0.0</td>\n",
       "      <td>float64</td>\n",
       "    </tr>\n",
       "    <tr>\n",
       "      <th>CompetitionOpenSinceYear</th>\n",
       "      <td>0</td>\n",
       "      <td>0.0</td>\n",
       "      <td>float64</td>\n",
       "    </tr>\n",
       "    <tr>\n",
       "      <th>Promo2</th>\n",
       "      <td>0</td>\n",
       "      <td>0.0</td>\n",
       "      <td>int64</td>\n",
       "    </tr>\n",
       "    <tr>\n",
       "      <th>Promo2SinceWeek</th>\n",
       "      <td>0</td>\n",
       "      <td>0.0</td>\n",
       "      <td>float64</td>\n",
       "    </tr>\n",
       "    <tr>\n",
       "      <th>Promo2SinceYear</th>\n",
       "      <td>0</td>\n",
       "      <td>0.0</td>\n",
       "      <td>float64</td>\n",
       "    </tr>\n",
       "    <tr>\n",
       "      <th>PromoInterval</th>\n",
       "      <td>0</td>\n",
       "      <td>0.0</td>\n",
       "      <td>object</td>\n",
       "    </tr>\n",
       "    <tr>\n",
       "      <th>Date</th>\n",
       "      <td>0</td>\n",
       "      <td>0.0</td>\n",
       "      <td>datetime64[ns]</td>\n",
       "    </tr>\n",
       "    <tr>\n",
       "      <th>DayOfWeek</th>\n",
       "      <td>0</td>\n",
       "      <td>0.0</td>\n",
       "      <td>int64</td>\n",
       "    </tr>\n",
       "    <tr>\n",
       "      <th>Sales</th>\n",
       "      <td>0</td>\n",
       "      <td>0.0</td>\n",
       "      <td>float64</td>\n",
       "    </tr>\n",
       "    <tr>\n",
       "      <th>Promo</th>\n",
       "      <td>0</td>\n",
       "      <td>0.0</td>\n",
       "      <td>float64</td>\n",
       "    </tr>\n",
       "    <tr>\n",
       "      <th>StateHoliday</th>\n",
       "      <td>0</td>\n",
       "      <td>0.0</td>\n",
       "      <td>object</td>\n",
       "    </tr>\n",
       "    <tr>\n",
       "      <th>Month</th>\n",
       "      <td>0</td>\n",
       "      <td>0.0</td>\n",
       "      <td>int64</td>\n",
       "    </tr>\n",
       "    <tr>\n",
       "      <th>DayOfMonth</th>\n",
       "      <td>0</td>\n",
       "      <td>0.0</td>\n",
       "      <td>int64</td>\n",
       "    </tr>\n",
       "    <tr>\n",
       "      <th>Year</th>\n",
       "      <td>0</td>\n",
       "      <td>0.0</td>\n",
       "      <td>int64</td>\n",
       "    </tr>\n",
       "    <tr>\n",
       "      <th>WeekOfYear</th>\n",
       "      <td>0</td>\n",
       "      <td>0.0</td>\n",
       "      <td>int64</td>\n",
       "    </tr>\n",
       "    <tr>\n",
       "      <th>Sales_per_customer</th>\n",
       "      <td>0</td>\n",
       "      <td>0.0</td>\n",
       "      <td>float64</td>\n",
       "    </tr>\n",
       "    <tr>\n",
       "      <th>Customer_per_store</th>\n",
       "      <td>0</td>\n",
       "      <td>0.0</td>\n",
       "      <td>float64</td>\n",
       "    </tr>\n",
       "  </tbody>\n",
       "</table>\n",
       "</div>"
      ],
      "text/plain": [
       "                           Null (total)  Null (percent)            Type\n",
       "Store                                 0             0.0           int64\n",
       "StoreType                             0             0.0          object\n",
       "Assortment                            0             0.0          object\n",
       "CompetitionDistance                   0             0.0         float64\n",
       "CompetitionOpenSinceMonth             0             0.0         float64\n",
       "CompetitionOpenSinceYear              0             0.0         float64\n",
       "Promo2                                0             0.0           int64\n",
       "Promo2SinceWeek                       0             0.0         float64\n",
       "Promo2SinceYear                       0             0.0         float64\n",
       "PromoInterval                         0             0.0          object\n",
       "Date                                  0             0.0  datetime64[ns]\n",
       "DayOfWeek                             0             0.0           int64\n",
       "Sales                                 0             0.0         float64\n",
       "Promo                                 0             0.0         float64\n",
       "StateHoliday                          0             0.0          object\n",
       "Month                                 0             0.0           int64\n",
       "DayOfMonth                            0             0.0           int64\n",
       "Year                                  0             0.0           int64\n",
       "WeekOfYear                            0             0.0           int64\n",
       "Sales_per_customer                    0             0.0         float64\n",
       "Customer_per_store                    0             0.0         float64"
      ]
     },
     "execution_count": 21,
     "metadata": {},
     "output_type": "execute_result"
    }
   ],
   "source": [
    "missing_report(data_train, pd)"
   ]
  },
  {
   "cell_type": "code",
   "execution_count": 22,
   "metadata": {},
   "outputs": [
    {
     "data": {
      "text/html": [
       "<div>\n",
       "<style scoped>\n",
       "    .dataframe tbody tr th:only-of-type {\n",
       "        vertical-align: middle;\n",
       "    }\n",
       "\n",
       "    .dataframe tbody tr th {\n",
       "        vertical-align: top;\n",
       "    }\n",
       "\n",
       "    .dataframe thead th {\n",
       "        text-align: right;\n",
       "    }\n",
       "</style>\n",
       "<table border=\"1\" class=\"dataframe\">\n",
       "  <thead>\n",
       "    <tr style=\"text-align: right;\">\n",
       "      <th></th>\n",
       "      <th>Null (total)</th>\n",
       "      <th>Null (percent)</th>\n",
       "      <th>Type</th>\n",
       "    </tr>\n",
       "  </thead>\n",
       "  <tbody>\n",
       "    <tr>\n",
       "      <th>Store</th>\n",
       "      <td>0</td>\n",
       "      <td>0.0</td>\n",
       "      <td>int64</td>\n",
       "    </tr>\n",
       "    <tr>\n",
       "      <th>StoreType</th>\n",
       "      <td>0</td>\n",
       "      <td>0.0</td>\n",
       "      <td>object</td>\n",
       "    </tr>\n",
       "    <tr>\n",
       "      <th>Assortment</th>\n",
       "      <td>0</td>\n",
       "      <td>0.0</td>\n",
       "      <td>object</td>\n",
       "    </tr>\n",
       "    <tr>\n",
       "      <th>CompetitionDistance</th>\n",
       "      <td>0</td>\n",
       "      <td>0.0</td>\n",
       "      <td>float64</td>\n",
       "    </tr>\n",
       "    <tr>\n",
       "      <th>CompetitionOpenSinceMonth</th>\n",
       "      <td>0</td>\n",
       "      <td>0.0</td>\n",
       "      <td>float64</td>\n",
       "    </tr>\n",
       "    <tr>\n",
       "      <th>CompetitionOpenSinceYear</th>\n",
       "      <td>0</td>\n",
       "      <td>0.0</td>\n",
       "      <td>float64</td>\n",
       "    </tr>\n",
       "    <tr>\n",
       "      <th>Promo2</th>\n",
       "      <td>0</td>\n",
       "      <td>0.0</td>\n",
       "      <td>int64</td>\n",
       "    </tr>\n",
       "    <tr>\n",
       "      <th>Promo2SinceWeek</th>\n",
       "      <td>0</td>\n",
       "      <td>0.0</td>\n",
       "      <td>float64</td>\n",
       "    </tr>\n",
       "    <tr>\n",
       "      <th>Promo2SinceYear</th>\n",
       "      <td>0</td>\n",
       "      <td>0.0</td>\n",
       "      <td>float64</td>\n",
       "    </tr>\n",
       "    <tr>\n",
       "      <th>PromoInterval</th>\n",
       "      <td>0</td>\n",
       "      <td>0.0</td>\n",
       "      <td>object</td>\n",
       "    </tr>\n",
       "    <tr>\n",
       "      <th>Date</th>\n",
       "      <td>0</td>\n",
       "      <td>0.0</td>\n",
       "      <td>datetime64[ns]</td>\n",
       "    </tr>\n",
       "    <tr>\n",
       "      <th>DayOfWeek</th>\n",
       "      <td>0</td>\n",
       "      <td>0.0</td>\n",
       "      <td>int64</td>\n",
       "    </tr>\n",
       "    <tr>\n",
       "      <th>Sales</th>\n",
       "      <td>14447</td>\n",
       "      <td>3.0</td>\n",
       "      <td>float64</td>\n",
       "    </tr>\n",
       "    <tr>\n",
       "      <th>Promo</th>\n",
       "      <td>0</td>\n",
       "      <td>0.0</td>\n",
       "      <td>float64</td>\n",
       "    </tr>\n",
       "    <tr>\n",
       "      <th>StateHoliday</th>\n",
       "      <td>0</td>\n",
       "      <td>0.0</td>\n",
       "      <td>object</td>\n",
       "    </tr>\n",
       "    <tr>\n",
       "      <th>Month</th>\n",
       "      <td>0</td>\n",
       "      <td>0.0</td>\n",
       "      <td>int64</td>\n",
       "    </tr>\n",
       "    <tr>\n",
       "      <th>DayOfMonth</th>\n",
       "      <td>0</td>\n",
       "      <td>0.0</td>\n",
       "      <td>int64</td>\n",
       "    </tr>\n",
       "    <tr>\n",
       "      <th>Year</th>\n",
       "      <td>0</td>\n",
       "      <td>0.0</td>\n",
       "      <td>int64</td>\n",
       "    </tr>\n",
       "    <tr>\n",
       "      <th>WeekOfYear</th>\n",
       "      <td>0</td>\n",
       "      <td>0.0</td>\n",
       "      <td>int64</td>\n",
       "    </tr>\n",
       "    <tr>\n",
       "      <th>Sales_per_customer</th>\n",
       "      <td>0</td>\n",
       "      <td>0.0</td>\n",
       "      <td>float64</td>\n",
       "    </tr>\n",
       "    <tr>\n",
       "      <th>Customer_per_store</th>\n",
       "      <td>0</td>\n",
       "      <td>0.0</td>\n",
       "      <td>float64</td>\n",
       "    </tr>\n",
       "  </tbody>\n",
       "</table>\n",
       "</div>"
      ],
      "text/plain": [
       "                           Null (total)  Null (percent)            Type\n",
       "Store                                 0             0.0           int64\n",
       "StoreType                             0             0.0          object\n",
       "Assortment                            0             0.0          object\n",
       "CompetitionDistance                   0             0.0         float64\n",
       "CompetitionOpenSinceMonth             0             0.0         float64\n",
       "CompetitionOpenSinceYear              0             0.0         float64\n",
       "Promo2                                0             0.0           int64\n",
       "Promo2SinceWeek                       0             0.0         float64\n",
       "Promo2SinceYear                       0             0.0         float64\n",
       "PromoInterval                         0             0.0          object\n",
       "Date                                  0             0.0  datetime64[ns]\n",
       "DayOfWeek                             0             0.0           int64\n",
       "Sales                             14447             3.0         float64\n",
       "Promo                                 0             0.0         float64\n",
       "StateHoliday                          0             0.0          object\n",
       "Month                                 0             0.0           int64\n",
       "DayOfMonth                            0             0.0           int64\n",
       "Year                                  0             0.0           int64\n",
       "WeekOfYear                            0             0.0           int64\n",
       "Sales_per_customer                    0             0.0         float64\n",
       "Customer_per_store                    0             0.0         float64"
      ]
     },
     "execution_count": 22,
     "metadata": {},
     "output_type": "execute_result"
    }
   ],
   "source": [
    "missing_report(data_test, pd)"
   ]
  },
  {
   "cell_type": "markdown",
   "metadata": {},
   "source": [
    "# 3. Encoding of categorical variables\n",
    "## 3.1 'Store'\n",
    "#### Mean and frequency encoding"
   ]
  },
  {
   "cell_type": "code",
   "execution_count": 23,
   "metadata": {},
   "outputs": [],
   "source": [
    "data_train, mean_values = mean_encoding(data_train, 'Store')\n",
    "data_train, fenc_values = freq_encoding(data_train, 'Store')\n",
    "\n",
    "data_test.loc[:, 'Store_menc'] = data_test['Store'].map(mean_values)\n",
    "data_test.loc[:, 'Store_fenc'] = data_test['Store'].map(fenc_values)"
   ]
  },
  {
   "cell_type": "markdown",
   "metadata": {},
   "source": [
    "## 3.2 'StoreType'\n",
    "#### One hot encoding"
   ]
  },
  {
   "cell_type": "code",
   "execution_count": 24,
   "metadata": {},
   "outputs": [],
   "source": [
    "data_train = pd.get_dummies(data_train, columns=['StoreType'], drop_first=True)\n",
    "data_test = pd.get_dummies(data_test, columns=['StoreType'], drop_first=True)"
   ]
  },
  {
   "cell_type": "markdown",
   "metadata": {},
   "source": [
    "## 3.3 'Assortment'\n",
    "#### Ordinal encoding according to assortment levels: a = basic, b = extra, c = extended"
   ]
  },
  {
   "cell_type": "code",
   "execution_count": 25,
   "metadata": {},
   "outputs": [],
   "source": [
    "data_train = ordinal_encoding(data_train, 'Assortment', {'a':1, 'b':2, 'c':3})\n",
    "data_test = ordinal_encoding(data_test, 'Assortment', {'a':1, 'b':2, 'c':3})"
   ]
  },
  {
   "cell_type": "markdown",
   "metadata": {},
   "source": [
    "## 3.4 'StateHoliday'\n",
    "#### Binary encoding"
   ]
  },
  {
   "cell_type": "code",
   "execution_count": 26,
   "metadata": {},
   "outputs": [],
   "source": [
    "data_train = binary_encoding(data_train, 'StateHoliday', positive_list=['a', 'b', 'c'])\n",
    "data_test = binary_encoding(data_test, 'StateHoliday', positive_list=['a', 'b', 'c'])"
   ]
  },
  {
   "cell_type": "markdown",
   "metadata": {},
   "source": [
    "## 3.5 Drop encoded columns and null values from test set"
   ]
  },
  {
   "cell_type": "code",
   "execution_count": 27,
   "metadata": {},
   "outputs": [],
   "source": [
    "data_train = data_train.drop(columns=['Store', 'Assortment', 'StateHoliday'])\n",
    "data_test = data_test.drop(columns=['Store', 'Assortment', 'StateHoliday'])\n",
    "data_train = data_train.rename(columns={'Assortment_orenc': 'Assortment'})\n",
    "data_test = data_test.rename(columns={'Assortment_orenc': 'Assortment'})\n",
    "data_test = data_test.dropna()"
   ]
  },
  {
   "cell_type": "markdown",
   "metadata": {},
   "source": [
    "# 4. Feature engineering\n",
    "## 4.1 'CompetionOpenSincePeriod'"
   ]
  },
  {
   "cell_type": "code",
   "execution_count": 28,
   "metadata": {},
   "outputs": [],
   "source": [
    "data_train = compet_openmonths(data_train, yr='CompetitionOpenSinceYear', mth='CompetitionOpenSinceMonth')\n",
    "data_test = compet_openmonths(data_test, yr='CompetitionOpenSinceYear', mth='CompetitionOpenSinceMonth')"
   ]
  },
  {
   "cell_type": "markdown",
   "metadata": {},
   "source": [
    "## 4.2 'Promo2Since'"
   ]
  },
  {
   "cell_type": "code",
   "execution_count": 29,
   "metadata": {},
   "outputs": [],
   "source": [
    "data_train = promo_openweeks(data_train, yr='Promo2SinceYear', week='Promo2SinceWeek')\n",
    "data_test = promo_openweeks(data_test, yr='Promo2SinceYear', week='Promo2SinceWeek')"
   ]
  },
  {
   "cell_type": "markdown",
   "metadata": {},
   "source": [
    "## 4.3 Select features for prediction"
   ]
  },
  {
   "cell_type": "code",
   "execution_count": 30,
   "metadata": {},
   "outputs": [],
   "source": [
    "my_features = ['Sales_per_customer', 'CompetitionDistance', 'Customer_per_store', \n",
    "               'Store_menc', 'CompetitionOpenSincePeriod', \n",
    "               'Month', 'Year', 'DayOfWeek', 'WeekOfYear', 'DayOfMonth', \n",
    "               'StoreType_b', 'StoreType_c', 'StoreType_d', \n",
    "               'Promo2SincePeriod', 'Promo2', 'Promo', \n",
    "               'HasCompetitor', 'CompetitionOpenSincePeriod', \n",
    "               'Assortment', 'CompetitionDistance', 'Sales']"
   ]
  },
  {
   "cell_type": "code",
   "execution_count": 31,
   "metadata": {},
   "outputs": [],
   "source": [
    "data_train = data_train[my_features]\n",
    "data_test = data_test[my_features]"
   ]
  },
  {
   "cell_type": "code",
   "execution_count": 32,
   "metadata": {},
   "outputs": [],
   "source": [
    "X_train = data_train.drop(columns='Sales')\n",
    "y_train = data_train['Sales']\n",
    "X_test = data_test.drop(columns='Sales')\n",
    "y_test = data_test['Sales']"
   ]
  },
  {
   "cell_type": "code",
   "execution_count": 33,
   "metadata": {},
   "outputs": [
    {
     "data": {
      "text/html": [
       "<div>\n",
       "<style scoped>\n",
       "    .dataframe tbody tr th:only-of-type {\n",
       "        vertical-align: middle;\n",
       "    }\n",
       "\n",
       "    .dataframe tbody tr th {\n",
       "        vertical-align: top;\n",
       "    }\n",
       "\n",
       "    .dataframe thead th {\n",
       "        text-align: right;\n",
       "    }\n",
       "</style>\n",
       "<table border=\"1\" class=\"dataframe\">\n",
       "  <thead>\n",
       "    <tr style=\"text-align: right;\">\n",
       "      <th></th>\n",
       "      <th>Sales_per_customer</th>\n",
       "      <th>CompetitionDistance</th>\n",
       "      <th>Customer_per_store</th>\n",
       "      <th>Store_menc</th>\n",
       "      <th>CompetitionOpenSincePeriod</th>\n",
       "      <th>Month</th>\n",
       "      <th>Year</th>\n",
       "      <th>DayOfWeek</th>\n",
       "      <th>WeekOfYear</th>\n",
       "      <th>DayOfMonth</th>\n",
       "      <th>StoreType_b</th>\n",
       "      <th>StoreType_c</th>\n",
       "      <th>StoreType_d</th>\n",
       "      <th>Promo2SincePeriod</th>\n",
       "      <th>Promo2</th>\n",
       "      <th>Promo</th>\n",
       "      <th>HasCompetitor</th>\n",
       "      <th>CompetitionOpenSincePeriod</th>\n",
       "      <th>Assortment</th>\n",
       "      <th>CompetitionDistance</th>\n",
       "    </tr>\n",
       "  </thead>\n",
       "  <tbody>\n",
       "    <tr>\n",
       "      <th>1</th>\n",
       "      <td>8.336823</td>\n",
       "      <td>1270.0</td>\n",
       "      <td>574.903297</td>\n",
       "      <td>4792.602599</td>\n",
       "      <td>52.000000</td>\n",
       "      <td>1</td>\n",
       "      <td>2013</td>\n",
       "      <td>2</td>\n",
       "      <td>1</td>\n",
       "      <td>2</td>\n",
       "      <td>0</td>\n",
       "      <td>1</td>\n",
       "      <td>0</td>\n",
       "      <td>104677.0</td>\n",
       "      <td>0</td>\n",
       "      <td>0.0</td>\n",
       "      <td>1</td>\n",
       "      <td>52.000000</td>\n",
       "      <td>1</td>\n",
       "      <td>1270.0</td>\n",
       "    </tr>\n",
       "    <tr>\n",
       "      <th>2</th>\n",
       "      <td>8.336823</td>\n",
       "      <td>1270.0</td>\n",
       "      <td>574.903297</td>\n",
       "      <td>4792.602599</td>\n",
       "      <td>52.000000</td>\n",
       "      <td>1</td>\n",
       "      <td>2013</td>\n",
       "      <td>3</td>\n",
       "      <td>1</td>\n",
       "      <td>3</td>\n",
       "      <td>0</td>\n",
       "      <td>1</td>\n",
       "      <td>0</td>\n",
       "      <td>104677.0</td>\n",
       "      <td>0</td>\n",
       "      <td>0.0</td>\n",
       "      <td>1</td>\n",
       "      <td>52.000000</td>\n",
       "      <td>1</td>\n",
       "      <td>1270.0</td>\n",
       "    </tr>\n",
       "    <tr>\n",
       "      <th>3</th>\n",
       "      <td>8.336823</td>\n",
       "      <td>1270.0</td>\n",
       "      <td>574.903297</td>\n",
       "      <td>4792.602599</td>\n",
       "      <td>52.000000</td>\n",
       "      <td>1</td>\n",
       "      <td>2013</td>\n",
       "      <td>4</td>\n",
       "      <td>1</td>\n",
       "      <td>4</td>\n",
       "      <td>0</td>\n",
       "      <td>1</td>\n",
       "      <td>0</td>\n",
       "      <td>104677.0</td>\n",
       "      <td>0</td>\n",
       "      <td>0.0</td>\n",
       "      <td>1</td>\n",
       "      <td>52.000000</td>\n",
       "      <td>1</td>\n",
       "      <td>1270.0</td>\n",
       "    </tr>\n",
       "    <tr>\n",
       "      <th>4</th>\n",
       "      <td>8.336823</td>\n",
       "      <td>1270.0</td>\n",
       "      <td>574.903297</td>\n",
       "      <td>4792.602599</td>\n",
       "      <td>52.000000</td>\n",
       "      <td>1</td>\n",
       "      <td>2013</td>\n",
       "      <td>5</td>\n",
       "      <td>1</td>\n",
       "      <td>5</td>\n",
       "      <td>0</td>\n",
       "      <td>1</td>\n",
       "      <td>0</td>\n",
       "      <td>104677.0</td>\n",
       "      <td>0</td>\n",
       "      <td>0.0</td>\n",
       "      <td>1</td>\n",
       "      <td>52.000000</td>\n",
       "      <td>1</td>\n",
       "      <td>1270.0</td>\n",
       "    </tr>\n",
       "    <tr>\n",
       "      <th>6</th>\n",
       "      <td>8.336823</td>\n",
       "      <td>1270.0</td>\n",
       "      <td>574.903297</td>\n",
       "      <td>4792.602599</td>\n",
       "      <td>52.000000</td>\n",
       "      <td>1</td>\n",
       "      <td>2013</td>\n",
       "      <td>0</td>\n",
       "      <td>2</td>\n",
       "      <td>7</td>\n",
       "      <td>0</td>\n",
       "      <td>1</td>\n",
       "      <td>0</td>\n",
       "      <td>104678.0</td>\n",
       "      <td>0</td>\n",
       "      <td>1.0</td>\n",
       "      <td>1</td>\n",
       "      <td>52.000000</td>\n",
       "      <td>1</td>\n",
       "      <td>1270.0</td>\n",
       "    </tr>\n",
       "    <tr>\n",
       "      <th>...</th>\n",
       "      <td>...</td>\n",
       "      <td>...</td>\n",
       "      <td>...</td>\n",
       "      <td>...</td>\n",
       "      <td>...</td>\n",
       "      <td>...</td>\n",
       "      <td>...</td>\n",
       "      <td>...</td>\n",
       "      <td>...</td>\n",
       "      <td>...</td>\n",
       "      <td>...</td>\n",
       "      <td>...</td>\n",
       "      <td>...</td>\n",
       "      <td>...</td>\n",
       "      <td>...</td>\n",
       "      <td>...</td>\n",
       "      <td>...</td>\n",
       "      <td>...</td>\n",
       "      <td>...</td>\n",
       "      <td>...</td>\n",
       "    </tr>\n",
       "    <tr>\n",
       "      <th>618467</th>\n",
       "      <td>14.364439</td>\n",
       "      <td>5350.0</td>\n",
       "      <td>406.749441</td>\n",
       "      <td>5830.536793</td>\n",
       "      <td>63.600505</td>\n",
       "      <td>7</td>\n",
       "      <td>2014</td>\n",
       "      <td>5</td>\n",
       "      <td>30</td>\n",
       "      <td>26</td>\n",
       "      <td>0</td>\n",
       "      <td>0</td>\n",
       "      <td>1</td>\n",
       "      <td>112.0</td>\n",
       "      <td>1</td>\n",
       "      <td>0.0</td>\n",
       "      <td>1</td>\n",
       "      <td>63.600505</td>\n",
       "      <td>3</td>\n",
       "      <td>5350.0</td>\n",
       "    </tr>\n",
       "    <tr>\n",
       "      <th>618469</th>\n",
       "      <td>14.364439</td>\n",
       "      <td>5350.0</td>\n",
       "      <td>406.749441</td>\n",
       "      <td>5830.536793</td>\n",
       "      <td>63.600505</td>\n",
       "      <td>7</td>\n",
       "      <td>2014</td>\n",
       "      <td>0</td>\n",
       "      <td>31</td>\n",
       "      <td>28</td>\n",
       "      <td>0</td>\n",
       "      <td>0</td>\n",
       "      <td>1</td>\n",
       "      <td>113.0</td>\n",
       "      <td>1</td>\n",
       "      <td>1.0</td>\n",
       "      <td>1</td>\n",
       "      <td>63.600505</td>\n",
       "      <td>3</td>\n",
       "      <td>5350.0</td>\n",
       "    </tr>\n",
       "    <tr>\n",
       "      <th>618470</th>\n",
       "      <td>14.364439</td>\n",
       "      <td>5350.0</td>\n",
       "      <td>406.749441</td>\n",
       "      <td>5830.536793</td>\n",
       "      <td>63.600505</td>\n",
       "      <td>7</td>\n",
       "      <td>2014</td>\n",
       "      <td>1</td>\n",
       "      <td>31</td>\n",
       "      <td>29</td>\n",
       "      <td>0</td>\n",
       "      <td>0</td>\n",
       "      <td>1</td>\n",
       "      <td>113.0</td>\n",
       "      <td>1</td>\n",
       "      <td>1.0</td>\n",
       "      <td>1</td>\n",
       "      <td>63.600505</td>\n",
       "      <td>3</td>\n",
       "      <td>5350.0</td>\n",
       "    </tr>\n",
       "    <tr>\n",
       "      <th>618471</th>\n",
       "      <td>14.364439</td>\n",
       "      <td>5350.0</td>\n",
       "      <td>406.749441</td>\n",
       "      <td>5830.536793</td>\n",
       "      <td>63.600505</td>\n",
       "      <td>7</td>\n",
       "      <td>2014</td>\n",
       "      <td>2</td>\n",
       "      <td>31</td>\n",
       "      <td>30</td>\n",
       "      <td>0</td>\n",
       "      <td>0</td>\n",
       "      <td>1</td>\n",
       "      <td>113.0</td>\n",
       "      <td>1</td>\n",
       "      <td>1.0</td>\n",
       "      <td>1</td>\n",
       "      <td>63.600505</td>\n",
       "      <td>3</td>\n",
       "      <td>5350.0</td>\n",
       "    </tr>\n",
       "    <tr>\n",
       "      <th>618472</th>\n",
       "      <td>14.364439</td>\n",
       "      <td>5350.0</td>\n",
       "      <td>406.749441</td>\n",
       "      <td>5830.536793</td>\n",
       "      <td>63.600505</td>\n",
       "      <td>7</td>\n",
       "      <td>2014</td>\n",
       "      <td>3</td>\n",
       "      <td>31</td>\n",
       "      <td>31</td>\n",
       "      <td>0</td>\n",
       "      <td>0</td>\n",
       "      <td>1</td>\n",
       "      <td>113.0</td>\n",
       "      <td>1</td>\n",
       "      <td>1.0</td>\n",
       "      <td>1</td>\n",
       "      <td>63.600505</td>\n",
       "      <td>3</td>\n",
       "      <td>5350.0</td>\n",
       "    </tr>\n",
       "  </tbody>\n",
       "</table>\n",
       "<p>495561 rows × 20 columns</p>\n",
       "</div>"
      ],
      "text/plain": [
       "        Sales_per_customer  CompetitionDistance  Customer_per_store  \\\n",
       "1                 8.336823               1270.0          574.903297   \n",
       "2                 8.336823               1270.0          574.903297   \n",
       "3                 8.336823               1270.0          574.903297   \n",
       "4                 8.336823               1270.0          574.903297   \n",
       "6                 8.336823               1270.0          574.903297   \n",
       "...                    ...                  ...                 ...   \n",
       "618467           14.364439               5350.0          406.749441   \n",
       "618469           14.364439               5350.0          406.749441   \n",
       "618470           14.364439               5350.0          406.749441   \n",
       "618471           14.364439               5350.0          406.749441   \n",
       "618472           14.364439               5350.0          406.749441   \n",
       "\n",
       "         Store_menc  CompetitionOpenSincePeriod  Month  Year  DayOfWeek  \\\n",
       "1       4792.602599                   52.000000      1  2013          2   \n",
       "2       4792.602599                   52.000000      1  2013          3   \n",
       "3       4792.602599                   52.000000      1  2013          4   \n",
       "4       4792.602599                   52.000000      1  2013          5   \n",
       "6       4792.602599                   52.000000      1  2013          0   \n",
       "...             ...                         ...    ...   ...        ...   \n",
       "618467  5830.536793                   63.600505      7  2014          5   \n",
       "618469  5830.536793                   63.600505      7  2014          0   \n",
       "618470  5830.536793                   63.600505      7  2014          1   \n",
       "618471  5830.536793                   63.600505      7  2014          2   \n",
       "618472  5830.536793                   63.600505      7  2014          3   \n",
       "\n",
       "        WeekOfYear  DayOfMonth  StoreType_b  StoreType_c  StoreType_d  \\\n",
       "1                1           2            0            1            0   \n",
       "2                1           3            0            1            0   \n",
       "3                1           4            0            1            0   \n",
       "4                1           5            0            1            0   \n",
       "6                2           7            0            1            0   \n",
       "...            ...         ...          ...          ...          ...   \n",
       "618467          30          26            0            0            1   \n",
       "618469          31          28            0            0            1   \n",
       "618470          31          29            0            0            1   \n",
       "618471          31          30            0            0            1   \n",
       "618472          31          31            0            0            1   \n",
       "\n",
       "        Promo2SincePeriod  Promo2  Promo  HasCompetitor  \\\n",
       "1                104677.0       0    0.0              1   \n",
       "2                104677.0       0    0.0              1   \n",
       "3                104677.0       0    0.0              1   \n",
       "4                104677.0       0    0.0              1   \n",
       "6                104678.0       0    1.0              1   \n",
       "...                   ...     ...    ...            ...   \n",
       "618467              112.0       1    0.0              1   \n",
       "618469              113.0       1    1.0              1   \n",
       "618470              113.0       1    1.0              1   \n",
       "618471              113.0       1    1.0              1   \n",
       "618472              113.0       1    1.0              1   \n",
       "\n",
       "        CompetitionOpenSincePeriod  Assortment  CompetitionDistance  \n",
       "1                        52.000000           1               1270.0  \n",
       "2                        52.000000           1               1270.0  \n",
       "3                        52.000000           1               1270.0  \n",
       "4                        52.000000           1               1270.0  \n",
       "6                        52.000000           1               1270.0  \n",
       "...                            ...         ...                  ...  \n",
       "618467                   63.600505           3               5350.0  \n",
       "618469                   63.600505           3               5350.0  \n",
       "618470                   63.600505           3               5350.0  \n",
       "618471                   63.600505           3               5350.0  \n",
       "618472                   63.600505           3               5350.0  \n",
       "\n",
       "[495561 rows x 20 columns]"
      ]
     },
     "execution_count": 33,
     "metadata": {},
     "output_type": "execute_result"
    }
   ],
   "source": [
    "X_train"
   ]
  },
  {
   "cell_type": "code",
   "execution_count": null,
   "metadata": {},
   "outputs": [],
   "source": []
  }
 ],
 "metadata": {
  "kernelspec": {
   "display_name": "Python 3",
   "language": "python",
   "name": "python3"
  },
  "language_info": {
   "codemirror_mode": {
    "name": "ipython",
    "version": 3
   },
   "file_extension": ".py",
   "mimetype": "text/x-python",
   "name": "python",
   "nbconvert_exporter": "python",
   "pygments_lexer": "ipython3",
   "version": "3.7.4"
  },
  "varInspector": {
   "cols": {
    "lenName": 16,
    "lenType": 16,
    "lenVar": 40
   },
   "kernels_config": {
    "python": {
     "delete_cmd_postfix": "",
     "delete_cmd_prefix": "del ",
     "library": "var_list.py",
     "varRefreshCmd": "print(var_dic_list())"
    },
    "r": {
     "delete_cmd_postfix": ") ",
     "delete_cmd_prefix": "rm(",
     "library": "var_list.r",
     "varRefreshCmd": "cat(var_dic_list()) "
    }
   },
   "types_to_exclude": [
    "module",
    "function",
    "builtin_function_or_method",
    "instance",
    "_Feature"
   ],
   "window_display": false
  }
 },
 "nbformat": 4,
 "nbformat_minor": 4
}
