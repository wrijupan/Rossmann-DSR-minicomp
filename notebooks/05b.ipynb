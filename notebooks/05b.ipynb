{
 "cells": [
  {
   "cell_type": "markdown",
   "metadata": {},
   "source": [
    "# Import packages and own modules"
   ]
  },
  {
   "cell_type": "code",
   "execution_count": 1,
   "metadata": {},
   "outputs": [],
   "source": [
    "import pandas as pd\n",
    "import numpy as np\n",
    "\n",
    "from sklearn.preprocessing import StandardScaler\n",
    "from sklearn.model_selection import train_test_split, cross_val_score\n",
    "from sklearn.ensemble import RandomForestRegressor\n",
    "\n",
    "import matplotlib.pyplot as plt\n",
    "import seaborn as sns\n",
    "\n",
    "import holidays\n",
    "\n",
    "import sys\n",
    "sys.path.append('../src')\n",
    "from helperFunctions import *\n",
    "\n",
    "%matplotlib inline"
   ]
  },
  {
   "cell_type": "markdown",
   "metadata": {},
   "source": [
    "# 1. Load input data\n",
    "## 1.1 Load and merge"
   ]
  },
  {
   "cell_type": "code",
   "execution_count": 2,
   "metadata": {
    "scrolled": true
   },
   "outputs": [
    {
     "name": "stderr",
     "output_type": "stream",
     "text": [
      "/Applications/anaconda3/envs/mini-comp/lib/python3.7/site-packages/IPython/core/interactiveshell.py:3156: DtypeWarning: Columns (7) have mixed types.Specify dtype option on import or set low_memory=False.\n",
      "  interactivity=interactivity, compiler=compiler, result=result)\n"
     ]
    }
   ],
   "source": [
    "train = pd.read_csv(\"../data/train.csv\")\n",
    "store = pd.read_csv(\"../data/store.csv\")\n",
    "merged_train_store = pd.merge(store, train, on='Store', how='left')"
   ]
  },
  {
   "cell_type": "markdown",
   "metadata": {},
   "source": [
    "## 1.2 Train test split"
   ]
  },
  {
   "cell_type": "code",
   "execution_count": 3,
   "metadata": {},
   "outputs": [],
   "source": [
    "data_train, data_test = train_test_split(merged_train_store, test_size=0.2, random_state=42)"
   ]
  },
  {
   "cell_type": "markdown",
   "metadata": {},
   "source": [
    "## 1.3 Convert 'Date' column and generate generic date features"
   ]
  },
  {
   "cell_type": "code",
   "execution_count": 4,
   "metadata": {},
   "outputs": [
    {
     "name": "stderr",
     "output_type": "stream",
     "text": [
      "/Applications/anaconda3/envs/mini-comp/lib/python3.7/site-packages/pandas/core/indexing.py:1745: SettingWithCopyWarning: \n",
      "A value is trying to be set on a copy of a slice from a DataFrame.\n",
      "Try using .loc[row_indexer,col_indexer] = value instead\n",
      "\n",
      "See the caveats in the documentation: https://pandas.pydata.org/pandas-docs/stable/user_guide/indexing.html#returning-a-view-versus-a-copy\n",
      "  isetter(ilocs[0], value)\n",
      "/Applications/anaconda3/envs/mini-comp/lib/python3.7/site-packages/pandas/core/indexing.py:1596: SettingWithCopyWarning: \n",
      "A value is trying to be set on a copy of a slice from a DataFrame.\n",
      "Try using .loc[row_indexer,col_indexer] = value instead\n",
      "\n",
      "See the caveats in the documentation: https://pandas.pydata.org/pandas-docs/stable/user_guide/indexing.html#returning-a-view-versus-a-copy\n",
      "  self.obj[key] = _infer_fill_value(value)\n",
      "/Applications/anaconda3/envs/mini-comp/lib/python3.7/site-packages/ipykernel_launcher.py:6: FutureWarning: Series.dt.weekofyear and Series.dt.week have been deprecated.  Please use Series.dt.isocalendar().week instead.\n",
      "  \n",
      "/Applications/anaconda3/envs/mini-comp/lib/python3.7/site-packages/ipykernel_launcher.py:13: FutureWarning: Series.dt.weekofyear and Series.dt.week have been deprecated.  Please use Series.dt.isocalendar().week instead.\n",
      "  del sys.path[0]\n"
     ]
    }
   ],
   "source": [
    "data_train.loc[:, 'Date'] = pd.to_datetime(data_train.loc[:, 'Date'])\n",
    "data_train.loc[:, 'Month'] = data_train['Date'].dt.month\n",
    "data_train.loc[:, 'DayOfMonth'] = data_train['Date'].dt.day\n",
    "data_train.loc[:, 'Year'] = data_train['Date'].dt.year\n",
    "data_train.loc[:, 'DayOfWeek'] = data_train['Date'].dt.dayofweek\n",
    "data_train.loc[:, 'WeekOfYear'] = data_train['Date'].dt.weekofyear\n",
    "\n",
    "data_test.loc[:, 'Date'] = pd.to_datetime(data_test.loc[:, 'Date'])\n",
    "data_test.loc[:, 'Month'] = data_test['Date'].dt.month\n",
    "data_test.loc[:,'DayOfMonth'] = data_test['Date'].dt.day\n",
    "data_test.loc[:,'Year'] = data_test['Date'].dt.year\n",
    "data_test.loc[:,'DayOfWeek'] = data_test['Date'].dt.dayofweek\n",
    "data_test.loc[:,'WeekOfYear'] = data_test['Date'].dt.weekofyear"
   ]
  },
  {
   "cell_type": "markdown",
   "metadata": {},
   "source": [
    "## 1.4 Drop rows based on 'Sales' column \n",
    "#### Drop rows with value zero (training set only)"
   ]
  },
  {
   "cell_type": "code",
   "execution_count": 5,
   "metadata": {},
   "outputs": [
    {
     "name": "stdout",
     "output_type": "stream",
     "text": [
      "Drop 81986 rows, keep 412792\n"
     ]
    }
   ],
   "source": [
    "zero_sales = data_train.Sales == 0\n",
    "data_train = data_train.loc[~zero_sales]\n",
    "\n",
    "print(f'Drop {sum(zero_sales)} rows, keep {data_train.shape[0]}')"
   ]
  },
  {
   "cell_type": "markdown",
   "metadata": {},
   "source": [
    "#### Drop rows with values zero or null"
   ]
  },
  {
   "cell_type": "code",
   "execution_count": 6,
   "metadata": {},
   "outputs": [
    {
     "name": "stdout",
     "output_type": "stream",
     "text": [
      "Drop 20666 rows, keep 99397\n"
     ]
    }
   ],
   "source": [
    "zero_sales = data_test.Sales == 0\n",
    "missing_sales = data_test.Sales.isnull()\n",
    "data_test = data_test.loc[~(zero_sales | missing_sales)]\n",
    "\n",
    "print(f'Drop {sum(zero_sales)} rows, keep {data_test.shape[0]}')"
   ]
  },
  {
   "cell_type": "markdown",
   "metadata": {},
   "source": [
    "## 1.5 Compute 'Sales_per_customer' column\n",
    "#### Compute sales per customer for each store from training set data"
   ]
  },
  {
   "cell_type": "code",
   "execution_count": 7,
   "metadata": {},
   "outputs": [],
   "source": [
    "group = data_train.groupby(by='Store').agg({'Sales': 'mean', 'Customers': 'mean'})\n",
    "group['Sales_per_customer'] = group['Sales'] / group['Customers']"
   ]
  },
  {
   "cell_type": "markdown",
   "metadata": {},
   "source": [
    "#### Map sales per customer to training and test set"
   ]
  },
  {
   "cell_type": "code",
   "execution_count": 8,
   "metadata": {},
   "outputs": [],
   "source": [
    "data_train['Sales_per_customer'] = data_train['Store'].map(group['Sales_per_customer'])\n",
    "data_test['Sales_per_customer'] = data_test['Store'].map(group['Sales_per_customer'])"
   ]
  },
  {
   "cell_type": "markdown",
   "metadata": {},
   "source": [
    "# 2. Outlier handling\n",
    "## 2.1 'CompetitionOpenSinceYear'\n",
    "#### Drop values with year before 1990"
   ]
  },
  {
   "cell_type": "code",
   "execution_count": 9,
   "metadata": {
    "scrolled": false
   },
   "outputs": [
    {
     "data": {
      "text/plain": [
       "2013.0    30968\n",
       "2012.0    30297\n",
       "2014.0    25910\n",
       "2005.0    22882\n",
       "2010.0    20546\n",
       "2011.0    20284\n",
       "2009.0    19880\n",
       "2008.0    19874\n",
       "2007.0    17655\n",
       "2006.0    17362\n",
       "2015.0    13883\n",
       "2002.0    10086\n",
       "2004.0     8111\n",
       "2003.0     6869\n",
       "2001.0     5849\n",
       "2000.0     3685\n",
       "1999.0     3019\n",
       "1990.0     1869\n",
       "1995.0      739\n",
       "1994.0      725\n",
       "1961.0      386\n",
       "1998.0      358\n",
       "1900.0      350\n",
       "Name: CompetitionOpenSinceYear, dtype: int64"
      ]
     },
     "execution_count": 9,
     "metadata": {},
     "output_type": "execute_result"
    }
   ],
   "source": [
    "data_train.CompetitionOpenSinceYear.value_counts()"
   ]
  },
  {
   "cell_type": "code",
   "execution_count": 10,
   "metadata": {},
   "outputs": [
    {
     "name": "stdout",
     "output_type": "stream",
     "text": [
      "Drop 736 rows, keep 412056\n"
     ]
    }
   ],
   "source": [
    "before_1990 = data_train.CompetitionOpenSinceYear < 1990\n",
    "data_train = data_train.loc[~before_1990, :]\n",
    "print(f'Drop {sum(before_1990)} rows, keep {data_train.shape[0]}')\n",
    "\n",
    "before_1990 = data_test.CompetitionOpenSinceYear < 1990\n",
    "data_test = data_test.loc[~before_1990 < 1990, :]"
   ]
  },
  {
   "cell_type": "markdown",
   "metadata": {},
   "source": [
    "# 3. Missing value imputation\n",
    "#### Overview before imputing missing values"
   ]
  },
  {
   "cell_type": "code",
   "execution_count": 11,
   "metadata": {},
   "outputs": [
    {
     "data": {
      "text/html": [
       "<div>\n",
       "<style scoped>\n",
       "    .dataframe tbody tr th:only-of-type {\n",
       "        vertical-align: middle;\n",
       "    }\n",
       "\n",
       "    .dataframe tbody tr th {\n",
       "        vertical-align: top;\n",
       "    }\n",
       "\n",
       "    .dataframe thead th {\n",
       "        text-align: right;\n",
       "    }\n",
       "</style>\n",
       "<table border=\"1\" class=\"dataframe\">\n",
       "  <thead>\n",
       "    <tr style=\"text-align: right;\">\n",
       "      <th></th>\n",
       "      <th>Null (total)</th>\n",
       "      <th>Null (percent)</th>\n",
       "      <th>Type</th>\n",
       "    </tr>\n",
       "  </thead>\n",
       "  <tbody>\n",
       "    <tr>\n",
       "      <th>Store</th>\n",
       "      <td>0</td>\n",
       "      <td>0.00</td>\n",
       "      <td>int64</td>\n",
       "    </tr>\n",
       "    <tr>\n",
       "      <th>StoreType</th>\n",
       "      <td>0</td>\n",
       "      <td>0.00</td>\n",
       "      <td>object</td>\n",
       "    </tr>\n",
       "    <tr>\n",
       "      <th>Assortment</th>\n",
       "      <td>0</td>\n",
       "      <td>0.00</td>\n",
       "      <td>object</td>\n",
       "    </tr>\n",
       "    <tr>\n",
       "      <th>CompetitionDistance</th>\n",
       "      <td>1099</td>\n",
       "      <td>0.27</td>\n",
       "      <td>float64</td>\n",
       "    </tr>\n",
       "    <tr>\n",
       "      <th>CompetitionOpenSinceMonth</th>\n",
       "      <td>131205</td>\n",
       "      <td>31.84</td>\n",
       "      <td>float64</td>\n",
       "    </tr>\n",
       "    <tr>\n",
       "      <th>CompetitionOpenSinceYear</th>\n",
       "      <td>131205</td>\n",
       "      <td>31.84</td>\n",
       "      <td>float64</td>\n",
       "    </tr>\n",
       "    <tr>\n",
       "      <th>Promo2</th>\n",
       "      <td>0</td>\n",
       "      <td>0.00</td>\n",
       "      <td>int64</td>\n",
       "    </tr>\n",
       "    <tr>\n",
       "      <th>Promo2SinceWeek</th>\n",
       "      <td>203216</td>\n",
       "      <td>49.32</td>\n",
       "      <td>float64</td>\n",
       "    </tr>\n",
       "    <tr>\n",
       "      <th>Promo2SinceYear</th>\n",
       "      <td>203216</td>\n",
       "      <td>49.32</td>\n",
       "      <td>float64</td>\n",
       "    </tr>\n",
       "    <tr>\n",
       "      <th>PromoInterval</th>\n",
       "      <td>203216</td>\n",
       "      <td>49.32</td>\n",
       "      <td>object</td>\n",
       "    </tr>\n",
       "    <tr>\n",
       "      <th>Date</th>\n",
       "      <td>0</td>\n",
       "      <td>0.00</td>\n",
       "      <td>datetime64[ns]</td>\n",
       "    </tr>\n",
       "    <tr>\n",
       "      <th>DayOfWeek</th>\n",
       "      <td>0</td>\n",
       "      <td>0.00</td>\n",
       "      <td>int64</td>\n",
       "    </tr>\n",
       "    <tr>\n",
       "      <th>Sales</th>\n",
       "      <td>14783</td>\n",
       "      <td>3.59</td>\n",
       "      <td>float64</td>\n",
       "    </tr>\n",
       "    <tr>\n",
       "      <th>Customers</th>\n",
       "      <td>12486</td>\n",
       "      <td>3.03</td>\n",
       "      <td>float64</td>\n",
       "    </tr>\n",
       "    <tr>\n",
       "      <th>Open</th>\n",
       "      <td>12333</td>\n",
       "      <td>2.99</td>\n",
       "      <td>float64</td>\n",
       "    </tr>\n",
       "    <tr>\n",
       "      <th>Promo</th>\n",
       "      <td>12380</td>\n",
       "      <td>3.00</td>\n",
       "      <td>float64</td>\n",
       "    </tr>\n",
       "    <tr>\n",
       "      <th>StateHoliday</th>\n",
       "      <td>12422</td>\n",
       "      <td>3.01</td>\n",
       "      <td>object</td>\n",
       "    </tr>\n",
       "    <tr>\n",
       "      <th>SchoolHoliday</th>\n",
       "      <td>12498</td>\n",
       "      <td>3.03</td>\n",
       "      <td>float64</td>\n",
       "    </tr>\n",
       "    <tr>\n",
       "      <th>Month</th>\n",
       "      <td>0</td>\n",
       "      <td>0.00</td>\n",
       "      <td>int64</td>\n",
       "    </tr>\n",
       "    <tr>\n",
       "      <th>DayOfMonth</th>\n",
       "      <td>0</td>\n",
       "      <td>0.00</td>\n",
       "      <td>int64</td>\n",
       "    </tr>\n",
       "    <tr>\n",
       "      <th>Year</th>\n",
       "      <td>0</td>\n",
       "      <td>0.00</td>\n",
       "      <td>int64</td>\n",
       "    </tr>\n",
       "    <tr>\n",
       "      <th>WeekOfYear</th>\n",
       "      <td>0</td>\n",
       "      <td>0.00</td>\n",
       "      <td>int64</td>\n",
       "    </tr>\n",
       "    <tr>\n",
       "      <th>Sales_per_customer</th>\n",
       "      <td>0</td>\n",
       "      <td>0.00</td>\n",
       "      <td>float64</td>\n",
       "    </tr>\n",
       "  </tbody>\n",
       "</table>\n",
       "</div>"
      ],
      "text/plain": [
       "                           Null (total)  Null (percent)            Type\n",
       "Store                                 0            0.00           int64\n",
       "StoreType                             0            0.00          object\n",
       "Assortment                            0            0.00          object\n",
       "CompetitionDistance                1099            0.27         float64\n",
       "CompetitionOpenSinceMonth        131205           31.84         float64\n",
       "CompetitionOpenSinceYear         131205           31.84         float64\n",
       "Promo2                                0            0.00           int64\n",
       "Promo2SinceWeek                  203216           49.32         float64\n",
       "Promo2SinceYear                  203216           49.32         float64\n",
       "PromoInterval                    203216           49.32          object\n",
       "Date                                  0            0.00  datetime64[ns]\n",
       "DayOfWeek                             0            0.00           int64\n",
       "Sales                             14783            3.59         float64\n",
       "Customers                         12486            3.03         float64\n",
       "Open                              12333            2.99         float64\n",
       "Promo                             12380            3.00         float64\n",
       "StateHoliday                      12422            3.01          object\n",
       "SchoolHoliday                     12498            3.03         float64\n",
       "Month                                 0            0.00           int64\n",
       "DayOfMonth                            0            0.00           int64\n",
       "Year                                  0            0.00           int64\n",
       "WeekOfYear                            0            0.00           int64\n",
       "Sales_per_customer                    0            0.00         float64"
      ]
     },
     "execution_count": 11,
     "metadata": {},
     "output_type": "execute_result"
    }
   ],
   "source": [
    "missing_report(data_train, pd)"
   ]
  },
  {
   "cell_type": "markdown",
   "metadata": {},
   "source": [
    "## 3.1 'Promo', 'Promo2'\n",
    "#### Drop all null values"
   ]
  },
  {
   "cell_type": "code",
   "execution_count": 12,
   "metadata": {},
   "outputs": [
    {
     "name": "stdout",
     "output_type": "stream",
     "text": [
      "Drop 12380 rows, keep 399676\n"
     ]
    }
   ],
   "source": [
    "missing_promo = data_train.Promo.isnull() | data_train.Promo2.isnull()\n",
    "data_train = data_train.loc[~missing_promo, :]\n",
    "\n",
    "print(f'Drop {sum(missing_promo)} rows, keep {data_train.shape[0]}')\n",
    "\n",
    "missing_promo = data_test.Promo.isnull() | data_test.Promo2.isnull()\n",
    "data_test = data_test.loc[~missing_promo, :]"
   ]
  },
  {
   "cell_type": "markdown",
   "metadata": {},
   "source": [
    "## 3.2 'CompetitionOpenSinceMonth', 'CompetitionOpenSinceYear'\n",
    "#### Apply mean imputation for missing values"
   ]
  },
  {
   "cell_type": "code",
   "execution_count": 13,
   "metadata": {},
   "outputs": [
    {
     "name": "stdout",
     "output_type": "stream",
     "text": [
      "Drop 0 rows, keep 399676\n"
     ]
    }
   ],
   "source": [
    "data_train = mean_imputation(data_train,['CompetitionOpenSinceMonth', 'CompetitionOpenSinceYear'])\n",
    "data_test = mean_imputation(data_test,['CompetitionOpenSinceMonth', 'CompetitionOpenSinceYear'])\n",
    "\n",
    "print(f'Drop {0} rows, keep {data_train.shape[0]}')"
   ]
  },
  {
   "cell_type": "markdown",
   "metadata": {},
   "source": [
    "## 3.3 'Promo2SinceWeek', 'Promo2SinceYear',  'PromoInterval'\n",
    "#### Apply mean imputation for stores participating and constant imputation with zero for stores not participating"
   ]
  },
  {
   "cell_type": "code",
   "execution_count": 14,
   "metadata": {},
   "outputs": [
    {
     "name": "stdout",
     "output_type": "stream",
     "text": [
      "Drop 0 rows, keep 399676\n"
     ]
    }
   ],
   "source": [
    "data_train = mean_imputation(data_train, ['Promo2SinceWeek', 'Promo2SinceYear'], enforce_int=True)\n",
    "Promo2 = data_train.Promo2 == 1\n",
    "data_train.loc[~Promo2, ['Promo2SinceWeek', 'Promo2SinceYear']] = 0\n",
    "data_train = const_imputation(data_train,['PromoInterval'],values='unavailable')\n",
    "\n",
    "data_test = mean_imputation(data_test, ['Promo2SinceWeek', 'Promo2SinceYear'], enforce_int=True)\n",
    "Promo2 = data_test.Promo2 == 1\n",
    "data_test.loc[~Promo2, ['Promo2SinceWeek', 'Promo2SinceYear']] = 0\n",
    "data_test = const_imputation(data_test,['PromoInterval'],values='unavailable')\n",
    "\n",
    "print(f'Drop {0} rows, keep {data_train.shape[0]}')"
   ]
  },
  {
   "cell_type": "markdown",
   "metadata": {},
   "source": [
    "## 3.4 'Sales', 'Customers', 'Open'\n",
    "#### Drop rows with missing 'Sales' in case 'Open' or 'Customers' is zero (training set only)"
   ]
  },
  {
   "cell_type": "code",
   "execution_count": 15,
   "metadata": {},
   "outputs": [
    {
     "name": "stdout",
     "output_type": "stream",
     "text": [
      "Drop 2410 rows, keep 397266\n"
     ]
    }
   ],
   "source": [
    "not_open = data_train.Open==0\n",
    "no_customer = data_train.Customers==0\n",
    "missing_sales = data_train.Sales.isnull()\n",
    "\n",
    "data_train = data_train.loc[~((not_open | no_customer) & missing_sales), :]\n",
    "\n",
    "print(f'Drop {sum(((not_open | no_customer) & missing_sales))} rows, keep {data_train.shape[0]}')"
   ]
  },
  {
   "cell_type": "markdown",
   "metadata": {},
   "source": [
    "#### Impute 'Sales' from 'Customers' and 'Sales_per_customer' (training set only)"
   ]
  },
  {
   "cell_type": "code",
   "execution_count": 16,
   "metadata": {},
   "outputs": [
    {
     "name": "stdout",
     "output_type": "stream",
     "text": [
      "Drop 364 rows, keep 396902\n"
     ]
    }
   ],
   "source": [
    "missing_sales = data_train.Sales.isnull()\n",
    "\n",
    "data_train.loc[missing_sales, 'Sales'] = data_train.loc[missing_sales, 'Customers'] * data_train.loc[missing_sales, 'Sales_per_customer']\n",
    "\n",
    "missing_sales = data_train.Sales.isnull()\n",
    "data_train = data_train.loc[~missing_sales, :]\n",
    "\n",
    "print(f'Drop {sum(missing_sales)} rows, keep {data_train.shape[0]}')\n",
    "\n",
    "data_train = const_imputation(data_train,['Open'],values=1)"
   ]
  },
  {
   "cell_type": "markdown",
   "metadata": {},
   "source": [
    "#### Drop rows with missing or zero 'Open' (test set only)"
   ]
  },
  {
   "cell_type": "code",
   "execution_count": 17,
   "metadata": {},
   "outputs": [
    {
     "name": "stdout",
     "output_type": "stream",
     "text": [
      "Drop 3010 rows, keep 93373\n"
     ]
    }
   ],
   "source": [
    "not_open = data_test.Open==0\n",
    "missing_open = data_test.Open.isna()\n",
    "\n",
    "data_test = data_test.loc[~(not_open | missing_open), :]\n",
    "\n",
    "print(f'Drop {sum(not_open | missing_open)} rows, keep {data_test.shape[0]}')"
   ]
  },
  {
   "cell_type": "markdown",
   "metadata": {},
   "source": [
    "## 3.5 'StateHoliday'\n",
    "#### Look up if 'Date' is a national holiday and impute missing values with 'a' and '0' accordingly"
   ]
  },
  {
   "cell_type": "code",
   "execution_count": 18,
   "metadata": {},
   "outputs": [],
   "source": [
    "data_train = holiday_imputation(data_train, holidays)\n",
    "data_test = holiday_imputation(data_test, holidays)"
   ]
  },
  {
   "cell_type": "markdown",
   "metadata": {},
   "source": [
    "## 3.6 'CompetitionDistance'\n",
    "#### Drop rows with missing values"
   ]
  },
  {
   "cell_type": "code",
   "execution_count": 19,
   "metadata": {},
   "outputs": [
    {
     "name": "stdout",
     "output_type": "stream",
     "text": [
      "Drop 1055 rows, keep 395847\n"
     ]
    }
   ],
   "source": [
    "missing_distance = data_train.CompetitionDistance.isnull()\n",
    "data_train = data_train.loc[~missing_distance, :]\n",
    "\n",
    "print(f'Drop {sum(missing_distance)} rows, keep {data_train.shape[0]}')\n",
    "\n",
    "missing_distance = data_test.CompetitionDistance.isnull()\n",
    "data_test = data_test.loc[~missing_distance, :]"
   ]
  },
  {
   "cell_type": "markdown",
   "metadata": {},
   "source": [
    "## 3.6 Drop columns 'Customers', 'Open' and 'SchoolHoliday'"
   ]
  },
  {
   "cell_type": "code",
   "execution_count": 20,
   "metadata": {},
   "outputs": [
    {
     "data": {
      "text/html": [
       "<div>\n",
       "<style scoped>\n",
       "    .dataframe tbody tr th:only-of-type {\n",
       "        vertical-align: middle;\n",
       "    }\n",
       "\n",
       "    .dataframe tbody tr th {\n",
       "        vertical-align: top;\n",
       "    }\n",
       "\n",
       "    .dataframe thead th {\n",
       "        text-align: right;\n",
       "    }\n",
       "</style>\n",
       "<table border=\"1\" class=\"dataframe\">\n",
       "  <thead>\n",
       "    <tr style=\"text-align: right;\">\n",
       "      <th></th>\n",
       "      <th>Null (total)</th>\n",
       "      <th>Null (percent)</th>\n",
       "      <th>Type</th>\n",
       "    </tr>\n",
       "  </thead>\n",
       "  <tbody>\n",
       "    <tr>\n",
       "      <th>Store</th>\n",
       "      <td>0</td>\n",
       "      <td>0.0</td>\n",
       "      <td>int64</td>\n",
       "    </tr>\n",
       "    <tr>\n",
       "      <th>StoreType</th>\n",
       "      <td>0</td>\n",
       "      <td>0.0</td>\n",
       "      <td>object</td>\n",
       "    </tr>\n",
       "    <tr>\n",
       "      <th>Assortment</th>\n",
       "      <td>0</td>\n",
       "      <td>0.0</td>\n",
       "      <td>object</td>\n",
       "    </tr>\n",
       "    <tr>\n",
       "      <th>CompetitionDistance</th>\n",
       "      <td>0</td>\n",
       "      <td>0.0</td>\n",
       "      <td>float64</td>\n",
       "    </tr>\n",
       "    <tr>\n",
       "      <th>CompetitionOpenSinceMonth</th>\n",
       "      <td>0</td>\n",
       "      <td>0.0</td>\n",
       "      <td>float64</td>\n",
       "    </tr>\n",
       "    <tr>\n",
       "      <th>CompetitionOpenSinceYear</th>\n",
       "      <td>0</td>\n",
       "      <td>0.0</td>\n",
       "      <td>float64</td>\n",
       "    </tr>\n",
       "    <tr>\n",
       "      <th>Promo2</th>\n",
       "      <td>0</td>\n",
       "      <td>0.0</td>\n",
       "      <td>int64</td>\n",
       "    </tr>\n",
       "    <tr>\n",
       "      <th>Promo2SinceWeek</th>\n",
       "      <td>0</td>\n",
       "      <td>0.0</td>\n",
       "      <td>float64</td>\n",
       "    </tr>\n",
       "    <tr>\n",
       "      <th>Promo2SinceYear</th>\n",
       "      <td>0</td>\n",
       "      <td>0.0</td>\n",
       "      <td>float64</td>\n",
       "    </tr>\n",
       "    <tr>\n",
       "      <th>PromoInterval</th>\n",
       "      <td>0</td>\n",
       "      <td>0.0</td>\n",
       "      <td>object</td>\n",
       "    </tr>\n",
       "    <tr>\n",
       "      <th>Date</th>\n",
       "      <td>0</td>\n",
       "      <td>0.0</td>\n",
       "      <td>datetime64[ns]</td>\n",
       "    </tr>\n",
       "    <tr>\n",
       "      <th>DayOfWeek</th>\n",
       "      <td>0</td>\n",
       "      <td>0.0</td>\n",
       "      <td>int64</td>\n",
       "    </tr>\n",
       "    <tr>\n",
       "      <th>Sales</th>\n",
       "      <td>0</td>\n",
       "      <td>0.0</td>\n",
       "      <td>float64</td>\n",
       "    </tr>\n",
       "    <tr>\n",
       "      <th>Promo</th>\n",
       "      <td>0</td>\n",
       "      <td>0.0</td>\n",
       "      <td>float64</td>\n",
       "    </tr>\n",
       "    <tr>\n",
       "      <th>StateHoliday</th>\n",
       "      <td>0</td>\n",
       "      <td>0.0</td>\n",
       "      <td>object</td>\n",
       "    </tr>\n",
       "    <tr>\n",
       "      <th>Month</th>\n",
       "      <td>0</td>\n",
       "      <td>0.0</td>\n",
       "      <td>int64</td>\n",
       "    </tr>\n",
       "    <tr>\n",
       "      <th>DayOfMonth</th>\n",
       "      <td>0</td>\n",
       "      <td>0.0</td>\n",
       "      <td>int64</td>\n",
       "    </tr>\n",
       "    <tr>\n",
       "      <th>Year</th>\n",
       "      <td>0</td>\n",
       "      <td>0.0</td>\n",
       "      <td>int64</td>\n",
       "    </tr>\n",
       "    <tr>\n",
       "      <th>WeekOfYear</th>\n",
       "      <td>0</td>\n",
       "      <td>0.0</td>\n",
       "      <td>int64</td>\n",
       "    </tr>\n",
       "    <tr>\n",
       "      <th>Sales_per_customer</th>\n",
       "      <td>0</td>\n",
       "      <td>0.0</td>\n",
       "      <td>float64</td>\n",
       "    </tr>\n",
       "  </tbody>\n",
       "</table>\n",
       "</div>"
      ],
      "text/plain": [
       "                           Null (total)  Null (percent)            Type\n",
       "Store                                 0             0.0           int64\n",
       "StoreType                             0             0.0          object\n",
       "Assortment                            0             0.0          object\n",
       "CompetitionDistance                   0             0.0         float64\n",
       "CompetitionOpenSinceMonth             0             0.0         float64\n",
       "CompetitionOpenSinceYear              0             0.0         float64\n",
       "Promo2                                0             0.0           int64\n",
       "Promo2SinceWeek                       0             0.0         float64\n",
       "Promo2SinceYear                       0             0.0         float64\n",
       "PromoInterval                         0             0.0          object\n",
       "Date                                  0             0.0  datetime64[ns]\n",
       "DayOfWeek                             0             0.0           int64\n",
       "Sales                                 0             0.0         float64\n",
       "Promo                                 0             0.0         float64\n",
       "StateHoliday                          0             0.0          object\n",
       "Month                                 0             0.0           int64\n",
       "DayOfMonth                            0             0.0           int64\n",
       "Year                                  0             0.0           int64\n",
       "WeekOfYear                            0             0.0           int64\n",
       "Sales_per_customer                    0             0.0         float64"
      ]
     },
     "execution_count": 20,
     "metadata": {},
     "output_type": "execute_result"
    }
   ],
   "source": [
    "data_train = data_train.drop(columns = ['Customers', 'Open', 'SchoolHoliday'])\n",
    "data_test = data_test.drop(columns = ['Customers', 'Open', 'SchoolHoliday'])\n",
    "missing_report(data_train, pd)"
   ]
  },
  {
   "cell_type": "code",
   "execution_count": 21,
   "metadata": {},
   "outputs": [
    {
     "data": {
      "text/html": [
       "<div>\n",
       "<style scoped>\n",
       "    .dataframe tbody tr th:only-of-type {\n",
       "        vertical-align: middle;\n",
       "    }\n",
       "\n",
       "    .dataframe tbody tr th {\n",
       "        vertical-align: top;\n",
       "    }\n",
       "\n",
       "    .dataframe thead th {\n",
       "        text-align: right;\n",
       "    }\n",
       "</style>\n",
       "<table border=\"1\" class=\"dataframe\">\n",
       "  <thead>\n",
       "    <tr style=\"text-align: right;\">\n",
       "      <th></th>\n",
       "      <th>Null (total)</th>\n",
       "      <th>Null (percent)</th>\n",
       "      <th>Type</th>\n",
       "    </tr>\n",
       "  </thead>\n",
       "  <tbody>\n",
       "    <tr>\n",
       "      <th>Store</th>\n",
       "      <td>0</td>\n",
       "      <td>0.0</td>\n",
       "      <td>int64</td>\n",
       "    </tr>\n",
       "    <tr>\n",
       "      <th>StoreType</th>\n",
       "      <td>0</td>\n",
       "      <td>0.0</td>\n",
       "      <td>object</td>\n",
       "    </tr>\n",
       "    <tr>\n",
       "      <th>Assortment</th>\n",
       "      <td>0</td>\n",
       "      <td>0.0</td>\n",
       "      <td>object</td>\n",
       "    </tr>\n",
       "    <tr>\n",
       "      <th>CompetitionDistance</th>\n",
       "      <td>0</td>\n",
       "      <td>0.0</td>\n",
       "      <td>float64</td>\n",
       "    </tr>\n",
       "    <tr>\n",
       "      <th>CompetitionOpenSinceMonth</th>\n",
       "      <td>0</td>\n",
       "      <td>0.0</td>\n",
       "      <td>float64</td>\n",
       "    </tr>\n",
       "    <tr>\n",
       "      <th>CompetitionOpenSinceYear</th>\n",
       "      <td>0</td>\n",
       "      <td>0.0</td>\n",
       "      <td>float64</td>\n",
       "    </tr>\n",
       "    <tr>\n",
       "      <th>Promo2</th>\n",
       "      <td>0</td>\n",
       "      <td>0.0</td>\n",
       "      <td>int64</td>\n",
       "    </tr>\n",
       "    <tr>\n",
       "      <th>Promo2SinceWeek</th>\n",
       "      <td>0</td>\n",
       "      <td>0.0</td>\n",
       "      <td>float64</td>\n",
       "    </tr>\n",
       "    <tr>\n",
       "      <th>Promo2SinceYear</th>\n",
       "      <td>0</td>\n",
       "      <td>0.0</td>\n",
       "      <td>float64</td>\n",
       "    </tr>\n",
       "    <tr>\n",
       "      <th>PromoInterval</th>\n",
       "      <td>0</td>\n",
       "      <td>0.0</td>\n",
       "      <td>object</td>\n",
       "    </tr>\n",
       "    <tr>\n",
       "      <th>Date</th>\n",
       "      <td>0</td>\n",
       "      <td>0.0</td>\n",
       "      <td>datetime64[ns]</td>\n",
       "    </tr>\n",
       "    <tr>\n",
       "      <th>DayOfWeek</th>\n",
       "      <td>0</td>\n",
       "      <td>0.0</td>\n",
       "      <td>int64</td>\n",
       "    </tr>\n",
       "    <tr>\n",
       "      <th>Sales</th>\n",
       "      <td>0</td>\n",
       "      <td>0.0</td>\n",
       "      <td>float64</td>\n",
       "    </tr>\n",
       "    <tr>\n",
       "      <th>Promo</th>\n",
       "      <td>0</td>\n",
       "      <td>0.0</td>\n",
       "      <td>float64</td>\n",
       "    </tr>\n",
       "    <tr>\n",
       "      <th>StateHoliday</th>\n",
       "      <td>0</td>\n",
       "      <td>0.0</td>\n",
       "      <td>object</td>\n",
       "    </tr>\n",
       "    <tr>\n",
       "      <th>Month</th>\n",
       "      <td>0</td>\n",
       "      <td>0.0</td>\n",
       "      <td>int64</td>\n",
       "    </tr>\n",
       "    <tr>\n",
       "      <th>DayOfMonth</th>\n",
       "      <td>0</td>\n",
       "      <td>0.0</td>\n",
       "      <td>int64</td>\n",
       "    </tr>\n",
       "    <tr>\n",
       "      <th>Year</th>\n",
       "      <td>0</td>\n",
       "      <td>0.0</td>\n",
       "      <td>int64</td>\n",
       "    </tr>\n",
       "    <tr>\n",
       "      <th>WeekOfYear</th>\n",
       "      <td>0</td>\n",
       "      <td>0.0</td>\n",
       "      <td>int64</td>\n",
       "    </tr>\n",
       "    <tr>\n",
       "      <th>Sales_per_customer</th>\n",
       "      <td>0</td>\n",
       "      <td>0.0</td>\n",
       "      <td>float64</td>\n",
       "    </tr>\n",
       "  </tbody>\n",
       "</table>\n",
       "</div>"
      ],
      "text/plain": [
       "                           Null (total)  Null (percent)            Type\n",
       "Store                                 0             0.0           int64\n",
       "StoreType                             0             0.0          object\n",
       "Assortment                            0             0.0          object\n",
       "CompetitionDistance                   0             0.0         float64\n",
       "CompetitionOpenSinceMonth             0             0.0         float64\n",
       "CompetitionOpenSinceYear              0             0.0         float64\n",
       "Promo2                                0             0.0           int64\n",
       "Promo2SinceWeek                       0             0.0         float64\n",
       "Promo2SinceYear                       0             0.0         float64\n",
       "PromoInterval                         0             0.0          object\n",
       "Date                                  0             0.0  datetime64[ns]\n",
       "DayOfWeek                             0             0.0           int64\n",
       "Sales                                 0             0.0         float64\n",
       "Promo                                 0             0.0         float64\n",
       "StateHoliday                          0             0.0          object\n",
       "Month                                 0             0.0           int64\n",
       "DayOfMonth                            0             0.0           int64\n",
       "Year                                  0             0.0           int64\n",
       "WeekOfYear                            0             0.0           int64\n",
       "Sales_per_customer                    0             0.0         float64"
      ]
     },
     "execution_count": 21,
     "metadata": {},
     "output_type": "execute_result"
    }
   ],
   "source": [
    "missing_report(data_test, pd)"
   ]
  },
  {
   "cell_type": "markdown",
   "metadata": {},
   "source": [
    "# 4. Encoding of categorical variables\n",
    "## 4.1 'Store'\n",
    "#### Mean and frequency encoding"
   ]
  },
  {
   "cell_type": "code",
   "execution_count": 22,
   "metadata": {
    "scrolled": true
   },
   "outputs": [],
   "source": [
    "data_train, mean_values = mean_encoding(data_train, 'Store')\n",
    "data_train, fenc_values = freq_encoding(data_train, 'Store')\n",
    "\n",
    "data_test.loc[:, 'Store_menc'] = data_test['Store'].map(mean_values)\n",
    "data_test.loc[:, 'Store_fenc'] = data_test['Store'].map(fenc_values)"
   ]
  },
  {
   "cell_type": "markdown",
   "metadata": {},
   "source": [
    "## 4.2 'StoreType'\n",
    "#### One hot encoding\n",
    "# WILL 'drop_first' DROP THE SAME COLUMN IN BOTH DATAFRAMES????? "
   ]
  },
  {
   "cell_type": "code",
   "execution_count": 23,
   "metadata": {},
   "outputs": [],
   "source": [
    "#data_train = pd.get_dummies(data_train, columns=['StoreType'], drop_first=True)\n",
    "#data_test = pd.get_dummies(data_test, columns=['StoreType'], drop_first=True)\n",
    "data_train = pd.get_dummies(data_train, columns=['StoreType'], drop_first=False)\n",
    "data_test = pd.get_dummies(data_test, columns=['StoreType'], drop_first=False)"
   ]
  },
  {
   "cell_type": "markdown",
   "metadata": {},
   "source": [
    "## 4.3 'Assortment'\n",
    "#### Ordinal encoding according to assortment levels: a = basic, b = extra, c = extended"
   ]
  },
  {
   "cell_type": "code",
   "execution_count": 24,
   "metadata": {},
   "outputs": [],
   "source": [
    "data_train = ordinal_encoding(data_train, 'Assortment', {'a':1, 'b':2, 'c':3})\n",
    "data_test = ordinal_encoding(data_test, 'Assortment', {'a':1, 'b':2, 'c':3})"
   ]
  },
  {
   "cell_type": "markdown",
   "metadata": {},
   "source": [
    "## 4.4 'StateHoliday'\n",
    "#### Binary encoding"
   ]
  },
  {
   "cell_type": "code",
   "execution_count": 25,
   "metadata": {},
   "outputs": [],
   "source": [
    "data_train = binary_encoding(data_train, 'StateHoliday', positive_list=['a', 'b', 'c'])\n",
    "data_test = binary_encoding(data_test, 'StateHoliday', positive_list=['a', 'b', 'c'])"
   ]
  },
  {
   "cell_type": "markdown",
   "metadata": {},
   "source": [
    "## 4.5 Drop encoded columns and null values from test set"
   ]
  },
  {
   "cell_type": "code",
   "execution_count": 26,
   "metadata": {},
   "outputs": [],
   "source": [
    "data_train = data_train.drop(columns=['Store', 'Assortment', 'StateHoliday'])\n",
    "data_test = data_test.drop(columns=['Store', 'Assortment', 'StateHoliday'])\n",
    "data_test.dropna()"
   ]
  },
  {
   "cell_type": "code",
   "execution_count": 28,
   "metadata": {},
   "outputs": [
    {
     "data": {
      "text/html": [
       "<div>\n",
       "<style scoped>\n",
       "    .dataframe tbody tr th:only-of-type {\n",
       "        vertical-align: middle;\n",
       "    }\n",
       "\n",
       "    .dataframe tbody tr th {\n",
       "        vertical-align: top;\n",
       "    }\n",
       "\n",
       "    .dataframe thead th {\n",
       "        text-align: right;\n",
       "    }\n",
       "</style>\n",
       "<table border=\"1\" class=\"dataframe\">\n",
       "  <thead>\n",
       "    <tr style=\"text-align: right;\">\n",
       "      <th></th>\n",
       "      <th>Null (total)</th>\n",
       "      <th>Null (percent)</th>\n",
       "      <th>Type</th>\n",
       "    </tr>\n",
       "  </thead>\n",
       "  <tbody>\n",
       "    <tr>\n",
       "      <th>CompetitionDistance</th>\n",
       "      <td>0</td>\n",
       "      <td>0.00</td>\n",
       "      <td>float64</td>\n",
       "    </tr>\n",
       "    <tr>\n",
       "      <th>CompetitionOpenSinceMonth</th>\n",
       "      <td>0</td>\n",
       "      <td>0.00</td>\n",
       "      <td>float64</td>\n",
       "    </tr>\n",
       "    <tr>\n",
       "      <th>CompetitionOpenSinceYear</th>\n",
       "      <td>0</td>\n",
       "      <td>0.00</td>\n",
       "      <td>float64</td>\n",
       "    </tr>\n",
       "    <tr>\n",
       "      <th>Promo2</th>\n",
       "      <td>0</td>\n",
       "      <td>0.00</td>\n",
       "      <td>int64</td>\n",
       "    </tr>\n",
       "    <tr>\n",
       "      <th>Promo2SinceWeek</th>\n",
       "      <td>0</td>\n",
       "      <td>0.00</td>\n",
       "      <td>float64</td>\n",
       "    </tr>\n",
       "    <tr>\n",
       "      <th>Promo2SinceYear</th>\n",
       "      <td>0</td>\n",
       "      <td>0.00</td>\n",
       "      <td>float64</td>\n",
       "    </tr>\n",
       "    <tr>\n",
       "      <th>PromoInterval</th>\n",
       "      <td>0</td>\n",
       "      <td>0.00</td>\n",
       "      <td>object</td>\n",
       "    </tr>\n",
       "    <tr>\n",
       "      <th>Date</th>\n",
       "      <td>0</td>\n",
       "      <td>0.00</td>\n",
       "      <td>datetime64[ns]</td>\n",
       "    </tr>\n",
       "    <tr>\n",
       "      <th>DayOfWeek</th>\n",
       "      <td>0</td>\n",
       "      <td>0.00</td>\n",
       "      <td>int64</td>\n",
       "    </tr>\n",
       "    <tr>\n",
       "      <th>Sales</th>\n",
       "      <td>0</td>\n",
       "      <td>0.00</td>\n",
       "      <td>float64</td>\n",
       "    </tr>\n",
       "    <tr>\n",
       "      <th>Promo</th>\n",
       "      <td>0</td>\n",
       "      <td>0.00</td>\n",
       "      <td>float64</td>\n",
       "    </tr>\n",
       "    <tr>\n",
       "      <th>Month</th>\n",
       "      <td>0</td>\n",
       "      <td>0.00</td>\n",
       "      <td>int64</td>\n",
       "    </tr>\n",
       "    <tr>\n",
       "      <th>DayOfMonth</th>\n",
       "      <td>0</td>\n",
       "      <td>0.00</td>\n",
       "      <td>int64</td>\n",
       "    </tr>\n",
       "    <tr>\n",
       "      <th>Year</th>\n",
       "      <td>0</td>\n",
       "      <td>0.00</td>\n",
       "      <td>int64</td>\n",
       "    </tr>\n",
       "    <tr>\n",
       "      <th>WeekOfYear</th>\n",
       "      <td>0</td>\n",
       "      <td>0.00</td>\n",
       "      <td>int64</td>\n",
       "    </tr>\n",
       "    <tr>\n",
       "      <th>Sales_per_customer</th>\n",
       "      <td>0</td>\n",
       "      <td>0.00</td>\n",
       "      <td>float64</td>\n",
       "    </tr>\n",
       "    <tr>\n",
       "      <th>Store_menc</th>\n",
       "      <td>155</td>\n",
       "      <td>0.17</td>\n",
       "      <td>float64</td>\n",
       "    </tr>\n",
       "    <tr>\n",
       "      <th>Store_fenc</th>\n",
       "      <td>155</td>\n",
       "      <td>0.17</td>\n",
       "      <td>float64</td>\n",
       "    </tr>\n",
       "    <tr>\n",
       "      <th>StoreType_a</th>\n",
       "      <td>0</td>\n",
       "      <td>0.00</td>\n",
       "      <td>uint8</td>\n",
       "    </tr>\n",
       "    <tr>\n",
       "      <th>StoreType_b</th>\n",
       "      <td>0</td>\n",
       "      <td>0.00</td>\n",
       "      <td>uint8</td>\n",
       "    </tr>\n",
       "    <tr>\n",
       "      <th>StoreType_c</th>\n",
       "      <td>0</td>\n",
       "      <td>0.00</td>\n",
       "      <td>uint8</td>\n",
       "    </tr>\n",
       "    <tr>\n",
       "      <th>StoreType_d</th>\n",
       "      <td>0</td>\n",
       "      <td>0.00</td>\n",
       "      <td>uint8</td>\n",
       "    </tr>\n",
       "    <tr>\n",
       "      <th>Assortment_orenc</th>\n",
       "      <td>0</td>\n",
       "      <td>0.00</td>\n",
       "      <td>int64</td>\n",
       "    </tr>\n",
       "    <tr>\n",
       "      <th>StateHoliday_benc</th>\n",
       "      <td>0</td>\n",
       "      <td>0.00</td>\n",
       "      <td>int64</td>\n",
       "    </tr>\n",
       "  </tbody>\n",
       "</table>\n",
       "</div>"
      ],
      "text/plain": [
       "                           Null (total)  Null (percent)            Type\n",
       "CompetitionDistance                   0            0.00         float64\n",
       "CompetitionOpenSinceMonth             0            0.00         float64\n",
       "CompetitionOpenSinceYear              0            0.00         float64\n",
       "Promo2                                0            0.00           int64\n",
       "Promo2SinceWeek                       0            0.00         float64\n",
       "Promo2SinceYear                       0            0.00         float64\n",
       "PromoInterval                         0            0.00          object\n",
       "Date                                  0            0.00  datetime64[ns]\n",
       "DayOfWeek                             0            0.00           int64\n",
       "Sales                                 0            0.00         float64\n",
       "Promo                                 0            0.00         float64\n",
       "Month                                 0            0.00           int64\n",
       "DayOfMonth                            0            0.00           int64\n",
       "Year                                  0            0.00           int64\n",
       "WeekOfYear                            0            0.00           int64\n",
       "Sales_per_customer                    0            0.00         float64\n",
       "Store_menc                          155            0.17         float64\n",
       "Store_fenc                          155            0.17         float64\n",
       "StoreType_a                           0            0.00           uint8\n",
       "StoreType_b                           0            0.00           uint8\n",
       "StoreType_c                           0            0.00           uint8\n",
       "StoreType_d                           0            0.00           uint8\n",
       "Assortment_orenc                      0            0.00           int64\n",
       "StateHoliday_benc                     0            0.00           int64"
      ]
     },
     "execution_count": 28,
     "metadata": {},
     "output_type": "execute_result"
    }
   ],
   "source": [
    "missing_report(data_test, pd)"
   ]
  },
  {
   "cell_type": "markdown",
   "metadata": {},
   "source": [
    "# 5. Feature engineering\n",
    "## 5.1 'CompetitionSincePeriod'"
   ]
  },
  {
   "cell_type": "code",
   "execution_count": null,
   "metadata": {},
   "outputs": [],
   "source": [
    "# CompetitionOpenSince[Month / Year]\n",
    "nonzero_sales['CompetitionOpenSincePeriod'] = (12 * (nonzero_sales['Year'] -\n",
    "                                                     nonzero_sales['CompetitionOpenSinceYear']\n",
    "                                                    )\n",
    "                                              ) + (nonzero_sales['Month'] - \n",
    "                                                   nonzero_sales['CompetitionOpenSinceMonth']\n",
    "                                                  )"
   ]
  },
  {
   "cell_type": "markdown",
   "metadata": {},
   "source": [
    "## 5.2 'Promo2SincePeriod'"
   ]
  },
  {
   "cell_type": "code",
   "execution_count": null,
   "metadata": {},
   "outputs": [],
   "source": [
    "# Promo2Since[Week / Year]\n",
    "nonzero_sales['Promo2SincePeriod'] = (52 * (nonzero_sales['Year'] - \n",
    "                                            nonzero_sales['Promo2SinceYear']\n",
    "                                           ) + (nonzero_sales['WeekOfYear'] - \n",
    "                                                nonzero_sales['Promo2SinceWeek']\n",
    "                                               )\n",
    "                                     )"
   ]
  },
  {
   "cell_type": "markdown",
   "metadata": {},
   "source": [
    "## 5.3 'PromoInterval'"
   ]
  },
  {
   "cell_type": "code",
   "execution_count": null,
   "metadata": {},
   "outputs": [],
   "source": [
    "# PromoInterval\n",
    "nonzero_sales = pd.get_dummies(nonzero_sales, \n",
    "                               columns=['PromoInterval'], \n",
    "                               drop_first=True)"
   ]
  },
  {
   "cell_type": "markdown",
   "metadata": {},
   "source": [
    "## 5.4 Drop the encoded columns"
   ]
  },
  {
   "cell_type": "code",
   "execution_count": null,
   "metadata": {},
   "outputs": [],
   "source": [
    "drop_encoded_cols = ['Date', \n",
    "                     'CompetitionOpenSinceMonth', 'CompetitionOpenSinceYear', \n",
    "                     'Promo2SinceWeek', 'Promo2SinceYear']"
   ]
  },
  {
   "cell_type": "code",
   "execution_count": null,
   "metadata": {},
   "outputs": [],
   "source": [
    "final_df = nonzero_sales.drop(drop_encoded_cols, axis=1)"
   ]
  },
  {
   "cell_type": "markdown",
   "metadata": {},
   "source": [
    "# Train test split"
   ]
  },
  {
   "cell_type": "code",
   "execution_count": null,
   "metadata": {},
   "outputs": [],
   "source": [
    "X = final_df.drop('Sales', axis=1)\n",
    "y = final_df[['Sales']]"
   ]
  },
  {
   "cell_type": "code",
   "execution_count": null,
   "metadata": {},
   "outputs": [],
   "source": [
    "X_train, X_test, y_train, y_test = train_test_split(X, \n",
    "                                                    y, \n",
    "                                                    test_size=0.2, \n",
    "                                                    random_state=42)"
   ]
  },
  {
   "cell_type": "markdown",
   "metadata": {},
   "source": [
    "# Model"
   ]
  },
  {
   "cell_type": "code",
   "execution_count": null,
   "metadata": {},
   "outputs": [],
   "source": [
    "rf = RandomForestRegressor(n_estimators=100, \n",
    "                           min_samples_leaf=3, \n",
    "                           max_depth=5, \n",
    "                           random_state=42)"
   ]
  },
  {
   "cell_type": "code",
   "execution_count": null,
   "metadata": {},
   "outputs": [],
   "source": [
    "rf.fit(X_train, y_train)"
   ]
  },
  {
   "cell_type": "code",
   "execution_count": null,
   "metadata": {},
   "outputs": [],
   "source": [
    "def metric(preds, actuals):\n",
    "    preds = preds.reshape(-1)\n",
    "    actuals = actuals.reshape(-1)\n",
    "    assert preds.shape == actuals.shape\n",
    "    return 100 * np.linalg.norm((actuals - preds) / actuals) / np.sqrt(preds.shape[0])"
   ]
  },
  {
   "cell_type": "code",
   "execution_count": null,
   "metadata": {},
   "outputs": [],
   "source": [
    "y_pred = rf.predict(X_test)\n",
    "\n",
    "rf_base_metric = metric(y_pred, y_test.values)\n",
    "\n",
    "print(\"Metric for baseline prediction = {}\".format(rf_base_metric))"
   ]
  },
  {
   "cell_type": "code",
   "execution_count": null,
   "metadata": {},
   "outputs": [],
   "source": []
  }
 ],
 "metadata": {
  "kernelspec": {
   "display_name": "Python 3",
   "language": "python",
   "name": "python3"
  },
  "language_info": {
   "codemirror_mode": {
    "name": "ipython",
    "version": 3
   },
   "file_extension": ".py",
   "mimetype": "text/x-python",
   "name": "python",
   "nbconvert_exporter": "python",
   "pygments_lexer": "ipython3",
   "version": "3.7.9"
  },
  "varInspector": {
   "cols": {
    "lenName": 16,
    "lenType": 16,
    "lenVar": 40
   },
   "kernels_config": {
    "python": {
     "delete_cmd_postfix": "",
     "delete_cmd_prefix": "del ",
     "library": "var_list.py",
     "varRefreshCmd": "print(var_dic_list())"
    },
    "r": {
     "delete_cmd_postfix": ") ",
     "delete_cmd_prefix": "rm(",
     "library": "var_list.r",
     "varRefreshCmd": "cat(var_dic_list()) "
    }
   },
   "types_to_exclude": [
    "module",
    "function",
    "builtin_function_or_method",
    "instance",
    "_Feature"
   ],
   "window_display": false
  }
 },
 "nbformat": 4,
 "nbformat_minor": 4
}
