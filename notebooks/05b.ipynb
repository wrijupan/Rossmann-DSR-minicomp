{
 "cells": [
  {
   "cell_type": "code",
   "execution_count": 1,
   "metadata": {},
   "outputs": [],
   "source": [
    "import pandas as pd\n",
    "import numpy as np\n",
    "\n",
    "from collections import Counter\n",
    "\n",
    "from sklearn.preprocessing import StandardScaler\n",
    "from sklearn.model_selection import train_test_split, cross_val_score\n",
    "from sklearn.ensemble import RandomForestRegressor\n",
    "\n",
    "import matplotlib.pyplot as plt\n",
    "import seaborn as sns\n",
    "%matplotlib inline"
   ]
  },
  {
   "cell_type": "markdown",
   "metadata": {},
   "source": [
    "# Load input data"
   ]
  },
  {
   "cell_type": "code",
   "execution_count": 2,
   "metadata": {},
   "outputs": [
    {
     "name": "stderr",
     "output_type": "stream",
     "text": [
      "/Applications/anaconda3/envs/mini-comp/lib/python3.7/site-packages/IPython/core/interactiveshell.py:3156: DtypeWarning: Columns (7) have mixed types.Specify dtype option on import or set low_memory=False.\n",
      "  interactivity=interactivity, compiler=compiler, result=result)\n"
     ]
    }
   ],
   "source": [
    "train = pd.read_csv(\"../data/train.csv\")\n",
    "store = pd.read_csv(\"../data/store.csv\")\n",
    "\n",
    "merged_train_store = pd.merge(store, train, on='Store', how='left')"
   ]
  },
  {
   "cell_type": "markdown",
   "metadata": {},
   "source": [
    "# Drop rows and Cols"
   ]
  },
  {
   "cell_type": "code",
   "execution_count": 3,
   "metadata": {},
   "outputs": [],
   "source": [
    "# Remove column with zero sales\n",
    "zero_sales_mask = (merged_train_store.Sales == 0) | merged_train_store.Sales.isnull()\n",
    "nonzero_sales = merged_train_store.loc[~zero_sales_mask]"
   ]
  },
  {
   "cell_type": "code",
   "execution_count": 4,
   "metadata": {},
   "outputs": [],
   "source": [
    "# Drop the Customers column\n",
    "nonzero_sales = nonzero_sales.drop(['Customers', 'Open'], axis=1)"
   ]
  },
  {
   "cell_type": "code",
   "execution_count": 5,
   "metadata": {},
   "outputs": [],
   "source": [
    "# Convert date to datetime\n",
    "nonzero_sales.Date = pd.to_datetime(nonzero_sales.Date)"
   ]
  },
  {
   "cell_type": "code",
   "execution_count": 6,
   "metadata": {},
   "outputs": [],
   "source": [
    "# Drop NULLs from some columns\n",
    "nonzero_sales = nonzero_sales.dropna(axis=0, subset=['CompetitionDistance','StateHoliday','SchoolHoliday','Promo'])"
   ]
  },
  {
   "cell_type": "code",
   "execution_count": 7,
   "metadata": {},
   "outputs": [],
   "source": [
    "# Outliers\n",
    "\n",
    "# Filter out columns where the competitionsinceyear is below 1990\n",
    "mask_1990 = nonzero_sales.CompetitionOpenSinceYear < 1990\n",
    "nonzero_sales = nonzero_sales[~mask_1990]"
   ]
  },
  {
   "cell_type": "markdown",
   "metadata": {},
   "source": [
    "# Helper functions: Missing value imputation"
   ]
  },
  {
   "cell_type": "code",
   "execution_count": 8,
   "metadata": {},
   "outputs": [],
   "source": [
    "def missing_report(df, percentage=False):\n",
    "    if percentage == False:\n",
    "        report = df.isnull().sum()\n",
    "    else:\n",
    "        report = round(df.isnull().sum() / df.shape[0] * 100, 2)\n",
    "    return report\n",
    "\n",
    "############################\n",
    "# Missing value imputation #\n",
    "############################\n",
    "def const_imputation(df, columns, values):\n",
    "    df[columns] = df[columns].fillna(values, axis=0)\n",
    "    return df\n",
    "\n",
    "def mean_imputation(df, columns, enforce_int=False):\n",
    "    if enforce_int:\n",
    "        mean_imp_values = np.floor(df[columns].mean())\n",
    "    else:\n",
    "        mean_imp_values = df[columns].mean()\n",
    "    return df.fillna(mean_imp_values, axis=0), mean_imp_values\n",
    "\n",
    "##############################\n",
    "# Categorical value encoding #\n",
    "##############################\n",
    "def freq_encoding(df, column):\n",
    "    fenc_values = Counter(df[column])\n",
    "    new_column = column + '_fenc'\n",
    "    df[new_column] = df[column].map(fenc_values)\n",
    "    return df, fenc_values\n",
    "\n",
    "def mean_encoding(df, column):\n",
    "    menc_values = df.groupby(by = column).mean()['Sales']\n",
    "    df[column + '_menc'] = df[column].map(menc_values)\n",
    "    return df, menc_values\n",
    "\n",
    "def ordinal_encoding(df, column, ordinal_dict):\n",
    "    df[column + '_orenc'] = df[column].map(ordinal_dict)\n",
    "    return df"
   ]
  },
  {
   "cell_type": "code",
   "execution_count": 9,
   "metadata": {
    "scrolled": false
   },
   "outputs": [
    {
     "data": {
      "text/plain": [
       "Store                         0.00\n",
       "StoreType                     0.00\n",
       "Assortment                    0.00\n",
       "CompetitionDistance           0.00\n",
       "CompetitionOpenSinceMonth    31.67\n",
       "CompetitionOpenSinceYear     31.67\n",
       "Promo2                        0.00\n",
       "Promo2SinceWeek              49.33\n",
       "Promo2SinceYear              49.33\n",
       "PromoInterval                49.33\n",
       "Date                          0.00\n",
       "DayOfWeek                     2.98\n",
       "Sales                         0.00\n",
       "Promo                         0.00\n",
       "StateHoliday                  0.00\n",
       "SchoolHoliday                 0.00\n",
       "dtype: float64"
      ]
     },
     "execution_count": 9,
     "metadata": {},
     "output_type": "execute_result"
    }
   ],
   "source": [
    "missing_report(nonzero_sales, percentage=True)"
   ]
  },
  {
   "cell_type": "code",
   "execution_count": 10,
   "metadata": {},
   "outputs": [],
   "source": [
    "# Impute CompetitionOpenSinceMonth / CompetitionOpenSinceYear\n",
    "nonzero_sales, mean_imp_values = mean_imputation(nonzero_sales, \n",
    "                                                 ['CompetitionOpenSinceMonth', 'CompetitionOpenSinceYear'])"
   ]
  },
  {
   "cell_type": "code",
   "execution_count": 11,
   "metadata": {},
   "outputs": [],
   "source": [
    "# Impute Promo2SinceWeek/Year\n",
    "nonzero_sales = const_imputation(nonzero_sales,['Promo2SinceWeek', 'Promo2SinceYear'],values=0)"
   ]
  },
  {
   "cell_type": "code",
   "execution_count": null,
   "metadata": {},
   "outputs": [],
   "source": [
    "# Impute Promo Interval\n",
    "nonzero_sales = const_imputation(nonzero_sales,['PromoInterval'],values='unavailable')"
   ]
  },
  {
   "cell_type": "markdown",
   "metadata": {},
   "source": [
    "# Encoding"
   ]
  },
  {
   "cell_type": "code",
   "execution_count": 12,
   "metadata": {
    "scrolled": false
   },
   "outputs": [],
   "source": [
    "# Store\n",
    "nonzero_sales, fenq_values = freq_encoding(nonzero_sales, 'Store')\n",
    "nonzero_sales, menc_values = mean_encoding(nonzero_sales, 'Store')"
   ]
  },
  {
   "cell_type": "code",
   "execution_count": 20,
   "metadata": {},
   "outputs": [],
   "source": [
    "# StoreType\n",
    "nonzero_sales = pd.get_dummies(nonzero_sales, columns=['StoreType'], drop_first=True)"
   ]
  },
  {
   "cell_type": "code",
   "execution_count": 15,
   "metadata": {},
   "outputs": [],
   "source": [
    "# Assortment\n",
    "nonzero_sales = ordinal_encoding(nonzero_sales, 'Assortment', {'a':1, 'b':2, 'c':3})"
   ]
  },
  {
   "cell_type": "code",
   "execution_count": 16,
   "metadata": {},
   "outputs": [
    {
     "data": {
      "text/plain": [
       "Store                        0.00\n",
       "StoreType                    0.00\n",
       "Assortment                   0.00\n",
       "CompetitionDistance          0.00\n",
       "CompetitionOpenSinceMonth    0.00\n",
       "CompetitionOpenSinceYear     0.00\n",
       "Promo2                       0.00\n",
       "Promo2SinceWeek              0.00\n",
       "Promo2SinceYear              0.00\n",
       "PromoInterval                0.00\n",
       "Date                         0.00\n",
       "DayOfWeek                    2.98\n",
       "Sales                        0.00\n",
       "Promo                        0.00\n",
       "StateHoliday                 0.00\n",
       "SchoolHoliday                0.00\n",
       "Store_fenc                   0.00\n",
       "Store_menc                   0.00\n",
       "Assortment_orenc             0.00\n",
       "dtype: float64"
      ]
     },
     "execution_count": 16,
     "metadata": {},
     "output_type": "execute_result"
    }
   ],
   "source": [
    "missing_report(nonzero_sales, percentage=True)"
   ]
  },
  {
   "cell_type": "code",
   "execution_count": 22,
   "metadata": {},
   "outputs": [],
   "source": [
    "# Date\n",
    "nonzero_sales['Month'] = nonzero_sales['Date'].dt.month\n",
    "nonzero_sales['DayOfMonth'] = nonzero_sales['Date'].dt.day\n",
    "nonzero_sales['Year'] = nonzero_sales['Date'].dt.year\n",
    "nonzero_sales['DayOfWeek'] = nonzero_sales['Date'].dt.dayofweek\n",
    "nonzero_sales['WeekOfYear'] = nonzero_sales['Date'].dt.weekofyear"
   ]
  },
  {
   "cell_type": "code",
   "execution_count": 23,
   "metadata": {},
   "outputs": [
    {
     "data": {
      "text/plain": [
       "Store                        0\n",
       "Assortment                   0\n",
       "CompetitionDistance          0\n",
       "CompetitionOpenSinceMonth    0\n",
       "CompetitionOpenSinceYear     0\n",
       "Promo2                       0\n",
       "Promo2SinceWeek              0\n",
       "Promo2SinceYear              0\n",
       "PromoInterval                0\n",
       "Date                         0\n",
       "DayOfWeek                    0\n",
       "Sales                        0\n",
       "Promo                        0\n",
       "StateHoliday                 0\n",
       "SchoolHoliday                0\n",
       "Store_fenc                   0\n",
       "StoreType_b                  0\n",
       "StoreType_c                  0\n",
       "StoreType_d                  0\n",
       "Assortment_orenc             0\n",
       "Month                        0\n",
       "DayOfMonth                   0\n",
       "Year                         0\n",
       "WeekOfYear                   0\n",
       "dtype: int64"
      ]
     },
     "execution_count": 23,
     "metadata": {},
     "output_type": "execute_result"
    }
   ],
   "source": [
    "nonzero_sales.isnull().sum()"
   ]
  },
  {
   "cell_type": "code",
   "execution_count": 24,
   "metadata": {},
   "outputs": [],
   "source": [
    "# CompetitionOpenSince[Month / Year]\n",
    "nonzero_sales['CompetitionOpenSincePeriod'] = (12 * (nonzero_sales['Year'] -\n",
    "                                                     nonzero_sales['CompetitionOpenSinceYear']\n",
    "                                                    )\n",
    "                                              ) + (nonzero_sales['Month'] - \n",
    "                                                   nonzero_sales['CompetitionOpenSinceMonth']\n",
    "                                                  )"
   ]
  },
  {
   "cell_type": "code",
   "execution_count": 25,
   "metadata": {},
   "outputs": [],
   "source": [
    "# Promo2Since[Week / Year]\n",
    "nonzero_sales['Promo2SincePeriod'] = (52 * (nonzero_sales['Year'] - \n",
    "                                            nonzero_sales['Promo2SinceYear']\n",
    "                                           ) + (nonzero_sales['WeekOfYear'] - \n",
    "                                                nonzero_sales['Promo2SinceWeek']\n",
    "                                               )\n",
    "                                     )"
   ]
  },
  {
   "cell_type": "code",
   "execution_count": 26,
   "metadata": {},
   "outputs": [],
   "source": [
    "# PromoInterval\n",
    "nonzero_sales = pd.get_dummies(nonzero_sales, \n",
    "                               columns=['PromoInterval'], \n",
    "                               drop_first=True)"
   ]
  },
  {
   "cell_type": "code",
   "execution_count": 27,
   "metadata": {},
   "outputs": [],
   "source": [
    "# StateHoliday\n",
    "state_holiday_enc = {'0':0, 0.0:0, 'a':1, 'b':1, 'c':1}\n",
    "nonzero_sales['StateHoliday_benc'] = nonzero_sales.StateHoliday.map(state_holiday_enc)"
   ]
  },
  {
   "cell_type": "markdown",
   "metadata": {},
   "source": [
    "# Drop the encoded columns"
   ]
  },
  {
   "cell_type": "code",
   "execution_count": 30,
   "metadata": {},
   "outputs": [],
   "source": [
    "drop_encoded_cols = ['Store', 'Assortment', 'Date', \n",
    "                     'CompetitionOpenSinceMonth', 'CompetitionOpenSinceYear', \n",
    "                     'Promo2SinceWeek', 'Promo2SinceYear', \n",
    "                     'StateHoliday']"
   ]
  },
  {
   "cell_type": "code",
   "execution_count": 31,
   "metadata": {},
   "outputs": [],
   "source": [
    "final_df = nonzero_sales.drop(drop_encoded_cols, axis=1)"
   ]
  },
  {
   "cell_type": "markdown",
   "metadata": {},
   "source": [
    "# Train test split"
   ]
  },
  {
   "cell_type": "code",
   "execution_count": 32,
   "metadata": {},
   "outputs": [],
   "source": [
    "X = final_df.drop('Sales', axis=1)\n",
    "y = final_df[['Sales']]"
   ]
  },
  {
   "cell_type": "code",
   "execution_count": 33,
   "metadata": {},
   "outputs": [],
   "source": [
    "X_train, X_test, y_train, y_test = train_test_split(X, \n",
    "                                                    y, \n",
    "                                                    test_size=0.2, \n",
    "                                                    random_state=42)"
   ]
  },
  {
   "cell_type": "markdown",
   "metadata": {},
   "source": [
    "# Model"
   ]
  },
  {
   "cell_type": "code",
   "execution_count": 34,
   "metadata": {},
   "outputs": [],
   "source": [
    "rf = RandomForestRegressor(n_estimators=100, \n",
    "                           min_samples_leaf=3, \n",
    "                           max_depth=5, \n",
    "                           random_state=42)"
   ]
  },
  {
   "cell_type": "code",
   "execution_count": 35,
   "metadata": {},
   "outputs": [
    {
     "name": "stderr",
     "output_type": "stream",
     "text": [
      "<ipython-input-35-168a6fc83696>:1: DataConversionWarning: A column-vector y was passed when a 1d array was expected. Please change the shape of y to (n_samples,), for example using ravel().\n",
      "  rf.fit(X_train, y_train)\n"
     ]
    },
    {
     "data": {
      "text/plain": [
       "RandomForestRegressor(bootstrap=True, ccp_alpha=0.0, criterion='mse',\n",
       "                      max_depth=5, max_features='auto', max_leaf_nodes=None,\n",
       "                      max_samples=None, min_impurity_decrease=0.0,\n",
       "                      min_impurity_split=None, min_samples_leaf=3,\n",
       "                      min_samples_split=2, min_weight_fraction_leaf=0.0,\n",
       "                      n_estimators=100, n_jobs=None, oob_score=False,\n",
       "                      random_state=42, verbose=0, warm_start=False)"
      ]
     },
     "execution_count": 35,
     "metadata": {},
     "output_type": "execute_result"
    }
   ],
   "source": [
    "rf.fit(X_train, y_train)"
   ]
  },
  {
   "cell_type": "code",
   "execution_count": 36,
   "metadata": {},
   "outputs": [],
   "source": [
    "def metric(preds, actuals):\n",
    "    preds = preds.reshape(-1)\n",
    "    actuals = actuals.reshape(-1)\n",
    "    assert preds.shape == actuals.shape\n",
    "    return 100 * np.linalg.norm((actuals - preds) / actuals) / np.sqrt(preds.shape[0])"
   ]
  },
  {
   "cell_type": "code",
   "execution_count": 37,
   "metadata": {},
   "outputs": [
    {
     "name": "stdout",
     "output_type": "stream",
     "text": [
      "Metric for baseline prediction = 49.27381478129825\n"
     ]
    }
   ],
   "source": [
    "y_pred = rf.predict(X_test)\n",
    "\n",
    "rf_base_metric = metric(y_pred, y_test.values)\n",
    "\n",
    "print(\"Metric for baseline prediction = {}\".format(rf_base_metric))"
   ]
  },
  {
   "cell_type": "code",
   "execution_count": null,
   "metadata": {},
   "outputs": [],
   "source": []
  }
 ],
 "metadata": {
  "kernelspec": {
   "display_name": "Python 3",
   "language": "python",
   "name": "python3"
  },
  "language_info": {
   "codemirror_mode": {
    "name": "ipython",
    "version": 3
   },
   "file_extension": ".py",
   "mimetype": "text/x-python",
   "name": "python",
   "nbconvert_exporter": "python",
   "pygments_lexer": "ipython3",
   "version": "3.7.9"
  },
  "varInspector": {
   "cols": {
    "lenName": 16,
    "lenType": 16,
    "lenVar": 40
   },
   "kernels_config": {
    "python": {
     "delete_cmd_postfix": "",
     "delete_cmd_prefix": "del ",
     "library": "var_list.py",
     "varRefreshCmd": "print(var_dic_list())"
    },
    "r": {
     "delete_cmd_postfix": ") ",
     "delete_cmd_prefix": "rm(",
     "library": "var_list.r",
     "varRefreshCmd": "cat(var_dic_list()) "
    }
   },
   "types_to_exclude": [
    "module",
    "function",
    "builtin_function_or_method",
    "instance",
    "_Feature"
   ],
   "window_display": false
  }
 },
 "nbformat": 4,
 "nbformat_minor": 4
}
